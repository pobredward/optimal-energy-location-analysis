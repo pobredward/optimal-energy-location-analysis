{
 "cells": [
  {
   "cell_type": "markdown",
   "id": "7f505e72",
   "metadata": {},
   "source": [
    "# 20210502 기준 Public Score 9등 코드"
   ]
  },
  {
   "cell_type": "markdown",
   "id": "a58a3238",
   "metadata": {},
   "source": [
    "# 동서발전 태양광 발전량 예측 AI 경진대회"
   ]
  },
  {
   "cell_type": "code",
   "execution_count": 380,
   "id": "684107ca",
   "metadata": {},
   "outputs": [],
   "source": [
    "import numpy as np\n",
    "import pandas as pd\n",
    "pd.set_option(\"display.max_rows\", 100)\n",
    "pd.set_option(\"display.max_columns\", 30)\n",
    "import matplotlib.pyplot as plt\n",
    "import seaborn as sns\n",
    "import missingno\n",
    "import warnings\n",
    "warnings.filterwarnings(action='ignore')\n",
    "\n",
    "from sklearn.preprocessing import MinMaxScaler\n",
    "from sklearn.preprocessing import StandardScaler\n",
    "\n",
    "from fbprophet import Prophet\n",
    "import lightgbm as lgb\n",
    "from lightgbm import LGBMClassifier, plot_importance, plot_metric, plot_tree\n",
    "from sklearn.metrics import mean_squared_error, roc_auc_score, precision_score, r2_score\n",
    "from sklearn.preprocessing import StandardScaler\n",
    "from sklearn.model_selection import train_test_split"
   ]
  },
  {
   "cell_type": "markdown",
   "id": "e7401e81",
   "metadata": {},
   "source": [
    "# 1. 문제 정의 (Problem identification)"
   ]
  },
  {
   "cell_type": "markdown",
   "id": "dacac489",
   "metadata": {},
   "source": [
    "나중에 정의할게요"
   ]
  },
  {
   "cell_type": "markdown",
   "id": "02e23d67",
   "metadata": {},
   "source": [
    "# 2. 데이터수집 (Collecting data sets)"
   ]
  },
  {
   "cell_type": "markdown",
   "id": "4e81f97b",
   "metadata": {},
   "source": [
    "## (1) 데이콘 기본 데이터"
   ]
  },
  {
   "cell_type": "markdown",
   "id": "f7069329",
   "metadata": {},
   "source": [
    "- site_info.csv\n",
    "- energy.csv\n",
    "- dangjin_fcst_data.csv\n",
    "- ulsan_fcst_data.csv\n",
    "- dangjin_obs_data.csv\n",
    "- ulsan_obs_data.csv\n",
    "- sample_submission.csv"
   ]
  },
  {
   "cell_type": "code",
   "execution_count": null,
   "id": "625e96c7",
   "metadata": {},
   "outputs": [],
   "source": [
    "site_info = pd.read_csv('data/base/site_info.csv')\n",
    "energy = pd.read_csv('data/base/energy.csv')\n",
    "dangjin_fcst = pd.read_csv('data/base/dangjin_fcst_data.csv')\n",
    "ulsan_fcst = pd.read_csv('data/base/ulsan_fcst_data.csv')\n",
    "dangjin_obs = pd.read_csv('data/base/dangjin_obs_data.csv')\n",
    "ulsan_obs = pd.read_csv('data/base/ulsan_obs_data.csv')\n",
    "sample_submission = pd.read_csv('data/base/sample_submission.csv')"
   ]
  },
  {
   "cell_type": "markdown",
   "id": "aa790147",
   "metadata": {},
   "source": [
    "## (2) 공공데이터포털"
   ]
  },
  {
   "cell_type": "markdown",
   "id": "6adbfc53",
   "metadata": {},
   "source": [
    "**한국동서발전(주)_태양광 발전량 현황**<br>\n",
    "https://www.data.go.kr/data/15003553/fileData.do<br>\n",
    "한국동서발전의 태양광 발전량 현황(용량, 발전량 등)을 제공(단위: kWh)"
   ]
  },
  {
   "cell_type": "code",
   "execution_count": null,
   "id": "10d544bb",
   "metadata": {},
   "outputs": [],
   "source": [
    "new_energy = pd.read_csv('data/energy/new_energy.csv', index_col=0)\n",
    "new_energy"
   ]
  },
  {
   "cell_type": "markdown",
   "id": "7d20d37d",
   "metadata": {},
   "source": [
    "## (3) 기상청 자료개방포털"
   ]
  },
  {
   "cell_type": "markdown",
   "id": "c1413374",
   "metadata": {},
   "source": [
    "**단기예보**<br>https://data.kma.go.kr/data/rmt/rmtList.do?code=420&pgmNo=572<br>\n",
    "단기예보는 예보시점부터 3일 이내 기간에 대하여 행하는 예보로, 전국의 읍,면,동 단위로 상세한 날씨를 예보하기 위하여 2시부터 3시간 간격으로 일 8회 발표하며, 예보시간은 +4시간부터 +58~67시간까지 생산"
   ]
  },
  {
   "cell_type": "markdown",
   "id": "ccda3bc5",
   "metadata": {},
   "source": [
    "7년치 데이터 1년씩 7개당 각 변수 7개, 총 49개의 csv를 모두 전처리한 후 임포트"
   ]
  },
  {
   "cell_type": "code",
   "execution_count": null,
   "id": "f76aa9b9",
   "metadata": {},
   "outputs": [],
   "source": [
    "new_dangjin_fcst = pd.read_csv('data/dangjin_fcst/new_dangjin_fcst.csv', index_col=0)\n",
    "new_ulsan_fcst = pd.read_csv('data/ulsan_fcst/new_ulsan_fcst.csv', index_col=0)\n",
    "new_ulsan_fcst"
   ]
  },
  {
   "cell_type": "markdown",
   "id": "19b64449",
   "metadata": {},
   "source": [
    "**종관기상관측(ASOS)자료**<br>https://data.kma.go.kr/data/grnd/selectAsosRltmList.do?pgmNo=36<br>\n",
    "종관기상관측이란 종관규모의 날씨를 파악하기 위하여 정해진 시각에 모든 관측소에서 같은 시각에 실시하는 지상관측\n",
    "종관규모는 일기도에 표현되어 있는 보통의 고기압이나 저기압의 공간적 크기 및 수명을 말하며, 주로 매일의 날씨 현상을 뜻함"
   ]
  },
  {
   "cell_type": "code",
   "execution_count": null,
   "id": "a0b63a8d",
   "metadata": {},
   "outputs": [],
   "source": [
    "dangjin_solar = pd.read_csv('data/dangjin_obs/OBS_ASOS_TIM.csv', names=['time', '일조량', '일사량'], header=0)\n",
    "dangjin_solar.dropna()"
   ]
  },
  {
   "cell_type": "markdown",
   "id": "8518d2c4",
   "metadata": {},
   "source": [
    "## (4) Solcast"
   ]
  },
  {
   "cell_type": "markdown",
   "id": "dc9510f2",
   "metadata": {},
   "source": [
    "**Solar Radiation Data**<br>https://toolkit.solcast.com.au/live-forecast<br>\n",
    "Zenith Angle 관측 데이터를 가져오기 위하여 Solcast 데이터 활용"
   ]
  },
  {
   "cell_type": "code",
   "execution_count": null,
   "id": "a490367b",
   "metadata": {},
   "outputs": [],
   "source": [
    "dangjin_zenith = pd.read_csv('./data/dangjin_obs/dangjin_zenith.csv')\n",
    "ulsan_zenith = pd.read_csv('./data/ulsan_obs/ulsan_zenith.csv')\n",
    "ulsan_zenith"
   ]
  },
  {
   "cell_type": "markdown",
   "id": "311256aa",
   "metadata": {},
   "source": [
    "## (5)  Stellarium"
   ]
  },
  {
   "cell_type": "markdown",
   "id": "1ef22cd6",
   "metadata": {},
   "source": [
    "**Solar Data**<br>http://stellarium.org/<br>\n",
    "태양거리 관측 데이터를 가져오기 위하여 Stellarium 데이터 활용"
   ]
  },
  {
   "cell_type": "code",
   "execution_count": 2,
   "id": "32d3e864",
   "metadata": {},
   "outputs": [
    {
     "data": {
      "text/html": [
       "<div>\n",
       "<style scoped>\n",
       "    .dataframe tbody tr th:only-of-type {\n",
       "        vertical-align: middle;\n",
       "    }\n",
       "\n",
       "    .dataframe tbody tr th {\n",
       "        vertical-align: top;\n",
       "    }\n",
       "\n",
       "    .dataframe thead th {\n",
       "        text-align: right;\n",
       "    }\n",
       "</style>\n",
       "<table border=\"1\" class=\"dataframe\">\n",
       "  <thead>\n",
       "    <tr style=\"text-align: right;\">\n",
       "      <th></th>\n",
       "      <th>이름</th>\n",
       "      <th>날짜 및 시간</th>\n",
       "      <th>방위각</th>\n",
       "      <th>고도</th>\n",
       "      <th>등급</th>\n",
       "      <th>위상</th>\n",
       "      <th>거리, AU</th>\n",
       "      <th>이각</th>\n",
       "    </tr>\n",
       "  </thead>\n",
       "  <tbody>\n",
       "    <tr>\n",
       "      <th>0</th>\n",
       "      <td>태양</td>\n",
       "      <td>2015.1.1 0:00</td>\n",
       "      <td>+335°41'31.0\"</td>\n",
       "      <td>-76°13'19.0\"</td>\n",
       "      <td>-26.63</td>\n",
       "      <td>—</td>\n",
       "      <td>0.983361</td>\n",
       "      <td>—</td>\n",
       "    </tr>\n",
       "    <tr>\n",
       "      <th>1</th>\n",
       "      <td>태양</td>\n",
       "      <td>2015.1.1 1:00</td>\n",
       "      <td>+33°35'52.8\"</td>\n",
       "      <td>-75°07'57.2\"</td>\n",
       "      <td>-26.63</td>\n",
       "      <td>—</td>\n",
       "      <td>0.983360</td>\n",
       "      <td>—</td>\n",
       "    </tr>\n",
       "    <tr>\n",
       "      <th>2</th>\n",
       "      <td>태양</td>\n",
       "      <td>2015.1.1 2:00</td>\n",
       "      <td>+64°55'44.3\"</td>\n",
       "      <td>-65°43'38.8\"</td>\n",
       "      <td>-26.62</td>\n",
       "      <td>—</td>\n",
       "      <td>0.983357</td>\n",
       "      <td>—</td>\n",
       "    </tr>\n",
       "    <tr>\n",
       "      <th>3</th>\n",
       "      <td>태양</td>\n",
       "      <td>2015.1.1 3:00</td>\n",
       "      <td>+80°03'45.1\"</td>\n",
       "      <td>-54°06'54.2\"</td>\n",
       "      <td>-26.60</td>\n",
       "      <td>—</td>\n",
       "      <td>0.983351</td>\n",
       "      <td>—</td>\n",
       "    </tr>\n",
       "    <tr>\n",
       "      <th>4</th>\n",
       "      <td>태양</td>\n",
       "      <td>2015.1.1 4:00</td>\n",
       "      <td>+90°01'54.6\"</td>\n",
       "      <td>-42°00'21.9\"</td>\n",
       "      <td>-26.56</td>\n",
       "      <td>—</td>\n",
       "      <td>0.983344</td>\n",
       "      <td>—</td>\n",
       "    </tr>\n",
       "    <tr>\n",
       "      <th>...</th>\n",
       "      <td>...</td>\n",
       "      <td>...</td>\n",
       "      <td>...</td>\n",
       "      <td>...</td>\n",
       "      <td>...</td>\n",
       "      <td>...</td>\n",
       "      <td>...</td>\n",
       "      <td>...</td>\n",
       "    </tr>\n",
       "    <tr>\n",
       "      <th>54067</th>\n",
       "      <td>태양</td>\n",
       "      <td>2021.3.2 19:00</td>\n",
       "      <td>+268°06'09.4\"</td>\n",
       "      <td>-9°28'00.9\"</td>\n",
       "      <td>-25.54</td>\n",
       "      <td>—</td>\n",
       "      <td>0.991109</td>\n",
       "      <td>—</td>\n",
       "    </tr>\n",
       "    <tr>\n",
       "      <th>54068</th>\n",
       "      <td>태양</td>\n",
       "      <td>2021.3.2 20:00</td>\n",
       "      <td>+277°04'29.9\"</td>\n",
       "      <td>-21°36'11.6\"</td>\n",
       "      <td>-26.33</td>\n",
       "      <td>—</td>\n",
       "      <td>0.991128</td>\n",
       "      <td>—</td>\n",
       "    </tr>\n",
       "    <tr>\n",
       "      <th>54069</th>\n",
       "      <td>태양</td>\n",
       "      <td>2021.3.2 21:00</td>\n",
       "      <td>+287°14'05.8\"</td>\n",
       "      <td>-33°28'53.7\"</td>\n",
       "      <td>-26.49</td>\n",
       "      <td>—</td>\n",
       "      <td>0.991146</td>\n",
       "      <td>—</td>\n",
       "    </tr>\n",
       "    <tr>\n",
       "      <th>54070</th>\n",
       "      <td>태양</td>\n",
       "      <td>2021.3.2 22:00</td>\n",
       "      <td>+300°01'30.0\"</td>\n",
       "      <td>-44°37'21.4\"</td>\n",
       "      <td>-26.56</td>\n",
       "      <td>—</td>\n",
       "      <td>0.991163</td>\n",
       "      <td>—</td>\n",
       "    </tr>\n",
       "    <tr>\n",
       "      <th>54071</th>\n",
       "      <td>태양</td>\n",
       "      <td>2021.3.2 23:00</td>\n",
       "      <td>+317°47'13.8\"</td>\n",
       "      <td>-54°06'49.9\"</td>\n",
       "      <td>-26.59</td>\n",
       "      <td>—</td>\n",
       "      <td>0.991178</td>\n",
       "      <td>—</td>\n",
       "    </tr>\n",
       "  </tbody>\n",
       "</table>\n",
       "<p>54072 rows × 8 columns</p>\n",
       "</div>"
      ],
      "text/plain": [
       "       이름         날짜 및 시간            방위각            고도     등급 위상    거리, AU 이각\n",
       "0      태양   2015.1.1 0:00  +335°41'31.0\"  -76°13'19.0\" -26.63  —  0.983361  —\n",
       "1      태양   2015.1.1 1:00   +33°35'52.8\"  -75°07'57.2\" -26.63  —  0.983360  —\n",
       "2      태양   2015.1.1 2:00   +64°55'44.3\"  -65°43'38.8\" -26.62  —  0.983357  —\n",
       "3      태양   2015.1.1 3:00   +80°03'45.1\"  -54°06'54.2\" -26.60  —  0.983351  —\n",
       "4      태양   2015.1.1 4:00   +90°01'54.6\"  -42°00'21.9\" -26.56  —  0.983344  —\n",
       "...    ..             ...            ...           ...    ... ..       ... ..\n",
       "54067  태양  2021.3.2 19:00  +268°06'09.4\"   -9°28'00.9\" -25.54  —  0.991109  —\n",
       "54068  태양  2021.3.2 20:00  +277°04'29.9\"  -21°36'11.6\" -26.33  —  0.991128  —\n",
       "54069  태양  2021.3.2 21:00  +287°14'05.8\"  -33°28'53.7\" -26.49  —  0.991146  —\n",
       "54070  태양  2021.3.2 22:00  +300°01'30.0\"  -44°37'21.4\" -26.56  —  0.991163  —\n",
       "54071  태양  2021.3.2 23:00  +317°47'13.8\"  -54°06'49.9\" -26.59  —  0.991178  —\n",
       "\n",
       "[54072 rows x 8 columns]"
      ]
     },
     "execution_count": 2,
     "metadata": {},
     "output_type": "execute_result"
    }
   ],
   "source": [
    "dangjin_distance = pd.read_csv('data/dangjin_obs/dangjin_stellarium.csv')\n",
    "ulsan_distance = pd.read_csv('data/ulsan_obs/ulsan_stellarium.csv')\n",
    "ulsan_distance"
   ]
  },
  {
   "cell_type": "markdown",
   "id": "a68be04b",
   "metadata": {},
   "source": [
    "# 3. 데이터 전처리 (Preprocessing)"
   ]
  },
  {
   "cell_type": "markdown",
   "id": "bdc230da",
   "metadata": {},
   "source": [
    "## (1) 발전량 데이터 전처리"
   ]
  },
  {
   "cell_type": "code",
   "execution_count": 3,
   "id": "dc27b8c0",
   "metadata": {},
   "outputs": [
    {
     "data": {
      "text/html": [
       "<div>\n",
       "<style scoped>\n",
       "    .dataframe tbody tr th:only-of-type {\n",
       "        vertical-align: middle;\n",
       "    }\n",
       "\n",
       "    .dataframe tbody tr th {\n",
       "        vertical-align: top;\n",
       "    }\n",
       "\n",
       "    .dataframe thead th {\n",
       "        text-align: right;\n",
       "    }\n",
       "</style>\n",
       "<table border=\"1\" class=\"dataframe\">\n",
       "  <thead>\n",
       "    <tr style=\"text-align: right;\">\n",
       "      <th></th>\n",
       "      <th>time</th>\n",
       "      <th>dangjin_floating</th>\n",
       "      <th>dangjin_warehouse</th>\n",
       "      <th>dangjin</th>\n",
       "      <th>ulsan</th>\n",
       "    </tr>\n",
       "  </thead>\n",
       "  <tbody>\n",
       "    <tr>\n",
       "      <th>0</th>\n",
       "      <td>2015-01-01 01:00:00</td>\n",
       "      <td>NaN</td>\n",
       "      <td>0.0</td>\n",
       "      <td>0.0</td>\n",
       "      <td>0.0</td>\n",
       "    </tr>\n",
       "    <tr>\n",
       "      <th>1</th>\n",
       "      <td>2015-01-01 02:00:00</td>\n",
       "      <td>NaN</td>\n",
       "      <td>0.0</td>\n",
       "      <td>0.0</td>\n",
       "      <td>0.0</td>\n",
       "    </tr>\n",
       "    <tr>\n",
       "      <th>2</th>\n",
       "      <td>2015-01-01 03:00:00</td>\n",
       "      <td>NaN</td>\n",
       "      <td>0.0</td>\n",
       "      <td>0.0</td>\n",
       "      <td>0.0</td>\n",
       "    </tr>\n",
       "    <tr>\n",
       "      <th>3</th>\n",
       "      <td>2015-01-01 04:00:00</td>\n",
       "      <td>NaN</td>\n",
       "      <td>0.0</td>\n",
       "      <td>0.0</td>\n",
       "      <td>0.0</td>\n",
       "    </tr>\n",
       "    <tr>\n",
       "      <th>4</th>\n",
       "      <td>2015-01-01 05:00:00</td>\n",
       "      <td>NaN</td>\n",
       "      <td>0.0</td>\n",
       "      <td>0.0</td>\n",
       "      <td>0.0</td>\n",
       "    </tr>\n",
       "    <tr>\n",
       "      <th>...</th>\n",
       "      <td>...</td>\n",
       "      <td>...</td>\n",
       "      <td>...</td>\n",
       "      <td>...</td>\n",
       "      <td>...</td>\n",
       "    </tr>\n",
       "    <tr>\n",
       "      <th>25627</th>\n",
       "      <td>2021-01-31 20:00:00</td>\n",
       "      <td>0.0</td>\n",
       "      <td>0.0</td>\n",
       "      <td>0.0</td>\n",
       "      <td>0.0</td>\n",
       "    </tr>\n",
       "    <tr>\n",
       "      <th>25628</th>\n",
       "      <td>2021-01-31 21:00:00</td>\n",
       "      <td>0.0</td>\n",
       "      <td>0.0</td>\n",
       "      <td>0.0</td>\n",
       "      <td>0.0</td>\n",
       "    </tr>\n",
       "    <tr>\n",
       "      <th>25629</th>\n",
       "      <td>2021-01-31 22:00:00</td>\n",
       "      <td>0.0</td>\n",
       "      <td>0.0</td>\n",
       "      <td>0.0</td>\n",
       "      <td>0.0</td>\n",
       "    </tr>\n",
       "    <tr>\n",
       "      <th>25630</th>\n",
       "      <td>2021-01-31 23:00:00</td>\n",
       "      <td>0.0</td>\n",
       "      <td>0.0</td>\n",
       "      <td>0.0</td>\n",
       "      <td>0.0</td>\n",
       "    </tr>\n",
       "    <tr>\n",
       "      <th>25631</th>\n",
       "      <td>2021-02-01 00:00:00</td>\n",
       "      <td>0.0</td>\n",
       "      <td>0.0</td>\n",
       "      <td>0.0</td>\n",
       "      <td>0.0</td>\n",
       "    </tr>\n",
       "  </tbody>\n",
       "</table>\n",
       "<p>53352 rows × 5 columns</p>\n",
       "</div>"
      ],
      "text/plain": [
       "                      time  dangjin_floating  dangjin_warehouse  dangjin  \\\n",
       "0      2015-01-01 01:00:00               NaN                0.0      0.0   \n",
       "1      2015-01-01 02:00:00               NaN                0.0      0.0   \n",
       "2      2015-01-01 03:00:00               NaN                0.0      0.0   \n",
       "3      2015-01-01 04:00:00               NaN                0.0      0.0   \n",
       "4      2015-01-01 05:00:00               NaN                0.0      0.0   \n",
       "...                    ...               ...                ...      ...   \n",
       "25627  2021-01-31 20:00:00               0.0                0.0      0.0   \n",
       "25628  2021-01-31 21:00:00               0.0                0.0      0.0   \n",
       "25629  2021-01-31 22:00:00               0.0                0.0      0.0   \n",
       "25630  2021-01-31 23:00:00               0.0                0.0      0.0   \n",
       "25631  2021-02-01 00:00:00               0.0                0.0      0.0   \n",
       "\n",
       "       ulsan  \n",
       "0        0.0  \n",
       "1        0.0  \n",
       "2        0.0  \n",
       "3        0.0  \n",
       "4        0.0  \n",
       "...      ...  \n",
       "25627    0.0  \n",
       "25628    0.0  \n",
       "25629    0.0  \n",
       "25630    0.0  \n",
       "25631    0.0  \n",
       "\n",
       "[53352 rows x 5 columns]"
      ]
     },
     "execution_count": 3,
     "metadata": {},
     "output_type": "execute_result"
    }
   ],
   "source": [
    "new_energy = pd.read_csv('data/energy/new_energy.csv', index_col=0)\n",
    "new_energy"
   ]
  },
  {
   "cell_type": "markdown",
   "id": "48b32976",
   "metadata": {},
   "source": [
    "### 날짜 형식으로 변환 후 결측치 확인 "
   ]
  },
  {
   "cell_type": "code",
   "execution_count": 4,
   "id": "d51fb5ce",
   "metadata": {},
   "outputs": [
    {
     "data": {
      "text/plain": [
       "time                     0\n",
       "dangjin_floating     26328\n",
       "dangjin_warehouse      120\n",
       "dangjin                 72\n",
       "ulsan                 1488\n",
       "dtype: int64"
      ]
     },
     "execution_count": 4,
     "metadata": {},
     "output_type": "execute_result"
    }
   ],
   "source": [
    "new_energy['time'] = pd.to_datetime(new_energy['time'])\n",
    "new_energy.isna().sum()"
   ]
  },
  {
   "cell_type": "markdown",
   "id": "4052e852",
   "metadata": {},
   "source": [
    "## (2) 예보 데이터 전처리"
   ]
  },
  {
   "cell_type": "code",
   "execution_count": 5,
   "id": "6b923ec2",
   "metadata": {},
   "outputs": [
    {
     "data": {
      "text/html": [
       "<div>\n",
       "<style scoped>\n",
       "    .dataframe tbody tr th:only-of-type {\n",
       "        vertical-align: middle;\n",
       "    }\n",
       "\n",
       "    .dataframe tbody tr th {\n",
       "        vertical-align: top;\n",
       "    }\n",
       "\n",
       "    .dataframe thead th {\n",
       "        text-align: right;\n",
       "    }\n",
       "</style>\n",
       "<table border=\"1\" class=\"dataframe\">\n",
       "  <thead>\n",
       "    <tr style=\"text-align: right;\">\n",
       "      <th></th>\n",
       "      <th>Forecast time</th>\n",
       "      <th>forecast</th>\n",
       "      <th>Temperature</th>\n",
       "      <th>Precipitation</th>\n",
       "      <th>PrecRate</th>\n",
       "      <th>Humidity</th>\n",
       "      <th>WindSpeed</th>\n",
       "      <th>WindDirection</th>\n",
       "      <th>Cloud</th>\n",
       "    </tr>\n",
       "  </thead>\n",
       "  <tbody>\n",
       "    <tr>\n",
       "      <th>0</th>\n",
       "      <td>2014-12-01 11:00:00</td>\n",
       "      <td>4.0</td>\n",
       "      <td>8.5</td>\n",
       "      <td>0.0</td>\n",
       "      <td>10.0</td>\n",
       "      <td>29.0</td>\n",
       "      <td>10.4</td>\n",
       "      <td>286.0</td>\n",
       "      <td>2.0</td>\n",
       "    </tr>\n",
       "    <tr>\n",
       "      <th>1</th>\n",
       "      <td>2014-12-01 11:00:00</td>\n",
       "      <td>7.0</td>\n",
       "      <td>4.5</td>\n",
       "      <td>0.0</td>\n",
       "      <td>10.0</td>\n",
       "      <td>24.0</td>\n",
       "      <td>12.5</td>\n",
       "      <td>295.0</td>\n",
       "      <td>2.0</td>\n",
       "    </tr>\n",
       "    <tr>\n",
       "      <th>2</th>\n",
       "      <td>2014-12-01 11:00:00</td>\n",
       "      <td>10.0</td>\n",
       "      <td>1.9</td>\n",
       "      <td>0.0</td>\n",
       "      <td>0.0</td>\n",
       "      <td>28.0</td>\n",
       "      <td>10.9</td>\n",
       "      <td>288.0</td>\n",
       "      <td>1.0</td>\n",
       "    </tr>\n",
       "    <tr>\n",
       "      <th>3</th>\n",
       "      <td>2014-12-01 11:00:00</td>\n",
       "      <td>13.0</td>\n",
       "      <td>0.4</td>\n",
       "      <td>0.0</td>\n",
       "      <td>0.0</td>\n",
       "      <td>36.0</td>\n",
       "      <td>7.7</td>\n",
       "      <td>287.0</td>\n",
       "      <td>1.0</td>\n",
       "    </tr>\n",
       "    <tr>\n",
       "      <th>4</th>\n",
       "      <td>2014-12-01 11:00:00</td>\n",
       "      <td>16.0</td>\n",
       "      <td>-0.7</td>\n",
       "      <td>0.0</td>\n",
       "      <td>0.0</td>\n",
       "      <td>38.0</td>\n",
       "      <td>6.0</td>\n",
       "      <td>292.0</td>\n",
       "      <td>1.0</td>\n",
       "    </tr>\n",
       "    <tr>\n",
       "      <th>...</th>\n",
       "      <td>...</td>\n",
       "      <td>...</td>\n",
       "      <td>...</td>\n",
       "      <td>...</td>\n",
       "      <td>...</td>\n",
       "      <td>...</td>\n",
       "      <td>...</td>\n",
       "      <td>...</td>\n",
       "      <td>...</td>\n",
       "    </tr>\n",
       "    <tr>\n",
       "      <th>17903</th>\n",
       "      <td>2021-04-01 08:00:00</td>\n",
       "      <td>52.0</td>\n",
       "      <td>20.0</td>\n",
       "      <td>0.0</td>\n",
       "      <td>30.0</td>\n",
       "      <td>65.0</td>\n",
       "      <td>4.8</td>\n",
       "      <td>174.0</td>\n",
       "      <td>4.0</td>\n",
       "    </tr>\n",
       "    <tr>\n",
       "      <th>17904</th>\n",
       "      <td>2021-04-01 08:00:00</td>\n",
       "      <td>55.0</td>\n",
       "      <td>20.0</td>\n",
       "      <td>0.0</td>\n",
       "      <td>30.0</td>\n",
       "      <td>65.0</td>\n",
       "      <td>4.8</td>\n",
       "      <td>193.0</td>\n",
       "      <td>4.0</td>\n",
       "    </tr>\n",
       "    <tr>\n",
       "      <th>17905</th>\n",
       "      <td>2021-04-01 08:00:00</td>\n",
       "      <td>58.0</td>\n",
       "      <td>18.0</td>\n",
       "      <td>1.0</td>\n",
       "      <td>60.0</td>\n",
       "      <td>75.0</td>\n",
       "      <td>2.3</td>\n",
       "      <td>200.0</td>\n",
       "      <td>4.0</td>\n",
       "    </tr>\n",
       "    <tr>\n",
       "      <th>17906</th>\n",
       "      <td>2021-04-01 08:00:00</td>\n",
       "      <td>61.0</td>\n",
       "      <td>17.0</td>\n",
       "      <td>1.0</td>\n",
       "      <td>60.0</td>\n",
       "      <td>80.0</td>\n",
       "      <td>1.6</td>\n",
       "      <td>184.0</td>\n",
       "      <td>4.0</td>\n",
       "    </tr>\n",
       "    <tr>\n",
       "      <th>17907</th>\n",
       "      <td>2021-04-01 08:00:00</td>\n",
       "      <td>64.0</td>\n",
       "      <td>17.0</td>\n",
       "      <td>1.0</td>\n",
       "      <td>60.0</td>\n",
       "      <td>85.0</td>\n",
       "      <td>1.8</td>\n",
       "      <td>153.0</td>\n",
       "      <td>4.0</td>\n",
       "    </tr>\n",
       "  </tbody>\n",
       "</table>\n",
       "<p>342323 rows × 9 columns</p>\n",
       "</div>"
      ],
      "text/plain": [
       "             Forecast time  forecast  Temperature  Precipitation  PrecRate  \\\n",
       "0      2014-12-01 11:00:00       4.0          8.5            0.0      10.0   \n",
       "1      2014-12-01 11:00:00       7.0          4.5            0.0      10.0   \n",
       "2      2014-12-01 11:00:00      10.0          1.9            0.0       0.0   \n",
       "3      2014-12-01 11:00:00      13.0          0.4            0.0       0.0   \n",
       "4      2014-12-01 11:00:00      16.0         -0.7            0.0       0.0   \n",
       "...                    ...       ...          ...            ...       ...   \n",
       "17903  2021-04-01 08:00:00      52.0         20.0            0.0      30.0   \n",
       "17904  2021-04-01 08:00:00      55.0         20.0            0.0      30.0   \n",
       "17905  2021-04-01 08:00:00      58.0         18.0            1.0      60.0   \n",
       "17906  2021-04-01 08:00:00      61.0         17.0            1.0      60.0   \n",
       "17907  2021-04-01 08:00:00      64.0         17.0            1.0      60.0   \n",
       "\n",
       "       Humidity  WindSpeed  WindDirection  Cloud  \n",
       "0          29.0       10.4          286.0    2.0  \n",
       "1          24.0       12.5          295.0    2.0  \n",
       "2          28.0       10.9          288.0    1.0  \n",
       "3          36.0        7.7          287.0    1.0  \n",
       "4          38.0        6.0          292.0    1.0  \n",
       "...         ...        ...            ...    ...  \n",
       "17903      65.0        4.8          174.0    4.0  \n",
       "17904      65.0        4.8          193.0    4.0  \n",
       "17905      75.0        2.3          200.0    4.0  \n",
       "17906      80.0        1.6          184.0    4.0  \n",
       "17907      85.0        1.8          153.0    4.0  \n",
       "\n",
       "[342323 rows x 9 columns]"
      ]
     },
     "execution_count": 5,
     "metadata": {},
     "output_type": "execute_result"
    }
   ],
   "source": [
    "new_dangjin_fcst = pd.read_csv('data/dangjin_fcst/new_dangjin_fcst.csv', index_col=0)\n",
    "new_ulsan_fcst = pd.read_csv('data/ulsan_fcst/new_ulsan_fcst.csv', index_col=0)\n",
    "new_ulsan_fcst"
   ]
  },
  {
   "cell_type": "markdown",
   "id": "34773ad2",
   "metadata": {},
   "source": [
    "### 결측치 확인"
   ]
  },
  {
   "cell_type": "code",
   "execution_count": 6,
   "id": "895fd8d2",
   "metadata": {},
   "outputs": [
    {
     "data": {
      "text/plain": [
       "Forecast time       0\n",
       "forecast            0\n",
       "Temperature         0\n",
       "Precipitation    4736\n",
       "PrecRate         1500\n",
       "Humidity         1832\n",
       "WindSpeed        1500\n",
       "WindDirection    1500\n",
       "Cloud            6088\n",
       "dtype: int64"
      ]
     },
     "execution_count": 6,
     "metadata": {},
     "output_type": "execute_result"
    }
   ],
   "source": [
    "new_dangjin_fcst.isna().sum()"
   ]
  },
  {
   "cell_type": "code",
   "execution_count": 7,
   "id": "75a71a71",
   "metadata": {},
   "outputs": [
    {
     "data": {
      "text/plain": [
       "Forecast time       0\n",
       "forecast            0\n",
       "Temperature         0\n",
       "Precipitation    4736\n",
       "PrecRate         1500\n",
       "Humidity         1832\n",
       "WindSpeed        1500\n",
       "WindDirection    1500\n",
       "Cloud            6088\n",
       "dtype: int64"
      ]
     },
     "execution_count": 7,
     "metadata": {},
     "output_type": "execute_result"
    }
   ],
   "source": [
    "new_ulsan_fcst.isna().sum()"
   ]
  },
  {
   "cell_type": "markdown",
   "id": "6ba9854a",
   "metadata": {},
   "source": [
    "### 특정 시간 기준 예보 데이터로 변환 후 결측치 제거"
   ]
  },
  {
   "cell_type": "code",
   "execution_count": 400,
   "id": "5793c331",
   "metadata": {},
   "outputs": [],
   "source": [
    "def fcst_split(fcst_df, hour):\n",
    "    \n",
    "    # 14시 예보 기준 다음 날 예보 데이터 생성\n",
    "    fcst_df['Forecast time'] = pd.to_datetime(fcst_df['Forecast time']) # 타입 변환\n",
    "    fcst_df = fcst_df.rename({'Forecast time':'time'}, axis='columns') # 다루기 쉽게 컬럼명 변경\n",
    "    \n",
    "    if hour!=23: # 다음 날 24시간 예측치만 남기고 제외\n",
    "        fcst_df = fcst_df[fcst_df['time'].dt.hour==hour] # 특정 시간 기준 예보 데이터 저장\n",
    "        fcst_df = fcst_df[(fcst_df['forecast']>=(24-hour)&(fcst_df['forecast']<=(47-hour)))] \n",
    "    else:\n",
    "        fcst_df_20 = fcst_df[fcst_df['time'].dt.hour==(hour-3)]\n",
    "        fcst_df_20 = fcst_df_20[fcst_df_20['forecast']==4]\n",
    "        fcst_df_23 = fcst_df[fcst_df['time'].dt.hour==(hour)]\n",
    "        fcst_df_23 = fcst_df_23[(fcst_df_23['forecast']>=(24-hour)&(fcst_df_23['forecast']<=(47-hour)))] \n",
    "        fcst_df = pd.concat([fcst_df_20,fcst_df_23])\n",
    "        \n",
    "    fcst_df['time'] = fcst_df['time'] + fcst_df['forecast'].map(lambda x: pd.DateOffset(hours=x)) # 실측값\n",
    "    fcst_df.drop(['forecast'], axis=1, inplace=True) # forecast 컬럼 제거\n",
    "    fcst_df = fcst_df.sort_values(by=['time'], axis=0)\n",
    "    fcst_df_all = pd.DataFrame() # 3시간 단위를 1시간 단위로 직선보간 (14년 12월 ~ 21년 4월)\n",
    "    fcst_df_all['time'] = pd.date_range(start='2014-12-02 00:00:00', end='2021-04-01 21:00:00', freq='H')\n",
    "    fcst_df_all = pd.merge(fcst_df_all, fcst_df, on='time', how='outer')\n",
    "    fcst_df_all = fcst_df_all.interpolate()\n",
    "    \n",
    "    idx1 = list(fcst_df_all[(fcst_df_all['time']>'2015-05-22 21:00:00')&( # 2015년 결측치 제거\n",
    "        fcst_df_all['time']<'2015-06-02 00:00:00')].index)\n",
    "    idx2 = list(fcst_df_all[(fcst_df_all['time']>'2016-01-01 21:00:00')&( # 2016년 결측치 제거\n",
    "        fcst_df_all['time']<'2016-02-02 00:00:00')].index)\n",
    "    idx3 = list(fcst_df_all[(fcst_df_all['time']>'2017-06-09 21:00:00')&( # 2017년 결측치 제거\n",
    "        fcst_df_all['time']<'2017-07-02 00:00:00')].index)\n",
    "    \n",
    "    fcst_df_all = fcst_df_all.drop(fcst_df_all.index[idx1+idx2+idx3]).reset_index(drop=True)\n",
    "    \n",
    "    return fcst_df_all"
   ]
  },
  {
   "cell_type": "code",
   "execution_count": 402,
   "id": "ec4de346",
   "metadata": {},
   "outputs": [
    {
     "data": {
      "text/html": [
       "<div>\n",
       "<style scoped>\n",
       "    .dataframe tbody tr th:only-of-type {\n",
       "        vertical-align: middle;\n",
       "    }\n",
       "\n",
       "    .dataframe tbody tr th {\n",
       "        vertical-align: top;\n",
       "    }\n",
       "\n",
       "    .dataframe thead th {\n",
       "        text-align: right;\n",
       "    }\n",
       "</style>\n",
       "<table border=\"1\" class=\"dataframe\">\n",
       "  <thead>\n",
       "    <tr style=\"text-align: right;\">\n",
       "      <th></th>\n",
       "      <th>time</th>\n",
       "      <th>Temperature</th>\n",
       "      <th>Precipitation</th>\n",
       "      <th>PrecRate</th>\n",
       "      <th>Humidity</th>\n",
       "      <th>WindSpeed</th>\n",
       "      <th>WindDirection</th>\n",
       "      <th>Cloud</th>\n",
       "    </tr>\n",
       "  </thead>\n",
       "  <tbody>\n",
       "    <tr>\n",
       "      <th>0</th>\n",
       "      <td>2014-12-02 00:00:00</td>\n",
       "      <td>-0.8</td>\n",
       "      <td>0.0</td>\n",
       "      <td>0.0</td>\n",
       "      <td>58.000000</td>\n",
       "      <td>7.500000</td>\n",
       "      <td>292.000000</td>\n",
       "      <td>1.0</td>\n",
       "    </tr>\n",
       "    <tr>\n",
       "      <th>1</th>\n",
       "      <td>2014-12-02 01:00:00</td>\n",
       "      <td>-0.8</td>\n",
       "      <td>0.0</td>\n",
       "      <td>0.0</td>\n",
       "      <td>59.000000</td>\n",
       "      <td>9.533333</td>\n",
       "      <td>291.666667</td>\n",
       "      <td>1.0</td>\n",
       "    </tr>\n",
       "    <tr>\n",
       "      <th>2</th>\n",
       "      <td>2014-12-02 02:00:00</td>\n",
       "      <td>-0.8</td>\n",
       "      <td>0.0</td>\n",
       "      <td>0.0</td>\n",
       "      <td>60.000000</td>\n",
       "      <td>11.566667</td>\n",
       "      <td>291.333333</td>\n",
       "      <td>1.0</td>\n",
       "    </tr>\n",
       "    <tr>\n",
       "      <th>3</th>\n",
       "      <td>2014-12-02 03:00:00</td>\n",
       "      <td>-0.8</td>\n",
       "      <td>0.0</td>\n",
       "      <td>0.0</td>\n",
       "      <td>61.000000</td>\n",
       "      <td>13.600000</td>\n",
       "      <td>291.000000</td>\n",
       "      <td>1.0</td>\n",
       "    </tr>\n",
       "    <tr>\n",
       "      <th>4</th>\n",
       "      <td>2014-12-02 04:00:00</td>\n",
       "      <td>-0.9</td>\n",
       "      <td>0.0</td>\n",
       "      <td>0.0</td>\n",
       "      <td>61.333333</td>\n",
       "      <td>12.700000</td>\n",
       "      <td>292.000000</td>\n",
       "      <td>1.0</td>\n",
       "    </tr>\n",
       "    <tr>\n",
       "      <th>...</th>\n",
       "      <td>...</td>\n",
       "      <td>...</td>\n",
       "      <td>...</td>\n",
       "      <td>...</td>\n",
       "      <td>...</td>\n",
       "      <td>...</td>\n",
       "      <td>...</td>\n",
       "      <td>...</td>\n",
       "    </tr>\n",
       "    <tr>\n",
       "      <th>74237</th>\n",
       "      <td>2021-04-02 12:00:00</td>\n",
       "      <td>18.0</td>\n",
       "      <td>0.0</td>\n",
       "      <td>30.0</td>\n",
       "      <td>60.000000</td>\n",
       "      <td>4.300000</td>\n",
       "      <td>69.000000</td>\n",
       "      <td>4.0</td>\n",
       "    </tr>\n",
       "    <tr>\n",
       "      <th>74238</th>\n",
       "      <td>2021-04-02 15:00:00</td>\n",
       "      <td>18.0</td>\n",
       "      <td>0.0</td>\n",
       "      <td>30.0</td>\n",
       "      <td>60.000000</td>\n",
       "      <td>4.600000</td>\n",
       "      <td>60.000000</td>\n",
       "      <td>4.0</td>\n",
       "    </tr>\n",
       "    <tr>\n",
       "      <th>74239</th>\n",
       "      <td>2021-04-02 18:00:00</td>\n",
       "      <td>16.0</td>\n",
       "      <td>0.0</td>\n",
       "      <td>30.0</td>\n",
       "      <td>70.000000</td>\n",
       "      <td>3.600000</td>\n",
       "      <td>37.000000</td>\n",
       "      <td>4.0</td>\n",
       "    </tr>\n",
       "    <tr>\n",
       "      <th>74240</th>\n",
       "      <td>2021-04-02 21:00:00</td>\n",
       "      <td>14.0</td>\n",
       "      <td>0.0</td>\n",
       "      <td>20.0</td>\n",
       "      <td>80.000000</td>\n",
       "      <td>3.100000</td>\n",
       "      <td>37.000000</td>\n",
       "      <td>3.0</td>\n",
       "    </tr>\n",
       "    <tr>\n",
       "      <th>74241</th>\n",
       "      <td>2021-04-03 00:00:00</td>\n",
       "      <td>13.0</td>\n",
       "      <td>0.0</td>\n",
       "      <td>30.0</td>\n",
       "      <td>85.000000</td>\n",
       "      <td>2.200000</td>\n",
       "      <td>32.000000</td>\n",
       "      <td>4.0</td>\n",
       "    </tr>\n",
       "  </tbody>\n",
       "</table>\n",
       "<p>74242 rows × 8 columns</p>\n",
       "</div>"
      ],
      "text/plain": [
       "                     time  Temperature  Precipitation  PrecRate   Humidity  \\\n",
       "0     2014-12-02 00:00:00         -0.8            0.0       0.0  58.000000   \n",
       "1     2014-12-02 01:00:00         -0.8            0.0       0.0  59.000000   \n",
       "2     2014-12-02 02:00:00         -0.8            0.0       0.0  60.000000   \n",
       "3     2014-12-02 03:00:00         -0.8            0.0       0.0  61.000000   \n",
       "4     2014-12-02 04:00:00         -0.9            0.0       0.0  61.333333   \n",
       "...                   ...          ...            ...       ...        ...   \n",
       "74237 2021-04-02 12:00:00         18.0            0.0      30.0  60.000000   \n",
       "74238 2021-04-02 15:00:00         18.0            0.0      30.0  60.000000   \n",
       "74239 2021-04-02 18:00:00         16.0            0.0      30.0  70.000000   \n",
       "74240 2021-04-02 21:00:00         14.0            0.0      20.0  80.000000   \n",
       "74241 2021-04-03 00:00:00         13.0            0.0      30.0  85.000000   \n",
       "\n",
       "       WindSpeed  WindDirection  Cloud  \n",
       "0       7.500000     292.000000    1.0  \n",
       "1       9.533333     291.666667    1.0  \n",
       "2      11.566667     291.333333    1.0  \n",
       "3      13.600000     291.000000    1.0  \n",
       "4      12.700000     292.000000    1.0  \n",
       "...          ...            ...    ...  \n",
       "74237   4.300000      69.000000    4.0  \n",
       "74238   4.600000      60.000000    4.0  \n",
       "74239   3.600000      37.000000    4.0  \n",
       "74240   3.100000      37.000000    3.0  \n",
       "74241   2.200000      32.000000    4.0  \n",
       "\n",
       "[74242 rows x 8 columns]"
      ]
     },
     "execution_count": 402,
     "metadata": {},
     "output_type": "execute_result"
    }
   ],
   "source": [
    "dangjin_fcst_11h = fcst_split(new_dangjin_fcst, hour=11)\n",
    "dangjin_fcst_14h = fcst_split(new_dangjin_fcst, hour=14)\n",
    "dangjin_fcst_17h = fcst_split(new_dangjin_fcst, hour=17)\n",
    "dangjin_fcst_20h = fcst_split(new_dangjin_fcst, hour=20)\n",
    "dangjin_fcst_23h = fcst_split(new_dangjin_fcst, hour=23).dropna().reset_index(drop=True)\n",
    "\n",
    "ulsan_fcst_11h = fcst_split(new_ulsan_fcst, hour=11)\n",
    "ulsan_fcst_14h = fcst_split(new_ulsan_fcst, hour=14)\n",
    "ulsan_fcst_17h = fcst_split(new_ulsan_fcst, hour=17)\n",
    "ulsan_fcst_20h = fcst_split(new_ulsan_fcst, hour=20)\n",
    "ulsan_fcst_23h = fcst_split(new_ulsan_fcst, hour=23).dropna().reset_index(drop=True)\n",
    "ulsan_fcst_23h"
   ]
  },
  {
   "cell_type": "markdown",
   "id": "b58c942d",
   "metadata": {},
   "source": [
    "## (3) 관측 데이터 전처리"
   ]
  },
  {
   "cell_type": "code",
   "execution_count": 305,
   "id": "a0a2ae55",
   "metadata": {},
   "outputs": [
    {
     "data": {
      "text/html": [
       "<div>\n",
       "<style scoped>\n",
       "    .dataframe tbody tr th:only-of-type {\n",
       "        vertical-align: middle;\n",
       "    }\n",
       "\n",
       "    .dataframe tbody tr th {\n",
       "        vertical-align: top;\n",
       "    }\n",
       "\n",
       "    .dataframe thead th {\n",
       "        text-align: right;\n",
       "    }\n",
       "</style>\n",
       "<table border=\"1\" class=\"dataframe\">\n",
       "  <thead>\n",
       "    <tr style=\"text-align: right;\">\n",
       "      <th></th>\n",
       "      <th>지점</th>\n",
       "      <th>지점명</th>\n",
       "      <th>일시</th>\n",
       "      <th>기온(°C)</th>\n",
       "      <th>풍속(m/s)</th>\n",
       "      <th>풍향(16방위)</th>\n",
       "      <th>습도(%)</th>\n",
       "      <th>전운량(10분위)</th>\n",
       "    </tr>\n",
       "  </thead>\n",
       "  <tbody>\n",
       "    <tr>\n",
       "      <th>0</th>\n",
       "      <td>152</td>\n",
       "      <td>울산</td>\n",
       "      <td>2018-03-01 00:00</td>\n",
       "      <td>8.2</td>\n",
       "      <td>3.9</td>\n",
       "      <td>340.0</td>\n",
       "      <td>98.0</td>\n",
       "      <td>10.0</td>\n",
       "    </tr>\n",
       "    <tr>\n",
       "      <th>1</th>\n",
       "      <td>152</td>\n",
       "      <td>울산</td>\n",
       "      <td>2018-03-01 01:00</td>\n",
       "      <td>7.0</td>\n",
       "      <td>4.1</td>\n",
       "      <td>320.0</td>\n",
       "      <td>97.0</td>\n",
       "      <td>10.0</td>\n",
       "    </tr>\n",
       "    <tr>\n",
       "      <th>2</th>\n",
       "      <td>152</td>\n",
       "      <td>울산</td>\n",
       "      <td>2018-03-01 02:00</td>\n",
       "      <td>6.5</td>\n",
       "      <td>5.9</td>\n",
       "      <td>290.0</td>\n",
       "      <td>80.0</td>\n",
       "      <td>NaN</td>\n",
       "    </tr>\n",
       "    <tr>\n",
       "      <th>3</th>\n",
       "      <td>152</td>\n",
       "      <td>울산</td>\n",
       "      <td>2018-03-01 03:00</td>\n",
       "      <td>6.2</td>\n",
       "      <td>4.6</td>\n",
       "      <td>320.0</td>\n",
       "      <td>79.0</td>\n",
       "      <td>3.0</td>\n",
       "    </tr>\n",
       "    <tr>\n",
       "      <th>4</th>\n",
       "      <td>152</td>\n",
       "      <td>울산</td>\n",
       "      <td>2018-03-01 04:00</td>\n",
       "      <td>6.7</td>\n",
       "      <td>4.5</td>\n",
       "      <td>320.0</td>\n",
       "      <td>73.0</td>\n",
       "      <td>1.0</td>\n",
       "    </tr>\n",
       "    <tr>\n",
       "      <th>...</th>\n",
       "      <td>...</td>\n",
       "      <td>...</td>\n",
       "      <td>...</td>\n",
       "      <td>...</td>\n",
       "      <td>...</td>\n",
       "      <td>...</td>\n",
       "      <td>...</td>\n",
       "      <td>...</td>\n",
       "    </tr>\n",
       "    <tr>\n",
       "      <th>25627</th>\n",
       "      <td>152</td>\n",
       "      <td>울산</td>\n",
       "      <td>2021-01-31 19:00</td>\n",
       "      <td>8.8</td>\n",
       "      <td>2.5</td>\n",
       "      <td>200.0</td>\n",
       "      <td>50.0</td>\n",
       "      <td>5.0</td>\n",
       "    </tr>\n",
       "    <tr>\n",
       "      <th>25628</th>\n",
       "      <td>152</td>\n",
       "      <td>울산</td>\n",
       "      <td>2021-01-31 20:00</td>\n",
       "      <td>8.7</td>\n",
       "      <td>3.9</td>\n",
       "      <td>200.0</td>\n",
       "      <td>49.0</td>\n",
       "      <td>1.0</td>\n",
       "    </tr>\n",
       "    <tr>\n",
       "      <th>25629</th>\n",
       "      <td>152</td>\n",
       "      <td>울산</td>\n",
       "      <td>2021-01-31 21:00</td>\n",
       "      <td>8.4</td>\n",
       "      <td>2.4</td>\n",
       "      <td>230.0</td>\n",
       "      <td>51.0</td>\n",
       "      <td>7.0</td>\n",
       "    </tr>\n",
       "    <tr>\n",
       "      <th>25630</th>\n",
       "      <td>152</td>\n",
       "      <td>울산</td>\n",
       "      <td>2021-01-31 22:00</td>\n",
       "      <td>9.4</td>\n",
       "      <td>3.3</td>\n",
       "      <td>230.0</td>\n",
       "      <td>51.0</td>\n",
       "      <td>8.0</td>\n",
       "    </tr>\n",
       "    <tr>\n",
       "      <th>25631</th>\n",
       "      <td>152</td>\n",
       "      <td>울산</td>\n",
       "      <td>2021-01-31 23:00</td>\n",
       "      <td>9.3</td>\n",
       "      <td>3.1</td>\n",
       "      <td>200.0</td>\n",
       "      <td>56.0</td>\n",
       "      <td>9.0</td>\n",
       "    </tr>\n",
       "  </tbody>\n",
       "</table>\n",
       "<p>25632 rows × 8 columns</p>\n",
       "</div>"
      ],
      "text/plain": [
       "        지점 지점명                일시  기온(°C)  풍속(m/s)  풍향(16방위)  습도(%)  전운량(10분위)\n",
       "0      152  울산  2018-03-01 00:00     8.2      3.9     340.0   98.0       10.0\n",
       "1      152  울산  2018-03-01 01:00     7.0      4.1     320.0   97.0       10.0\n",
       "2      152  울산  2018-03-01 02:00     6.5      5.9     290.0   80.0        NaN\n",
       "3      152  울산  2018-03-01 03:00     6.2      4.6     320.0   79.0        3.0\n",
       "4      152  울산  2018-03-01 04:00     6.7      4.5     320.0   73.0        1.0\n",
       "...    ...  ..               ...     ...      ...       ...    ...        ...\n",
       "25627  152  울산  2021-01-31 19:00     8.8      2.5     200.0   50.0        5.0\n",
       "25628  152  울산  2021-01-31 20:00     8.7      3.9     200.0   49.0        1.0\n",
       "25629  152  울산  2021-01-31 21:00     8.4      2.4     230.0   51.0        7.0\n",
       "25630  152  울산  2021-01-31 22:00     9.4      3.3     230.0   51.0        8.0\n",
       "25631  152  울산  2021-01-31 23:00     9.3      3.1     200.0   56.0        9.0\n",
       "\n",
       "[25632 rows x 8 columns]"
      ]
     },
     "execution_count": 305,
     "metadata": {},
     "output_type": "execute_result"
    }
   ],
   "source": [
    "dangjin_obs = pd.read_csv('data/base/dangjin_obs_data.csv')\n",
    "ulsan_obs = pd.read_csv('data/base/ulsan_obs_data.csv')\n",
    "ulsan_obs"
   ]
  },
  {
   "cell_type": "markdown",
   "id": "830389f6",
   "metadata": {},
   "source": [
    "### 결측치 확인"
   ]
  },
  {
   "cell_type": "code",
   "execution_count": 49,
   "id": "e509f8ac",
   "metadata": {},
   "outputs": [
    {
     "data": {
      "text/plain": [
       "지점              0\n",
       "지점명             0\n",
       "일시              0\n",
       "기온(°C)         37\n",
       "풍속(m/s)        36\n",
       "풍향(16방위)       36\n",
       "습도(%)          35\n",
       "전운량(10분위)    3970\n",
       "dtype: int64"
      ]
     },
     "execution_count": 49,
     "metadata": {},
     "output_type": "execute_result"
    }
   ],
   "source": [
    "dangjin_obs.isna().sum()"
   ]
  },
  {
   "cell_type": "code",
   "execution_count": 50,
   "id": "7edbf0c2",
   "metadata": {},
   "outputs": [
    {
     "data": {
      "text/plain": [
       "지점             0\n",
       "지점명            0\n",
       "일시             0\n",
       "기온(°C)         4\n",
       "풍속(m/s)        1\n",
       "풍향(16방위)       1\n",
       "습도(%)          1\n",
       "전운량(10분위)    825\n",
       "dtype: int64"
      ]
     },
     "execution_count": 50,
     "metadata": {},
     "output_type": "execute_result"
    }
   ],
   "source": [
    "ulsan_obs.isna().sum()"
   ]
  },
  {
   "cell_type": "markdown",
   "id": "876c4b5d",
   "metadata": {},
   "source": [
    "### 결측치 제거 후 컬럼 이름 수정"
   ]
  },
  {
   "cell_type": "code",
   "execution_count": 310,
   "id": "ded92ac6",
   "metadata": {},
   "outputs": [],
   "source": [
    "def obs_processing(obs_df):\n",
    "    obs_df = obs_df.dropna().reset_index(drop=True) # 결측치가 들어간 행 모두 제거\n",
    "    obs_df = obs_df.rename({'일시':'time', '기온(°C)':'Temperature', '풍속(m/s)':'WindSpeed', \n",
    "                            '풍향(16방위)':'WindDirection', '습도(%)':'Humidity', \n",
    "                            '전운량(10분위)':'Cloud'}, axis='columns') # 예보 데이터와 컬럼 이름 매핑\n",
    "    obs_df = obs_df[['time', 'Temperature', 'Humidity', 'WindSpeed', 'WindDirection', 'Cloud']]\n",
    "    obs_df['time'] = pd.to_datetime(obs_df['time']) # 타입 변환\n",
    "    return obs_df"
   ]
  },
  {
   "cell_type": "code",
   "execution_count": 311,
   "id": "f0c3e65d",
   "metadata": {},
   "outputs": [
    {
     "data": {
      "text/html": [
       "<div>\n",
       "<style scoped>\n",
       "    .dataframe tbody tr th:only-of-type {\n",
       "        vertical-align: middle;\n",
       "    }\n",
       "\n",
       "    .dataframe tbody tr th {\n",
       "        vertical-align: top;\n",
       "    }\n",
       "\n",
       "    .dataframe thead th {\n",
       "        text-align: right;\n",
       "    }\n",
       "</style>\n",
       "<table border=\"1\" class=\"dataframe\">\n",
       "  <thead>\n",
       "    <tr style=\"text-align: right;\">\n",
       "      <th></th>\n",
       "      <th>time</th>\n",
       "      <th>Temperature</th>\n",
       "      <th>Humidity</th>\n",
       "      <th>WindSpeed</th>\n",
       "      <th>WindDirection</th>\n",
       "      <th>Cloud</th>\n",
       "    </tr>\n",
       "  </thead>\n",
       "  <tbody>\n",
       "    <tr>\n",
       "      <th>0</th>\n",
       "      <td>2018-03-01 00:00:00</td>\n",
       "      <td>8.2</td>\n",
       "      <td>98.0</td>\n",
       "      <td>3.9</td>\n",
       "      <td>340.0</td>\n",
       "      <td>10.0</td>\n",
       "    </tr>\n",
       "    <tr>\n",
       "      <th>1</th>\n",
       "      <td>2018-03-01 01:00:00</td>\n",
       "      <td>7.0</td>\n",
       "      <td>97.0</td>\n",
       "      <td>4.1</td>\n",
       "      <td>320.0</td>\n",
       "      <td>10.0</td>\n",
       "    </tr>\n",
       "    <tr>\n",
       "      <th>2</th>\n",
       "      <td>2018-03-01 03:00:00</td>\n",
       "      <td>6.2</td>\n",
       "      <td>79.0</td>\n",
       "      <td>4.6</td>\n",
       "      <td>320.0</td>\n",
       "      <td>3.0</td>\n",
       "    </tr>\n",
       "    <tr>\n",
       "      <th>3</th>\n",
       "      <td>2018-03-01 04:00:00</td>\n",
       "      <td>6.7</td>\n",
       "      <td>73.0</td>\n",
       "      <td>4.5</td>\n",
       "      <td>320.0</td>\n",
       "      <td>1.0</td>\n",
       "    </tr>\n",
       "    <tr>\n",
       "      <th>4</th>\n",
       "      <td>2018-03-01 05:00:00</td>\n",
       "      <td>7.5</td>\n",
       "      <td>69.0</td>\n",
       "      <td>6.0</td>\n",
       "      <td>290.0</td>\n",
       "      <td>1.0</td>\n",
       "    </tr>\n",
       "    <tr>\n",
       "      <th>...</th>\n",
       "      <td>...</td>\n",
       "      <td>...</td>\n",
       "      <td>...</td>\n",
       "      <td>...</td>\n",
       "      <td>...</td>\n",
       "      <td>...</td>\n",
       "    </tr>\n",
       "    <tr>\n",
       "      <th>24796</th>\n",
       "      <td>2021-01-31 19:00:00</td>\n",
       "      <td>8.8</td>\n",
       "      <td>50.0</td>\n",
       "      <td>2.5</td>\n",
       "      <td>200.0</td>\n",
       "      <td>5.0</td>\n",
       "    </tr>\n",
       "    <tr>\n",
       "      <th>24797</th>\n",
       "      <td>2021-01-31 20:00:00</td>\n",
       "      <td>8.7</td>\n",
       "      <td>49.0</td>\n",
       "      <td>3.9</td>\n",
       "      <td>200.0</td>\n",
       "      <td>1.0</td>\n",
       "    </tr>\n",
       "    <tr>\n",
       "      <th>24798</th>\n",
       "      <td>2021-01-31 21:00:00</td>\n",
       "      <td>8.4</td>\n",
       "      <td>51.0</td>\n",
       "      <td>2.4</td>\n",
       "      <td>230.0</td>\n",
       "      <td>7.0</td>\n",
       "    </tr>\n",
       "    <tr>\n",
       "      <th>24799</th>\n",
       "      <td>2021-01-31 22:00:00</td>\n",
       "      <td>9.4</td>\n",
       "      <td>51.0</td>\n",
       "      <td>3.3</td>\n",
       "      <td>230.0</td>\n",
       "      <td>8.0</td>\n",
       "    </tr>\n",
       "    <tr>\n",
       "      <th>24800</th>\n",
       "      <td>2021-01-31 23:00:00</td>\n",
       "      <td>9.3</td>\n",
       "      <td>56.0</td>\n",
       "      <td>3.1</td>\n",
       "      <td>200.0</td>\n",
       "      <td>9.0</td>\n",
       "    </tr>\n",
       "  </tbody>\n",
       "</table>\n",
       "<p>24801 rows × 6 columns</p>\n",
       "</div>"
      ],
      "text/plain": [
       "                     time  Temperature  Humidity  WindSpeed  WindDirection  \\\n",
       "0     2018-03-01 00:00:00          8.2      98.0        3.9          340.0   \n",
       "1     2018-03-01 01:00:00          7.0      97.0        4.1          320.0   \n",
       "2     2018-03-01 03:00:00          6.2      79.0        4.6          320.0   \n",
       "3     2018-03-01 04:00:00          6.7      73.0        4.5          320.0   \n",
       "4     2018-03-01 05:00:00          7.5      69.0        6.0          290.0   \n",
       "...                   ...          ...       ...        ...            ...   \n",
       "24796 2021-01-31 19:00:00          8.8      50.0        2.5          200.0   \n",
       "24797 2021-01-31 20:00:00          8.7      49.0        3.9          200.0   \n",
       "24798 2021-01-31 21:00:00          8.4      51.0        2.4          230.0   \n",
       "24799 2021-01-31 22:00:00          9.4      51.0        3.3          230.0   \n",
       "24800 2021-01-31 23:00:00          9.3      56.0        3.1          200.0   \n",
       "\n",
       "       Cloud  \n",
       "0       10.0  \n",
       "1       10.0  \n",
       "2        3.0  \n",
       "3        1.0  \n",
       "4        1.0  \n",
       "...      ...  \n",
       "24796    5.0  \n",
       "24797    1.0  \n",
       "24798    7.0  \n",
       "24799    8.0  \n",
       "24800    9.0  \n",
       "\n",
       "[24801 rows x 6 columns]"
      ]
     },
     "execution_count": 311,
     "metadata": {},
     "output_type": "execute_result"
    }
   ],
   "source": [
    "dangjin_obs = obs_processing(dangjin_obs)\n",
    "ulsan_obs = obs_processing(ulsan_obs)\n",
    "ulsan_obs"
   ]
  },
  {
   "cell_type": "markdown",
   "id": "3e60a61b",
   "metadata": {},
   "source": [
    "## (4) 태양거리 데이터 전처리"
   ]
  },
  {
   "cell_type": "code",
   "execution_count": 54,
   "id": "154d7589",
   "metadata": {},
   "outputs": [
    {
     "data": {
      "text/html": [
       "<div>\n",
       "<style scoped>\n",
       "    .dataframe tbody tr th:only-of-type {\n",
       "        vertical-align: middle;\n",
       "    }\n",
       "\n",
       "    .dataframe tbody tr th {\n",
       "        vertical-align: top;\n",
       "    }\n",
       "\n",
       "    .dataframe thead th {\n",
       "        text-align: right;\n",
       "    }\n",
       "</style>\n",
       "<table border=\"1\" class=\"dataframe\">\n",
       "  <thead>\n",
       "    <tr style=\"text-align: right;\">\n",
       "      <th></th>\n",
       "      <th>이름</th>\n",
       "      <th>날짜 및 시간</th>\n",
       "      <th>방위각</th>\n",
       "      <th>고도</th>\n",
       "      <th>등급</th>\n",
       "      <th>위상</th>\n",
       "      <th>거리, AU</th>\n",
       "      <th>이각</th>\n",
       "    </tr>\n",
       "  </thead>\n",
       "  <tbody>\n",
       "    <tr>\n",
       "      <th>0</th>\n",
       "      <td>태양</td>\n",
       "      <td>2015.1.1 0:00</td>\n",
       "      <td>+335°41'31.0\"</td>\n",
       "      <td>-76°13'19.0\"</td>\n",
       "      <td>-26.63</td>\n",
       "      <td>—</td>\n",
       "      <td>0.983361</td>\n",
       "      <td>—</td>\n",
       "    </tr>\n",
       "    <tr>\n",
       "      <th>1</th>\n",
       "      <td>태양</td>\n",
       "      <td>2015.1.1 1:00</td>\n",
       "      <td>+33°35'52.8\"</td>\n",
       "      <td>-75°07'57.2\"</td>\n",
       "      <td>-26.63</td>\n",
       "      <td>—</td>\n",
       "      <td>0.983360</td>\n",
       "      <td>—</td>\n",
       "    </tr>\n",
       "    <tr>\n",
       "      <th>2</th>\n",
       "      <td>태양</td>\n",
       "      <td>2015.1.1 2:00</td>\n",
       "      <td>+64°55'44.3\"</td>\n",
       "      <td>-65°43'38.8\"</td>\n",
       "      <td>-26.62</td>\n",
       "      <td>—</td>\n",
       "      <td>0.983357</td>\n",
       "      <td>—</td>\n",
       "    </tr>\n",
       "    <tr>\n",
       "      <th>3</th>\n",
       "      <td>태양</td>\n",
       "      <td>2015.1.1 3:00</td>\n",
       "      <td>+80°03'45.1\"</td>\n",
       "      <td>-54°06'54.2\"</td>\n",
       "      <td>-26.60</td>\n",
       "      <td>—</td>\n",
       "      <td>0.983351</td>\n",
       "      <td>—</td>\n",
       "    </tr>\n",
       "    <tr>\n",
       "      <th>4</th>\n",
       "      <td>태양</td>\n",
       "      <td>2015.1.1 4:00</td>\n",
       "      <td>+90°01'54.6\"</td>\n",
       "      <td>-42°00'21.9\"</td>\n",
       "      <td>-26.56</td>\n",
       "      <td>—</td>\n",
       "      <td>0.983344</td>\n",
       "      <td>—</td>\n",
       "    </tr>\n",
       "    <tr>\n",
       "      <th>...</th>\n",
       "      <td>...</td>\n",
       "      <td>...</td>\n",
       "      <td>...</td>\n",
       "      <td>...</td>\n",
       "      <td>...</td>\n",
       "      <td>...</td>\n",
       "      <td>...</td>\n",
       "      <td>...</td>\n",
       "    </tr>\n",
       "    <tr>\n",
       "      <th>54067</th>\n",
       "      <td>태양</td>\n",
       "      <td>2021.3.2 19:00</td>\n",
       "      <td>+268°06'09.4\"</td>\n",
       "      <td>-9°28'00.9\"</td>\n",
       "      <td>-25.54</td>\n",
       "      <td>—</td>\n",
       "      <td>0.991109</td>\n",
       "      <td>—</td>\n",
       "    </tr>\n",
       "    <tr>\n",
       "      <th>54068</th>\n",
       "      <td>태양</td>\n",
       "      <td>2021.3.2 20:00</td>\n",
       "      <td>+277°04'29.9\"</td>\n",
       "      <td>-21°36'11.6\"</td>\n",
       "      <td>-26.33</td>\n",
       "      <td>—</td>\n",
       "      <td>0.991128</td>\n",
       "      <td>—</td>\n",
       "    </tr>\n",
       "    <tr>\n",
       "      <th>54069</th>\n",
       "      <td>태양</td>\n",
       "      <td>2021.3.2 21:00</td>\n",
       "      <td>+287°14'05.8\"</td>\n",
       "      <td>-33°28'53.7\"</td>\n",
       "      <td>-26.49</td>\n",
       "      <td>—</td>\n",
       "      <td>0.991146</td>\n",
       "      <td>—</td>\n",
       "    </tr>\n",
       "    <tr>\n",
       "      <th>54070</th>\n",
       "      <td>태양</td>\n",
       "      <td>2021.3.2 22:00</td>\n",
       "      <td>+300°01'30.0\"</td>\n",
       "      <td>-44°37'21.4\"</td>\n",
       "      <td>-26.56</td>\n",
       "      <td>—</td>\n",
       "      <td>0.991163</td>\n",
       "      <td>—</td>\n",
       "    </tr>\n",
       "    <tr>\n",
       "      <th>54071</th>\n",
       "      <td>태양</td>\n",
       "      <td>2021.3.2 23:00</td>\n",
       "      <td>+317°47'13.8\"</td>\n",
       "      <td>-54°06'49.9\"</td>\n",
       "      <td>-26.59</td>\n",
       "      <td>—</td>\n",
       "      <td>0.991178</td>\n",
       "      <td>—</td>\n",
       "    </tr>\n",
       "  </tbody>\n",
       "</table>\n",
       "<p>54072 rows × 8 columns</p>\n",
       "</div>"
      ],
      "text/plain": [
       "       이름         날짜 및 시간            방위각            고도     등급 위상    거리, AU 이각\n",
       "0      태양   2015.1.1 0:00  +335°41'31.0\"  -76°13'19.0\" -26.63  —  0.983361  —\n",
       "1      태양   2015.1.1 1:00   +33°35'52.8\"  -75°07'57.2\" -26.63  —  0.983360  —\n",
       "2      태양   2015.1.1 2:00   +64°55'44.3\"  -65°43'38.8\" -26.62  —  0.983357  —\n",
       "3      태양   2015.1.1 3:00   +80°03'45.1\"  -54°06'54.2\" -26.60  —  0.983351  —\n",
       "4      태양   2015.1.1 4:00   +90°01'54.6\"  -42°00'21.9\" -26.56  —  0.983344  —\n",
       "...    ..             ...            ...           ...    ... ..       ... ..\n",
       "54067  태양  2021.3.2 19:00  +268°06'09.4\"   -9°28'00.9\" -25.54  —  0.991109  —\n",
       "54068  태양  2021.3.2 20:00  +277°04'29.9\"  -21°36'11.6\" -26.33  —  0.991128  —\n",
       "54069  태양  2021.3.2 21:00  +287°14'05.8\"  -33°28'53.7\" -26.49  —  0.991146  —\n",
       "54070  태양  2021.3.2 22:00  +300°01'30.0\"  -44°37'21.4\" -26.56  —  0.991163  —\n",
       "54071  태양  2021.3.2 23:00  +317°47'13.8\"  -54°06'49.9\" -26.59  —  0.991178  —\n",
       "\n",
       "[54072 rows x 8 columns]"
      ]
     },
     "execution_count": 54,
     "metadata": {},
     "output_type": "execute_result"
    }
   ],
   "source": [
    "dangjin_distance = pd.read_csv('data/dangjin_obs/dangjin_stellarium.csv')\n",
    "ulsan_distance = pd.read_csv('data/ulsan_obs/ulsan_stellarium.csv')\n",
    "ulsan_distance"
   ]
  },
  {
   "cell_type": "code",
   "execution_count": 55,
   "id": "016abf4a",
   "metadata": {},
   "outputs": [
    {
     "data": {
      "text/html": [
       "<div>\n",
       "<style scoped>\n",
       "    .dataframe tbody tr th:only-of-type {\n",
       "        vertical-align: middle;\n",
       "    }\n",
       "\n",
       "    .dataframe tbody tr th {\n",
       "        vertical-align: top;\n",
       "    }\n",
       "\n",
       "    .dataframe thead th {\n",
       "        text-align: right;\n",
       "    }\n",
       "</style>\n",
       "<table border=\"1\" class=\"dataframe\">\n",
       "  <thead>\n",
       "    <tr style=\"text-align: right;\">\n",
       "      <th></th>\n",
       "      <th>time</th>\n",
       "      <th>Rate</th>\n",
       "      <th>Distance</th>\n",
       "    </tr>\n",
       "  </thead>\n",
       "  <tbody>\n",
       "    <tr>\n",
       "      <th>0</th>\n",
       "      <td>2015-01-01 00:00:00</td>\n",
       "      <td>-26.63</td>\n",
       "      <td>0.983361</td>\n",
       "    </tr>\n",
       "    <tr>\n",
       "      <th>1</th>\n",
       "      <td>2015-01-01 01:00:00</td>\n",
       "      <td>-26.63</td>\n",
       "      <td>0.983360</td>\n",
       "    </tr>\n",
       "    <tr>\n",
       "      <th>2</th>\n",
       "      <td>2015-01-01 02:00:00</td>\n",
       "      <td>-26.62</td>\n",
       "      <td>0.983357</td>\n",
       "    </tr>\n",
       "    <tr>\n",
       "      <th>3</th>\n",
       "      <td>2015-01-01 03:00:00</td>\n",
       "      <td>-26.60</td>\n",
       "      <td>0.983351</td>\n",
       "    </tr>\n",
       "    <tr>\n",
       "      <th>4</th>\n",
       "      <td>2015-01-01 04:00:00</td>\n",
       "      <td>-26.56</td>\n",
       "      <td>0.983344</td>\n",
       "    </tr>\n",
       "    <tr>\n",
       "      <th>...</th>\n",
       "      <td>...</td>\n",
       "      <td>...</td>\n",
       "      <td>...</td>\n",
       "    </tr>\n",
       "    <tr>\n",
       "      <th>54067</th>\n",
       "      <td>2021-03-02 19:00:00</td>\n",
       "      <td>-25.54</td>\n",
       "      <td>0.991109</td>\n",
       "    </tr>\n",
       "    <tr>\n",
       "      <th>54068</th>\n",
       "      <td>2021-03-02 20:00:00</td>\n",
       "      <td>-26.33</td>\n",
       "      <td>0.991128</td>\n",
       "    </tr>\n",
       "    <tr>\n",
       "      <th>54069</th>\n",
       "      <td>2021-03-02 21:00:00</td>\n",
       "      <td>-26.49</td>\n",
       "      <td>0.991146</td>\n",
       "    </tr>\n",
       "    <tr>\n",
       "      <th>54070</th>\n",
       "      <td>2021-03-02 22:00:00</td>\n",
       "      <td>-26.56</td>\n",
       "      <td>0.991163</td>\n",
       "    </tr>\n",
       "    <tr>\n",
       "      <th>54071</th>\n",
       "      <td>2021-03-02 23:00:00</td>\n",
       "      <td>-26.59</td>\n",
       "      <td>0.991178</td>\n",
       "    </tr>\n",
       "  </tbody>\n",
       "</table>\n",
       "<p>54072 rows × 3 columns</p>\n",
       "</div>"
      ],
      "text/plain": [
       "                     time   Rate  Distance\n",
       "0     2015-01-01 00:00:00 -26.63  0.983361\n",
       "1     2015-01-01 01:00:00 -26.63  0.983360\n",
       "2     2015-01-01 02:00:00 -26.62  0.983357\n",
       "3     2015-01-01 03:00:00 -26.60  0.983351\n",
       "4     2015-01-01 04:00:00 -26.56  0.983344\n",
       "...                   ...    ...       ...\n",
       "54067 2021-03-02 19:00:00 -25.54  0.991109\n",
       "54068 2021-03-02 20:00:00 -26.33  0.991128\n",
       "54069 2021-03-02 21:00:00 -26.49  0.991146\n",
       "54070 2021-03-02 22:00:00 -26.56  0.991163\n",
       "54071 2021-03-02 23:00:00 -26.59  0.991178\n",
       "\n",
       "[54072 rows x 3 columns]"
      ]
     },
     "execution_count": 55,
     "metadata": {},
     "output_type": "execute_result"
    }
   ],
   "source": [
    "def distance_processing(solar_df):\n",
    "    solar_df = solar_df.rename({'날짜 및 시간':'time', '고도':'Altitude', \n",
    "                                '등급':'Rate', '거리, AU':'Distance'}, axis='columns')\n",
    "    solar_df['Altitude'] = solar_df['Altitude'].str.split('°').str[0].astype(int)\n",
    "    solar_df['time'] = pd.to_datetime(solar_df['time'])\n",
    "    solar_df = solar_df[['time', 'Rate', 'Distance']]\n",
    "    return solar_df\n",
    "dangjin_distance = distance_processing(dangjin_distance)\n",
    "ulsan_distance = distance_processing(ulsan_distance)\n",
    "ulsan_distance"
   ]
  },
  {
   "cell_type": "code",
   "execution_count": 56,
   "id": "52203fe9",
   "metadata": {},
   "outputs": [
    {
     "data": {
      "text/html": [
       "<div>\n",
       "<style scoped>\n",
       "    .dataframe tbody tr th:only-of-type {\n",
       "        vertical-align: middle;\n",
       "    }\n",
       "\n",
       "    .dataframe tbody tr th {\n",
       "        vertical-align: top;\n",
       "    }\n",
       "\n",
       "    .dataframe thead th {\n",
       "        text-align: right;\n",
       "    }\n",
       "</style>\n",
       "<table border=\"1\" class=\"dataframe\">\n",
       "  <thead>\n",
       "    <tr style=\"text-align: right;\">\n",
       "      <th></th>\n",
       "      <th>time</th>\n",
       "      <th>Rate</th>\n",
       "      <th>Distance</th>\n",
       "      <th>R_s1</th>\n",
       "      <th>R_s2</th>\n",
       "      <th>D_s1</th>\n",
       "      <th>D_s2</th>\n",
       "      <th>D_s3</th>\n",
       "      <th>D_s4</th>\n",
       "      <th>D_s5</th>\n",
       "    </tr>\n",
       "  </thead>\n",
       "  <tbody>\n",
       "    <tr>\n",
       "      <th>0</th>\n",
       "      <td>2015-01-01 00:00:00</td>\n",
       "      <td>-26.63</td>\n",
       "      <td>0.983361</td>\n",
       "      <td>0.004143</td>\n",
       "      <td>-1.379143</td>\n",
       "      <td>0.004143</td>\n",
       "      <td>-1.379143</td>\n",
       "      <td>-0.016779</td>\n",
       "      <td>-0.024207</td>\n",
       "      <td>-0.007287</td>\n",
       "    </tr>\n",
       "    <tr>\n",
       "      <th>1</th>\n",
       "      <td>2015-01-01 01:00:00</td>\n",
       "      <td>-26.63</td>\n",
       "      <td>0.983360</td>\n",
       "      <td>0.004113</td>\n",
       "      <td>-1.379227</td>\n",
       "      <td>0.004113</td>\n",
       "      <td>-1.379227</td>\n",
       "      <td>-0.016780</td>\n",
       "      <td>-0.024208</td>\n",
       "      <td>-0.007287</td>\n",
       "    </tr>\n",
       "    <tr>\n",
       "      <th>2</th>\n",
       "      <td>2015-01-01 02:00:00</td>\n",
       "      <td>-26.62</td>\n",
       "      <td>0.983357</td>\n",
       "      <td>0.004023</td>\n",
       "      <td>-1.379480</td>\n",
       "      <td>0.004023</td>\n",
       "      <td>-1.379480</td>\n",
       "      <td>-0.016783</td>\n",
       "      <td>-0.024213</td>\n",
       "      <td>-0.007289</td>\n",
       "    </tr>\n",
       "    <tr>\n",
       "      <th>3</th>\n",
       "      <td>2015-01-01 03:00:00</td>\n",
       "      <td>-26.60</td>\n",
       "      <td>0.983351</td>\n",
       "      <td>0.003845</td>\n",
       "      <td>-1.379985</td>\n",
       "      <td>0.003845</td>\n",
       "      <td>-1.379985</td>\n",
       "      <td>-0.016789</td>\n",
       "      <td>-0.024222</td>\n",
       "      <td>-0.007291</td>\n",
       "    </tr>\n",
       "    <tr>\n",
       "      <th>4</th>\n",
       "      <td>2015-01-01 04:00:00</td>\n",
       "      <td>-26.56</td>\n",
       "      <td>0.983344</td>\n",
       "      <td>0.003636</td>\n",
       "      <td>-1.380574</td>\n",
       "      <td>0.003636</td>\n",
       "      <td>-1.380574</td>\n",
       "      <td>-0.016796</td>\n",
       "      <td>-0.024232</td>\n",
       "      <td>-0.007295</td>\n",
       "    </tr>\n",
       "    <tr>\n",
       "      <th>...</th>\n",
       "      <td>...</td>\n",
       "      <td>...</td>\n",
       "      <td>...</td>\n",
       "      <td>...</td>\n",
       "      <td>...</td>\n",
       "      <td>...</td>\n",
       "      <td>...</td>\n",
       "      <td>...</td>\n",
       "      <td>...</td>\n",
       "      <td>...</td>\n",
       "    </tr>\n",
       "    <tr>\n",
       "      <th>54067</th>\n",
       "      <td>2021-03-02 19:00:00</td>\n",
       "      <td>-25.54</td>\n",
       "      <td>0.991109</td>\n",
       "      <td>0.235054</td>\n",
       "      <td>-0.727133</td>\n",
       "      <td>0.235054</td>\n",
       "      <td>-0.727133</td>\n",
       "      <td>-0.008931</td>\n",
       "      <td>-0.012884</td>\n",
       "      <td>-0.003879</td>\n",
       "    </tr>\n",
       "    <tr>\n",
       "      <th>54068</th>\n",
       "      <td>2021-03-02 20:00:00</td>\n",
       "      <td>-26.33</td>\n",
       "      <td>0.991128</td>\n",
       "      <td>0.235620</td>\n",
       "      <td>-0.725534</td>\n",
       "      <td>0.235620</td>\n",
       "      <td>-0.725534</td>\n",
       "      <td>-0.008912</td>\n",
       "      <td>-0.012857</td>\n",
       "      <td>-0.003870</td>\n",
       "    </tr>\n",
       "    <tr>\n",
       "      <th>54069</th>\n",
       "      <td>2021-03-02 21:00:00</td>\n",
       "      <td>-26.49</td>\n",
       "      <td>0.991146</td>\n",
       "      <td>0.236157</td>\n",
       "      <td>-0.724019</td>\n",
       "      <td>0.236157</td>\n",
       "      <td>-0.724019</td>\n",
       "      <td>-0.008893</td>\n",
       "      <td>-0.012831</td>\n",
       "      <td>-0.003862</td>\n",
       "    </tr>\n",
       "    <tr>\n",
       "      <th>54070</th>\n",
       "      <td>2021-03-02 22:00:00</td>\n",
       "      <td>-26.56</td>\n",
       "      <td>0.991163</td>\n",
       "      <td>0.236663</td>\n",
       "      <td>-0.722589</td>\n",
       "      <td>0.236663</td>\n",
       "      <td>-0.722589</td>\n",
       "      <td>-0.008876</td>\n",
       "      <td>-0.012806</td>\n",
       "      <td>-0.003855</td>\n",
       "    </tr>\n",
       "    <tr>\n",
       "      <th>54071</th>\n",
       "      <td>2021-03-02 23:00:00</td>\n",
       "      <td>-26.59</td>\n",
       "      <td>0.991178</td>\n",
       "      <td>0.237110</td>\n",
       "      <td>-0.721327</td>\n",
       "      <td>0.237110</td>\n",
       "      <td>-0.721327</td>\n",
       "      <td>-0.008861</td>\n",
       "      <td>-0.012784</td>\n",
       "      <td>-0.003848</td>\n",
       "    </tr>\n",
       "  </tbody>\n",
       "</table>\n",
       "<p>54072 rows × 10 columns</p>\n",
       "</div>"
      ],
      "text/plain": [
       "                     time   Rate  Distance      R_s1      R_s2      D_s1  \\\n",
       "0     2015-01-01 00:00:00 -26.63  0.983361  0.004143 -1.379143  0.004143   \n",
       "1     2015-01-01 01:00:00 -26.63  0.983360  0.004113 -1.379227  0.004113   \n",
       "2     2015-01-01 02:00:00 -26.62  0.983357  0.004023 -1.379480  0.004023   \n",
       "3     2015-01-01 03:00:00 -26.60  0.983351  0.003845 -1.379985  0.003845   \n",
       "4     2015-01-01 04:00:00 -26.56  0.983344  0.003636 -1.380574  0.003636   \n",
       "...                   ...    ...       ...       ...       ...       ...   \n",
       "54067 2021-03-02 19:00:00 -25.54  0.991109  0.235054 -0.727133  0.235054   \n",
       "54068 2021-03-02 20:00:00 -26.33  0.991128  0.235620 -0.725534  0.235620   \n",
       "54069 2021-03-02 21:00:00 -26.49  0.991146  0.236157 -0.724019  0.236157   \n",
       "54070 2021-03-02 22:00:00 -26.56  0.991163  0.236663 -0.722589  0.236663   \n",
       "54071 2021-03-02 23:00:00 -26.59  0.991178  0.237110 -0.721327  0.237110   \n",
       "\n",
       "           D_s2      D_s3      D_s4      D_s5  \n",
       "0     -1.379143 -0.016779 -0.024207 -0.007287  \n",
       "1     -1.379227 -0.016780 -0.024208 -0.007287  \n",
       "2     -1.379480 -0.016783 -0.024213 -0.007289  \n",
       "3     -1.379985 -0.016789 -0.024222 -0.007291  \n",
       "4     -1.380574 -0.016796 -0.024232 -0.007295  \n",
       "...         ...       ...       ...       ...  \n",
       "54067 -0.727133 -0.008931 -0.012884 -0.003879  \n",
       "54068 -0.725534 -0.008912 -0.012857 -0.003870  \n",
       "54069 -0.724019 -0.008893 -0.012831 -0.003862  \n",
       "54070 -0.722589 -0.008876 -0.012806 -0.003855  \n",
       "54071 -0.721327 -0.008861 -0.012784 -0.003848  \n",
       "\n",
       "[54072 rows x 10 columns]"
      ]
     },
     "execution_count": 56,
     "metadata": {},
     "output_type": "execute_result"
    }
   ],
   "source": [
    "scaler1 = MinMaxScaler()\n",
    "scaler2 = StandardScaler()\n",
    "\n",
    "dangjin_distance['R_s1'] = scaler1.fit_transform(dangjin_distance['Distance'].values.reshape(-1, 1))\n",
    "dangjin_distance['R_s2'] = scaler2.fit_transform(dangjin_distance['Distance'].values.reshape(-1, 1))\n",
    "dangjin_distance['D_s1'] = scaler1.fit_transform(dangjin_distance['Distance'].values.reshape(-1, 1))\n",
    "dangjin_distance['D_s2'] = scaler2.fit_transform(dangjin_distance['Distance'].values.reshape(-1, 1))\n",
    "dangjin_distance['D_s3'] = np.log(dangjin_distance['Distance'])\n",
    "dangjin_distance['D_s4'] = np.log2(dangjin_distance['Distance'])\n",
    "dangjin_distance['D_s5'] = np.log10(dangjin_distance['Distance'])\n",
    "\n",
    "ulsan_distance['R_s1'] = scaler1.fit_transform(ulsan_distance['Distance'].values.reshape(-1, 1))\n",
    "ulsan_distance['R_s2'] = scaler2.fit_transform(ulsan_distance['Distance'].values.reshape(-1, 1))\n",
    "ulsan_distance['D_s1'] = scaler1.fit_transform(ulsan_distance['Distance'].values.reshape(-1, 1))\n",
    "ulsan_distance['D_s2'] = scaler2.fit_transform(ulsan_distance['Distance'].values.reshape(-1, 1))\n",
    "ulsan_distance['D_s3'] = np.log(ulsan_distance['Distance'])\n",
    "ulsan_distance['D_s4'] = np.log2(ulsan_distance['Distance'])\n",
    "ulsan_distance['D_s5'] = np.log10(ulsan_distance['Distance'])\n",
    "ulsan_distance"
   ]
  },
  {
   "cell_type": "markdown",
   "id": "4fb5fc9e",
   "metadata": {},
   "source": [
    "## (5) Zenith 데이터 전처리"
   ]
  },
  {
   "cell_type": "code",
   "execution_count": 57,
   "id": "e1071afb",
   "metadata": {},
   "outputs": [
    {
     "data": {
      "text/html": [
       "<div>\n",
       "<style scoped>\n",
       "    .dataframe tbody tr th:only-of-type {\n",
       "        vertical-align: middle;\n",
       "    }\n",
       "\n",
       "    .dataframe tbody tr th {\n",
       "        vertical-align: top;\n",
       "    }\n",
       "\n",
       "    .dataframe thead th {\n",
       "        text-align: right;\n",
       "    }\n",
       "</style>\n",
       "<table border=\"1\" class=\"dataframe\">\n",
       "  <thead>\n",
       "    <tr style=\"text-align: right;\">\n",
       "      <th></th>\n",
       "      <th>Year</th>\n",
       "      <th>Month</th>\n",
       "      <th>Day</th>\n",
       "      <th>Hour</th>\n",
       "      <th>Minute</th>\n",
       "      <th>Tamb</th>\n",
       "      <th>Albedo</th>\n",
       "      <th>Azimuth</th>\n",
       "      <th>Cloudopacity</th>\n",
       "      <th>DewPoint</th>\n",
       "      <th>DHI</th>\n",
       "      <th>DNI</th>\n",
       "      <th>EBH</th>\n",
       "      <th>GHI</th>\n",
       "      <th>GtiFixedTilt</th>\n",
       "      <th>GtiTracking</th>\n",
       "      <th>Pw</th>\n",
       "      <th>Pressure</th>\n",
       "      <th>SnowDepth</th>\n",
       "      <th>WindDir</th>\n",
       "      <th>WindVel</th>\n",
       "      <th>Zenith</th>\n",
       "    </tr>\n",
       "  </thead>\n",
       "  <tbody>\n",
       "    <tr>\n",
       "      <th>0</th>\n",
       "      <td>Year</td>\n",
       "      <td>Month</td>\n",
       "      <td>Day</td>\n",
       "      <td>Hour</td>\n",
       "      <td>Minute</td>\n",
       "      <td>[deg.C]</td>\n",
       "      <td>[(0 - 1)]</td>\n",
       "      <td>[degree]</td>\n",
       "      <td>[%]</td>\n",
       "      <td>[deg.C]</td>\n",
       "      <td>[W/m2]</td>\n",
       "      <td>[W/m2]</td>\n",
       "      <td>[W/m2]</td>\n",
       "      <td>[W/m2]</td>\n",
       "      <td>[W/m2]</td>\n",
       "      <td>[W/m2]</td>\n",
       "      <td>[cm]</td>\n",
       "      <td>[mbar]</td>\n",
       "      <td>[cm]</td>\n",
       "      <td>[degree]</td>\n",
       "      <td>[m/s]</td>\n",
       "      <td>[degree]</td>\n",
       "    </tr>\n",
       "    <tr>\n",
       "      <th>1</th>\n",
       "      <td>2015</td>\n",
       "      <td>1</td>\n",
       "      <td>1</td>\n",
       "      <td>0</td>\n",
       "      <td>0</td>\n",
       "      <td>-5.2</td>\n",
       "      <td>0.12</td>\n",
       "      <td>-41</td>\n",
       "      <td>0</td>\n",
       "      <td>-14.8</td>\n",
       "      <td>0</td>\n",
       "      <td>0</td>\n",
       "      <td>0</td>\n",
       "      <td>0</td>\n",
       "      <td>0</td>\n",
       "      <td>0</td>\n",
       "      <td>0.24</td>\n",
       "      <td>1016.9</td>\n",
       "      <td>0</td>\n",
       "      <td>326</td>\n",
       "      <td>8.4</td>\n",
       "      <td>161</td>\n",
       "    </tr>\n",
       "    <tr>\n",
       "      <th>2</th>\n",
       "      <td>2015</td>\n",
       "      <td>1</td>\n",
       "      <td>1</td>\n",
       "      <td>1</td>\n",
       "      <td>0</td>\n",
       "      <td>-5.6</td>\n",
       "      <td>0.12</td>\n",
       "      <td>-67</td>\n",
       "      <td>0</td>\n",
       "      <td>-15.4</td>\n",
       "      <td>0</td>\n",
       "      <td>0</td>\n",
       "      <td>0</td>\n",
       "      <td>0</td>\n",
       "      <td>0</td>\n",
       "      <td>0</td>\n",
       "      <td>0.23</td>\n",
       "      <td>1017</td>\n",
       "      <td>0</td>\n",
       "      <td>327</td>\n",
       "      <td>8.2</td>\n",
       "      <td>152</td>\n",
       "    </tr>\n",
       "    <tr>\n",
       "      <th>3</th>\n",
       "      <td>2015</td>\n",
       "      <td>1</td>\n",
       "      <td>1</td>\n",
       "      <td>2</td>\n",
       "      <td>0</td>\n",
       "      <td>-6</td>\n",
       "      <td>0.12</td>\n",
       "      <td>-82</td>\n",
       "      <td>0</td>\n",
       "      <td>-15.7</td>\n",
       "      <td>0</td>\n",
       "      <td>0</td>\n",
       "      <td>0</td>\n",
       "      <td>0</td>\n",
       "      <td>0</td>\n",
       "      <td>0</td>\n",
       "      <td>0.23</td>\n",
       "      <td>1017</td>\n",
       "      <td>0</td>\n",
       "      <td>327</td>\n",
       "      <td>8</td>\n",
       "      <td>140</td>\n",
       "    </tr>\n",
       "    <tr>\n",
       "      <th>4</th>\n",
       "      <td>2015</td>\n",
       "      <td>1</td>\n",
       "      <td>1</td>\n",
       "      <td>3</td>\n",
       "      <td>0</td>\n",
       "      <td>-6.2</td>\n",
       "      <td>0.12</td>\n",
       "      <td>-92</td>\n",
       "      <td>0</td>\n",
       "      <td>-15.5</td>\n",
       "      <td>0</td>\n",
       "      <td>0</td>\n",
       "      <td>0</td>\n",
       "      <td>0</td>\n",
       "      <td>0</td>\n",
       "      <td>0</td>\n",
       "      <td>0.23</td>\n",
       "      <td>1017</td>\n",
       "      <td>0</td>\n",
       "      <td>327</td>\n",
       "      <td>7.9</td>\n",
       "      <td>128</td>\n",
       "    </tr>\n",
       "    <tr>\n",
       "      <th>...</th>\n",
       "      <td>...</td>\n",
       "      <td>...</td>\n",
       "      <td>...</td>\n",
       "      <td>...</td>\n",
       "      <td>...</td>\n",
       "      <td>...</td>\n",
       "      <td>...</td>\n",
       "      <td>...</td>\n",
       "      <td>...</td>\n",
       "      <td>...</td>\n",
       "      <td>...</td>\n",
       "      <td>...</td>\n",
       "      <td>...</td>\n",
       "      <td>...</td>\n",
       "      <td>...</td>\n",
       "      <td>...</td>\n",
       "      <td>...</td>\n",
       "      <td>...</td>\n",
       "      <td>...</td>\n",
       "      <td>...</td>\n",
       "      <td>...</td>\n",
       "      <td>...</td>\n",
       "    </tr>\n",
       "    <tr>\n",
       "      <th>55292</th>\n",
       "      <td>2021</td>\n",
       "      <td>4</td>\n",
       "      <td>22</td>\n",
       "      <td>19</td>\n",
       "      <td>0</td>\n",
       "      <td>12.7</td>\n",
       "      <td>0.09</td>\n",
       "      <td>62</td>\n",
       "      <td>48.8</td>\n",
       "      <td>7.6</td>\n",
       "      <td>0</td>\n",
       "      <td>0</td>\n",
       "      <td>0</td>\n",
       "      <td>0</td>\n",
       "      <td>0</td>\n",
       "      <td>0</td>\n",
       "      <td>2.25</td>\n",
       "      <td>1018.0</td>\n",
       "      <td>0.0</td>\n",
       "      <td>300</td>\n",
       "      <td>2.1</td>\n",
       "      <td>105</td>\n",
       "    </tr>\n",
       "    <tr>\n",
       "      <th>55293</th>\n",
       "      <td>2021</td>\n",
       "      <td>4</td>\n",
       "      <td>22</td>\n",
       "      <td>20</td>\n",
       "      <td>0</td>\n",
       "      <td>12.8</td>\n",
       "      <td>0.09</td>\n",
       "      <td>50</td>\n",
       "      <td>63.7</td>\n",
       "      <td>7.2</td>\n",
       "      <td>0</td>\n",
       "      <td>0</td>\n",
       "      <td>0</td>\n",
       "      <td>0</td>\n",
       "      <td>0</td>\n",
       "      <td>0</td>\n",
       "      <td>2.23</td>\n",
       "      <td>1017.9</td>\n",
       "      <td>0.0</td>\n",
       "      <td>17</td>\n",
       "      <td>2.7</td>\n",
       "      <td>115</td>\n",
       "    </tr>\n",
       "    <tr>\n",
       "      <th>55294</th>\n",
       "      <td>2021</td>\n",
       "      <td>4</td>\n",
       "      <td>22</td>\n",
       "      <td>21</td>\n",
       "      <td>0</td>\n",
       "      <td>13.2</td>\n",
       "      <td>0.09</td>\n",
       "      <td>36</td>\n",
       "      <td>48.8</td>\n",
       "      <td>6.7</td>\n",
       "      <td>0</td>\n",
       "      <td>0</td>\n",
       "      <td>0</td>\n",
       "      <td>0</td>\n",
       "      <td>0</td>\n",
       "      <td>0</td>\n",
       "      <td>2.14</td>\n",
       "      <td>1017.3</td>\n",
       "      <td>0.0</td>\n",
       "      <td>45</td>\n",
       "      <td>5.4</td>\n",
       "      <td>123</td>\n",
       "    </tr>\n",
       "    <tr>\n",
       "      <th>55295</th>\n",
       "      <td>2021</td>\n",
       "      <td>4</td>\n",
       "      <td>22</td>\n",
       "      <td>22</td>\n",
       "      <td>0</td>\n",
       "      <td>13.6</td>\n",
       "      <td>0.09</td>\n",
       "      <td>20</td>\n",
       "      <td>75.4</td>\n",
       "      <td>6.4</td>\n",
       "      <td>0</td>\n",
       "      <td>0</td>\n",
       "      <td>0</td>\n",
       "      <td>0</td>\n",
       "      <td>0</td>\n",
       "      <td>0</td>\n",
       "      <td>2.02</td>\n",
       "      <td>1016.9</td>\n",
       "      <td>0.0</td>\n",
       "      <td>62</td>\n",
       "      <td>5.8</td>\n",
       "      <td>129</td>\n",
       "    </tr>\n",
       "    <tr>\n",
       "      <th>55296</th>\n",
       "      <td>2021</td>\n",
       "      <td>4</td>\n",
       "      <td>22</td>\n",
       "      <td>23</td>\n",
       "      <td>0</td>\n",
       "      <td>13.9</td>\n",
       "      <td>0.09</td>\n",
       "      <td>1</td>\n",
       "      <td>73.2</td>\n",
       "      <td>6.1</td>\n",
       "      <td>0</td>\n",
       "      <td>0</td>\n",
       "      <td>0</td>\n",
       "      <td>0</td>\n",
       "      <td>0</td>\n",
       "      <td>0</td>\n",
       "      <td>2.05</td>\n",
       "      <td>1016.8</td>\n",
       "      <td>0.0</td>\n",
       "      <td>77</td>\n",
       "      <td>4.5</td>\n",
       "      <td>131</td>\n",
       "    </tr>\n",
       "  </tbody>\n",
       "</table>\n",
       "<p>55297 rows × 22 columns</p>\n",
       "</div>"
      ],
      "text/plain": [
       "       Year  Month  Day  Hour  Minute     Tamb     Albedo   Azimuth  \\\n",
       "0      Year  Month  Day  Hour  Minute  [deg.C]  [(0 - 1)]  [degree]   \n",
       "1      2015      1    1     0       0     -5.2       0.12       -41   \n",
       "2      2015      1    1     1       0     -5.6       0.12       -67   \n",
       "3      2015      1    1     2       0       -6       0.12       -82   \n",
       "4      2015      1    1     3       0     -6.2       0.12       -92   \n",
       "...     ...    ...  ...   ...     ...      ...        ...       ...   \n",
       "55292  2021      4   22    19       0     12.7       0.09        62   \n",
       "55293  2021      4   22    20       0     12.8       0.09        50   \n",
       "55294  2021      4   22    21       0     13.2       0.09        36   \n",
       "55295  2021      4   22    22       0     13.6       0.09        20   \n",
       "55296  2021      4   22    23       0     13.9       0.09         1   \n",
       "\n",
       "      Cloudopacity DewPoint     DHI     DNI     EBH     GHI GtiFixedTilt  \\\n",
       "0              [%]  [deg.C]  [W/m2]  [W/m2]  [W/m2]  [W/m2]       [W/m2]   \n",
       "1                0    -14.8       0       0       0       0            0   \n",
       "2                0    -15.4       0       0       0       0            0   \n",
       "3                0    -15.7       0       0       0       0            0   \n",
       "4                0    -15.5       0       0       0       0            0   \n",
       "...            ...      ...     ...     ...     ...     ...          ...   \n",
       "55292         48.8      7.6       0       0       0       0            0   \n",
       "55293         63.7      7.2       0       0       0       0            0   \n",
       "55294         48.8      6.7       0       0       0       0            0   \n",
       "55295         75.4      6.4       0       0       0       0            0   \n",
       "55296         73.2      6.1       0       0       0       0            0   \n",
       "\n",
       "      GtiTracking    Pw Pressure SnowDepth   WindDir WindVel    Zenith  \n",
       "0          [W/m2]  [cm]   [mbar]      [cm]  [degree]   [m/s]  [degree]  \n",
       "1               0  0.24   1016.9         0       326     8.4       161  \n",
       "2               0  0.23     1017         0       327     8.2       152  \n",
       "3               0  0.23     1017         0       327       8       140  \n",
       "4               0  0.23     1017         0       327     7.9       128  \n",
       "...           ...   ...      ...       ...       ...     ...       ...  \n",
       "55292           0  2.25   1018.0       0.0       300     2.1       105  \n",
       "55293           0  2.23   1017.9       0.0        17     2.7       115  \n",
       "55294           0  2.14   1017.3       0.0        45     5.4       123  \n",
       "55295           0  2.02   1016.9       0.0        62     5.8       129  \n",
       "55296           0  2.05   1016.8       0.0        77     4.5       131  \n",
       "\n",
       "[55297 rows x 22 columns]"
      ]
     },
     "execution_count": 57,
     "metadata": {},
     "output_type": "execute_result"
    }
   ],
   "source": [
    "dangjin_zenith = pd.read_csv('./data/dangjin_obs/dangjin_zenith.csv')\n",
    "ulsan_zenith = pd.read_csv('./data/ulsan_obs/ulsan_zenith.csv')\n",
    "dangjin_zenith"
   ]
  },
  {
   "cell_type": "code",
   "execution_count": 58,
   "id": "bea959ad",
   "metadata": {},
   "outputs": [
    {
     "data": {
      "text/html": [
       "<div>\n",
       "<style scoped>\n",
       "    .dataframe tbody tr th:only-of-type {\n",
       "        vertical-align: middle;\n",
       "    }\n",
       "\n",
       "    .dataframe tbody tr th {\n",
       "        vertical-align: top;\n",
       "    }\n",
       "\n",
       "    .dataframe thead th {\n",
       "        text-align: right;\n",
       "    }\n",
       "</style>\n",
       "<table border=\"1\" class=\"dataframe\">\n",
       "  <thead>\n",
       "    <tr style=\"text-align: right;\">\n",
       "      <th></th>\n",
       "      <th>time</th>\n",
       "      <th>Zenith</th>\n",
       "    </tr>\n",
       "  </thead>\n",
       "  <tbody>\n",
       "    <tr>\n",
       "      <th>0</th>\n",
       "      <td>2015-01-01 00:00:00</td>\n",
       "      <td>161.0</td>\n",
       "    </tr>\n",
       "    <tr>\n",
       "      <th>1</th>\n",
       "      <td>2015-01-01 01:00:00</td>\n",
       "      <td>150.0</td>\n",
       "    </tr>\n",
       "    <tr>\n",
       "      <th>2</th>\n",
       "      <td>2015-01-01 02:00:00</td>\n",
       "      <td>138.0</td>\n",
       "    </tr>\n",
       "    <tr>\n",
       "      <th>3</th>\n",
       "      <td>2015-01-01 03:00:00</td>\n",
       "      <td>126.0</td>\n",
       "    </tr>\n",
       "    <tr>\n",
       "      <th>4</th>\n",
       "      <td>2015-01-01 04:00:00</td>\n",
       "      <td>114.0</td>\n",
       "    </tr>\n",
       "    <tr>\n",
       "      <th>...</th>\n",
       "      <td>...</td>\n",
       "      <td>...</td>\n",
       "    </tr>\n",
       "    <tr>\n",
       "      <th>55363</th>\n",
       "      <td>2021-04-25 19:00:00</td>\n",
       "      <td>107.0</td>\n",
       "    </tr>\n",
       "    <tr>\n",
       "      <th>55364</th>\n",
       "      <td>2021-04-25 20:00:00</td>\n",
       "      <td>117.0</td>\n",
       "    </tr>\n",
       "    <tr>\n",
       "      <th>55365</th>\n",
       "      <td>2021-04-25 21:00:00</td>\n",
       "      <td>125.0</td>\n",
       "    </tr>\n",
       "    <tr>\n",
       "      <th>55366</th>\n",
       "      <td>2021-04-25 22:00:00</td>\n",
       "      <td>130.0</td>\n",
       "    </tr>\n",
       "    <tr>\n",
       "      <th>55367</th>\n",
       "      <td>2021-04-25 23:00:00</td>\n",
       "      <td>131.0</td>\n",
       "    </tr>\n",
       "  </tbody>\n",
       "</table>\n",
       "<p>55368 rows × 2 columns</p>\n",
       "</div>"
      ],
      "text/plain": [
       "                     time  Zenith\n",
       "0     2015-01-01 00:00:00   161.0\n",
       "1     2015-01-01 01:00:00   150.0\n",
       "2     2015-01-01 02:00:00   138.0\n",
       "3     2015-01-01 03:00:00   126.0\n",
       "4     2015-01-01 04:00:00   114.0\n",
       "...                   ...     ...\n",
       "55363 2021-04-25 19:00:00   107.0\n",
       "55364 2021-04-25 20:00:00   117.0\n",
       "55365 2021-04-25 21:00:00   125.0\n",
       "55366 2021-04-25 22:00:00   130.0\n",
       "55367 2021-04-25 23:00:00   131.0\n",
       "\n",
       "[55368 rows x 2 columns]"
      ]
     },
     "execution_count": 58,
     "metadata": {},
     "output_type": "execute_result"
    }
   ],
   "source": [
    "dangjin_zenith = dangjin_zenith.drop(0).reset_index(drop=True)\n",
    "dangjin_zenith = dangjin_zenith.astype('float64')\n",
    "dangjin_zenith['time'] = pd.date_range(start='2015-01-01 00:00:00', end='2021-04-22 23:00:00', freq='H')\n",
    "dangjin_zenith = dangjin_zenith[['time', 'Zenith']]\n",
    "\n",
    "ulsan_zenith = ulsan_zenith.drop(0).reset_index(drop=True)\n",
    "ulsan_zenith = ulsan_zenith.astype('float64')\n",
    "ulsan_zenith['time'] = pd.date_range(start='2015-01-01 00:00:00', end='2021-04-25 23:00:00', freq='H')\n",
    "ulsan_zenith = ulsan_zenith[['time', 'Zenith']]\n",
    "ulsan_zenith"
   ]
  },
  {
   "cell_type": "markdown",
   "id": "bcc2283b",
   "metadata": {},
   "source": [
    "## (6) 복사열 데이터 전처리"
   ]
  },
  {
   "cell_type": "code",
   "execution_count": 59,
   "id": "b29301a6",
   "metadata": {},
   "outputs": [
    {
     "data": {
      "text/html": [
       "<div>\n",
       "<style scoped>\n",
       "    .dataframe tbody tr th:only-of-type {\n",
       "        vertical-align: middle;\n",
       "    }\n",
       "\n",
       "    .dataframe tbody tr th {\n",
       "        vertical-align: top;\n",
       "    }\n",
       "\n",
       "    .dataframe thead th {\n",
       "        text-align: right;\n",
       "    }\n",
       "</style>\n",
       "<table border=\"1\" class=\"dataframe\">\n",
       "  <thead>\n",
       "    <tr style=\"text-align: right;\">\n",
       "      <th></th>\n",
       "      <th>time</th>\n",
       "      <th>Sunlight</th>\n",
       "      <th>Radiation</th>\n",
       "    </tr>\n",
       "  </thead>\n",
       "  <tbody>\n",
       "    <tr>\n",
       "      <th>0</th>\n",
       "      <td>2018-03-02 01:00:00</td>\n",
       "      <td>0.0</td>\n",
       "      <td>0.0</td>\n",
       "    </tr>\n",
       "    <tr>\n",
       "      <th>1</th>\n",
       "      <td>2018-03-02 02:00:00</td>\n",
       "      <td>0.0</td>\n",
       "      <td>0.0</td>\n",
       "    </tr>\n",
       "    <tr>\n",
       "      <th>2</th>\n",
       "      <td>2018-03-02 03:00:00</td>\n",
       "      <td>0.0</td>\n",
       "      <td>0.0</td>\n",
       "    </tr>\n",
       "    <tr>\n",
       "      <th>3</th>\n",
       "      <td>2018-03-02 04:00:00</td>\n",
       "      <td>0.0</td>\n",
       "      <td>0.0</td>\n",
       "    </tr>\n",
       "    <tr>\n",
       "      <th>4</th>\n",
       "      <td>2018-03-02 05:00:00</td>\n",
       "      <td>0.0</td>\n",
       "      <td>0.0</td>\n",
       "    </tr>\n",
       "    <tr>\n",
       "      <th>...</th>\n",
       "      <td>...</td>\n",
       "      <td>...</td>\n",
       "      <td>...</td>\n",
       "    </tr>\n",
       "    <tr>\n",
       "      <th>26234</th>\n",
       "      <td>2021-02-28 20:00:00</td>\n",
       "      <td>0.0</td>\n",
       "      <td>0.0</td>\n",
       "    </tr>\n",
       "    <tr>\n",
       "      <th>26235</th>\n",
       "      <td>2021-02-28 21:00:00</td>\n",
       "      <td>0.0</td>\n",
       "      <td>0.0</td>\n",
       "    </tr>\n",
       "    <tr>\n",
       "      <th>26236</th>\n",
       "      <td>2021-02-28 22:00:00</td>\n",
       "      <td>0.0</td>\n",
       "      <td>0.0</td>\n",
       "    </tr>\n",
       "    <tr>\n",
       "      <th>26237</th>\n",
       "      <td>2021-02-28 23:00:00</td>\n",
       "      <td>0.0</td>\n",
       "      <td>0.0</td>\n",
       "    </tr>\n",
       "    <tr>\n",
       "      <th>26238</th>\n",
       "      <td>2021-03-01 00:00:00</td>\n",
       "      <td>0.0</td>\n",
       "      <td>0.0</td>\n",
       "    </tr>\n",
       "  </tbody>\n",
       "</table>\n",
       "<p>26239 rows × 3 columns</p>\n",
       "</div>"
      ],
      "text/plain": [
       "                     time  Sunlight  Radiation\n",
       "0     2018-03-02 01:00:00       0.0        0.0\n",
       "1     2018-03-02 02:00:00       0.0        0.0\n",
       "2     2018-03-02 03:00:00       0.0        0.0\n",
       "3     2018-03-02 04:00:00       0.0        0.0\n",
       "4     2018-03-02 05:00:00       0.0        0.0\n",
       "...                   ...       ...        ...\n",
       "26234 2021-02-28 20:00:00       0.0        0.0\n",
       "26235 2021-02-28 21:00:00       0.0        0.0\n",
       "26236 2021-02-28 22:00:00       0.0        0.0\n",
       "26237 2021-02-28 23:00:00       0.0        0.0\n",
       "26238 2021-03-01 00:00:00       0.0        0.0\n",
       "\n",
       "[26239 rows x 3 columns]"
      ]
     },
     "execution_count": 59,
     "metadata": {},
     "output_type": "execute_result"
    }
   ],
   "source": [
    "dangjin_solar = pd.read_csv('data/dangjin_obs/OBS_ASOS_TIM.csv', names=['time', 'Sunlight', 'Radiation']\n",
    "                            , header=0).fillna(0)[:26239]\n",
    "dangjin_solar['time'] = pd.to_datetime(dangjin_solar['time'])\n",
    "dangjin_solar"
   ]
  },
  {
   "cell_type": "markdown",
   "id": "9d33687d",
   "metadata": {},
   "source": [
    "# 4. 탐색적 데이터 분석 (Exploratory Data Analysis)"
   ]
  },
  {
   "cell_type": "markdown",
   "id": "1abb9794",
   "metadata": {},
   "source": [
    "### 예보시간 별 관측 데이터 비교 시각화"
   ]
  },
  {
   "cell_type": "code",
   "execution_count": 381,
   "id": "d791944d",
   "metadata": {},
   "outputs": [],
   "source": [
    "def compare_fcst_obs(fcst_df, obs_df):\n",
    "    \n",
    "    obs_df['time'] = pd.to_datetime(obs_df['time'])\n",
    "    \n",
    "    compare_df = pd.merge(obs_df, fcst_df, on='time', how='inner')\n",
    "    \n",
    "    error_temperature = mean_squared_error(compare_df['Temperature_x'], compare_df['Temperature_y'])\n",
    "    error_humidity = mean_squared_error(compare_df['Humidity_x'], compare_df['Humidity_y'])\n",
    "    error_windspeed = mean_squared_error(compare_df['WindSpeed_x'], compare_df['WindSpeed_y'])\n",
    "    error_winddirection = mean_squared_error(compare_df['WindDirection_x'], compare_df['WindDirection_y'])\n",
    "    error_cloud = mean_squared_error(compare_df['Cloud_x'], compare_df['Cloud_y'])\n",
    "    \n",
    "    return np.array([error_temperature, error_humidity, error_windspeed, error_winddirection, error_cloud])"
   ]
  },
  {
   "cell_type": "code",
   "execution_count": 456,
   "id": "87bd98d2",
   "metadata": {},
   "outputs": [
    {
     "data": {
      "text/html": [
       "<div>\n",
       "<style scoped>\n",
       "    .dataframe tbody tr th:only-of-type {\n",
       "        vertical-align: middle;\n",
       "    }\n",
       "\n",
       "    .dataframe tbody tr th {\n",
       "        vertical-align: top;\n",
       "    }\n",
       "\n",
       "    .dataframe thead th {\n",
       "        text-align: right;\n",
       "    }\n",
       "</style>\n",
       "<table border=\"1\" class=\"dataframe\">\n",
       "  <thead>\n",
       "    <tr style=\"text-align: right;\">\n",
       "      <th></th>\n",
       "      <th>11h</th>\n",
       "      <th>14h</th>\n",
       "      <th>17h</th>\n",
       "      <th>20h</th>\n",
       "      <th>23h</th>\n",
       "    </tr>\n",
       "  </thead>\n",
       "  <tbody>\n",
       "    <tr>\n",
       "      <th>0</th>\n",
       "      <td>2.990017</td>\n",
       "      <td>2.987554</td>\n",
       "      <td>2.893376</td>\n",
       "      <td>2.924703</td>\n",
       "      <td>2.920766</td>\n",
       "    </tr>\n",
       "    <tr>\n",
       "      <th>1</th>\n",
       "      <td>166.003978</td>\n",
       "      <td>166.709114</td>\n",
       "      <td>159.314071</td>\n",
       "      <td>159.343523</td>\n",
       "      <td>159.244355</td>\n",
       "    </tr>\n",
       "    <tr>\n",
       "      <th>2</th>\n",
       "      <td>9.065349</td>\n",
       "      <td>9.191337</td>\n",
       "      <td>8.904729</td>\n",
       "      <td>8.987842</td>\n",
       "      <td>9.101408</td>\n",
       "    </tr>\n",
       "    <tr>\n",
       "      <th>3</th>\n",
       "      <td>24766.090802</td>\n",
       "      <td>25114.353762</td>\n",
       "      <td>24943.666405</td>\n",
       "      <td>24838.441922</td>\n",
       "      <td>24812.583772</td>\n",
       "    </tr>\n",
       "    <tr>\n",
       "      <th>4</th>\n",
       "      <td>18.706565</td>\n",
       "      <td>18.760627</td>\n",
       "      <td>18.584501</td>\n",
       "      <td>18.678048</td>\n",
       "      <td>18.637971</td>\n",
       "    </tr>\n",
       "  </tbody>\n",
       "</table>\n",
       "</div>"
      ],
      "text/plain": [
       "            11h           14h           17h           20h           23h\n",
       "0      2.990017      2.987554      2.893376      2.924703      2.920766\n",
       "1    166.003978    166.709114    159.314071    159.343523    159.244355\n",
       "2      9.065349      9.191337      8.904729      8.987842      9.101408\n",
       "3  24766.090802  25114.353762  24943.666405  24838.441922  24812.583772\n",
       "4     18.706565     18.760627     18.584501     18.678048     18.637971"
      ]
     },
     "execution_count": 456,
     "metadata": {},
     "output_type": "execute_result"
    }
   ],
   "source": [
    "compare_df = pd.DataFrame()\n",
    "compare_df['11h'] = compare_fcst_obs(dangjin_fcst_11h, dangjin_obs)\n",
    "compare_df['14h'] = compare_fcst_obs(dangjin_fcst_14h, dangjin_obs)\n",
    "compare_df['17h'] = compare_fcst_obs(dangjin_fcst_17h, dangjin_obs)\n",
    "compare_df['20h'] = compare_fcst_obs(dangjin_fcst_20h, dangjin_obs)\n",
    "compare_df['23h'] = compare_fcst_obs(dangjin_fcst_23h, dangjin_obs)\n",
    "compare_df"
   ]
  },
  {
   "cell_type": "code",
   "execution_count": 457,
   "id": "b1fb4a4a",
   "metadata": {},
   "outputs": [
    {
     "data": {
      "application/vnd.plotly.v1+json": {
       "config": {
        "plotlyServerURL": "https://plot.ly"
       },
       "data": [
        {
         "mode": "lines",
         "name": "0 Sample",
         "showlegend": false,
         "type": "scatter",
         "x": [
          "11h",
          "14h",
          "17h",
          "20h",
          "23h"
         ],
         "xaxis": "x",
         "y": [
          2.9900168443730877,
          2.9875538687388397,
          2.8933757637844475,
          2.924703368103509,
          2.920765991848284
         ],
         "yaxis": "y"
        },
        {
         "mode": "lines",
         "name": "1 Sample",
         "showlegend": false,
         "type": "scatter",
         "x": [
          "11h",
          "14h",
          "17h",
          "20h",
          "23h"
         ],
         "xaxis": "x2",
         "y": [
          166.00397791363056,
          166.70911420948997,
          159.31407081671352,
          159.34352309091523,
          159.24435510492808
         ],
         "yaxis": "y2"
        },
        {
         "mode": "lines",
         "name": "2 Sample",
         "showlegend": false,
         "type": "scatter",
         "x": [
          "11h",
          "14h",
          "17h",
          "20h",
          "23h"
         ],
         "xaxis": "x3",
         "y": [
          9.06534937361094,
          9.191337454890006,
          8.904728805607505,
          8.987841658148161,
          9.101407986508123
         ],
         "yaxis": "y3"
        },
        {
         "mode": "lines",
         "name": "3 Sample",
         "showlegend": false,
         "type": "scatter",
         "x": [
          "11h",
          "14h",
          "17h",
          "20h",
          "23h"
         ],
         "xaxis": "x4",
         "y": [
          24766.09080180588,
          25114.3537621659,
          24943.666405109096,
          24838.441921828857,
          24812.583772171132
         ],
         "yaxis": "y4"
        },
        {
         "mode": "lines",
         "name": "4 Sample",
         "showlegend": false,
         "type": "scatter",
         "x": [
          "11h",
          "14h",
          "17h",
          "20h",
          "23h"
         ],
         "xaxis": "x5",
         "y": [
          18.706564845690448,
          18.76062729819955,
          18.584501260562202,
          18.6780483788265,
          18.637970978692508
         ],
         "yaxis": "y5"
        }
       ],
       "layout": {
        "annotations": [
         {
          "font": {
           "size": 16
          },
          "showarrow": false,
          "text": "Temperature's error",
          "x": 0.08399999999999999,
          "xanchor": "center",
          "xref": "paper",
          "y": 1,
          "yanchor": "bottom",
          "yref": "paper"
         },
         {
          "font": {
           "size": 16
          },
          "showarrow": false,
          "text": "Precipitation's error",
          "x": 0.292,
          "xanchor": "center",
          "xref": "paper",
          "y": 1,
          "yanchor": "bottom",
          "yref": "paper"
         },
         {
          "font": {
           "size": 16
          },
          "showarrow": false,
          "text": "PrecRate's error",
          "x": 0.5,
          "xanchor": "center",
          "xref": "paper",
          "y": 1,
          "yanchor": "bottom",
          "yref": "paper"
         },
         {
          "font": {
           "size": 16
          },
          "showarrow": false,
          "text": "Humidity's error",
          "x": 0.708,
          "xanchor": "center",
          "xref": "paper",
          "y": 1,
          "yanchor": "bottom",
          "yref": "paper"
         },
         {
          "font": {
           "size": 16
          },
          "showarrow": false,
          "text": "WindSpeed's error",
          "x": 0.9159999999999999,
          "xanchor": "center",
          "xref": "paper",
          "y": 1,
          "yanchor": "bottom",
          "yref": "paper"
         }
        ],
        "height": 400,
        "template": {
         "data": {
          "bar": [
           {
            "error_x": {
             "color": "#2a3f5f"
            },
            "error_y": {
             "color": "#2a3f5f"
            },
            "marker": {
             "line": {
              "color": "#E5ECF6",
              "width": 0.5
             }
            },
            "type": "bar"
           }
          ],
          "barpolar": [
           {
            "marker": {
             "line": {
              "color": "#E5ECF6",
              "width": 0.5
             }
            },
            "type": "barpolar"
           }
          ],
          "carpet": [
           {
            "aaxis": {
             "endlinecolor": "#2a3f5f",
             "gridcolor": "white",
             "linecolor": "white",
             "minorgridcolor": "white",
             "startlinecolor": "#2a3f5f"
            },
            "baxis": {
             "endlinecolor": "#2a3f5f",
             "gridcolor": "white",
             "linecolor": "white",
             "minorgridcolor": "white",
             "startlinecolor": "#2a3f5f"
            },
            "type": "carpet"
           }
          ],
          "choropleth": [
           {
            "colorbar": {
             "outlinewidth": 0,
             "ticks": ""
            },
            "type": "choropleth"
           }
          ],
          "contour": [
           {
            "colorbar": {
             "outlinewidth": 0,
             "ticks": ""
            },
            "colorscale": [
             [
              0,
              "#0d0887"
             ],
             [
              0.1111111111111111,
              "#46039f"
             ],
             [
              0.2222222222222222,
              "#7201a8"
             ],
             [
              0.3333333333333333,
              "#9c179e"
             ],
             [
              0.4444444444444444,
              "#bd3786"
             ],
             [
              0.5555555555555556,
              "#d8576b"
             ],
             [
              0.6666666666666666,
              "#ed7953"
             ],
             [
              0.7777777777777778,
              "#fb9f3a"
             ],
             [
              0.8888888888888888,
              "#fdca26"
             ],
             [
              1,
              "#f0f921"
             ]
            ],
            "type": "contour"
           }
          ],
          "contourcarpet": [
           {
            "colorbar": {
             "outlinewidth": 0,
             "ticks": ""
            },
            "type": "contourcarpet"
           }
          ],
          "heatmap": [
           {
            "colorbar": {
             "outlinewidth": 0,
             "ticks": ""
            },
            "colorscale": [
             [
              0,
              "#0d0887"
             ],
             [
              0.1111111111111111,
              "#46039f"
             ],
             [
              0.2222222222222222,
              "#7201a8"
             ],
             [
              0.3333333333333333,
              "#9c179e"
             ],
             [
              0.4444444444444444,
              "#bd3786"
             ],
             [
              0.5555555555555556,
              "#d8576b"
             ],
             [
              0.6666666666666666,
              "#ed7953"
             ],
             [
              0.7777777777777778,
              "#fb9f3a"
             ],
             [
              0.8888888888888888,
              "#fdca26"
             ],
             [
              1,
              "#f0f921"
             ]
            ],
            "type": "heatmap"
           }
          ],
          "heatmapgl": [
           {
            "colorbar": {
             "outlinewidth": 0,
             "ticks": ""
            },
            "colorscale": [
             [
              0,
              "#0d0887"
             ],
             [
              0.1111111111111111,
              "#46039f"
             ],
             [
              0.2222222222222222,
              "#7201a8"
             ],
             [
              0.3333333333333333,
              "#9c179e"
             ],
             [
              0.4444444444444444,
              "#bd3786"
             ],
             [
              0.5555555555555556,
              "#d8576b"
             ],
             [
              0.6666666666666666,
              "#ed7953"
             ],
             [
              0.7777777777777778,
              "#fb9f3a"
             ],
             [
              0.8888888888888888,
              "#fdca26"
             ],
             [
              1,
              "#f0f921"
             ]
            ],
            "type": "heatmapgl"
           }
          ],
          "histogram": [
           {
            "marker": {
             "colorbar": {
              "outlinewidth": 0,
              "ticks": ""
             }
            },
            "type": "histogram"
           }
          ],
          "histogram2d": [
           {
            "colorbar": {
             "outlinewidth": 0,
             "ticks": ""
            },
            "colorscale": [
             [
              0,
              "#0d0887"
             ],
             [
              0.1111111111111111,
              "#46039f"
             ],
             [
              0.2222222222222222,
              "#7201a8"
             ],
             [
              0.3333333333333333,
              "#9c179e"
             ],
             [
              0.4444444444444444,
              "#bd3786"
             ],
             [
              0.5555555555555556,
              "#d8576b"
             ],
             [
              0.6666666666666666,
              "#ed7953"
             ],
             [
              0.7777777777777778,
              "#fb9f3a"
             ],
             [
              0.8888888888888888,
              "#fdca26"
             ],
             [
              1,
              "#f0f921"
             ]
            ],
            "type": "histogram2d"
           }
          ],
          "histogram2dcontour": [
           {
            "colorbar": {
             "outlinewidth": 0,
             "ticks": ""
            },
            "colorscale": [
             [
              0,
              "#0d0887"
             ],
             [
              0.1111111111111111,
              "#46039f"
             ],
             [
              0.2222222222222222,
              "#7201a8"
             ],
             [
              0.3333333333333333,
              "#9c179e"
             ],
             [
              0.4444444444444444,
              "#bd3786"
             ],
             [
              0.5555555555555556,
              "#d8576b"
             ],
             [
              0.6666666666666666,
              "#ed7953"
             ],
             [
              0.7777777777777778,
              "#fb9f3a"
             ],
             [
              0.8888888888888888,
              "#fdca26"
             ],
             [
              1,
              "#f0f921"
             ]
            ],
            "type": "histogram2dcontour"
           }
          ],
          "mesh3d": [
           {
            "colorbar": {
             "outlinewidth": 0,
             "ticks": ""
            },
            "type": "mesh3d"
           }
          ],
          "parcoords": [
           {
            "line": {
             "colorbar": {
              "outlinewidth": 0,
              "ticks": ""
             }
            },
            "type": "parcoords"
           }
          ],
          "pie": [
           {
            "automargin": true,
            "type": "pie"
           }
          ],
          "scatter": [
           {
            "marker": {
             "colorbar": {
              "outlinewidth": 0,
              "ticks": ""
             }
            },
            "type": "scatter"
           }
          ],
          "scatter3d": [
           {
            "line": {
             "colorbar": {
              "outlinewidth": 0,
              "ticks": ""
             }
            },
            "marker": {
             "colorbar": {
              "outlinewidth": 0,
              "ticks": ""
             }
            },
            "type": "scatter3d"
           }
          ],
          "scattercarpet": [
           {
            "marker": {
             "colorbar": {
              "outlinewidth": 0,
              "ticks": ""
             }
            },
            "type": "scattercarpet"
           }
          ],
          "scattergeo": [
           {
            "marker": {
             "colorbar": {
              "outlinewidth": 0,
              "ticks": ""
             }
            },
            "type": "scattergeo"
           }
          ],
          "scattergl": [
           {
            "marker": {
             "colorbar": {
              "outlinewidth": 0,
              "ticks": ""
             }
            },
            "type": "scattergl"
           }
          ],
          "scattermapbox": [
           {
            "marker": {
             "colorbar": {
              "outlinewidth": 0,
              "ticks": ""
             }
            },
            "type": "scattermapbox"
           }
          ],
          "scatterpolar": [
           {
            "marker": {
             "colorbar": {
              "outlinewidth": 0,
              "ticks": ""
             }
            },
            "type": "scatterpolar"
           }
          ],
          "scatterpolargl": [
           {
            "marker": {
             "colorbar": {
              "outlinewidth": 0,
              "ticks": ""
             }
            },
            "type": "scatterpolargl"
           }
          ],
          "scatterternary": [
           {
            "marker": {
             "colorbar": {
              "outlinewidth": 0,
              "ticks": ""
             }
            },
            "type": "scatterternary"
           }
          ],
          "surface": [
           {
            "colorbar": {
             "outlinewidth": 0,
             "ticks": ""
            },
            "colorscale": [
             [
              0,
              "#0d0887"
             ],
             [
              0.1111111111111111,
              "#46039f"
             ],
             [
              0.2222222222222222,
              "#7201a8"
             ],
             [
              0.3333333333333333,
              "#9c179e"
             ],
             [
              0.4444444444444444,
              "#bd3786"
             ],
             [
              0.5555555555555556,
              "#d8576b"
             ],
             [
              0.6666666666666666,
              "#ed7953"
             ],
             [
              0.7777777777777778,
              "#fb9f3a"
             ],
             [
              0.8888888888888888,
              "#fdca26"
             ],
             [
              1,
              "#f0f921"
             ]
            ],
            "type": "surface"
           }
          ],
          "table": [
           {
            "cells": {
             "fill": {
              "color": "#EBF0F8"
             },
             "line": {
              "color": "white"
             }
            },
            "header": {
             "fill": {
              "color": "#C8D4E3"
             },
             "line": {
              "color": "white"
             }
            },
            "type": "table"
           }
          ]
         },
         "layout": {
          "annotationdefaults": {
           "arrowcolor": "#2a3f5f",
           "arrowhead": 0,
           "arrowwidth": 1
          },
          "autotypenumbers": "strict",
          "coloraxis": {
           "colorbar": {
            "outlinewidth": 0,
            "ticks": ""
           }
          },
          "colorscale": {
           "diverging": [
            [
             0,
             "#8e0152"
            ],
            [
             0.1,
             "#c51b7d"
            ],
            [
             0.2,
             "#de77ae"
            ],
            [
             0.3,
             "#f1b6da"
            ],
            [
             0.4,
             "#fde0ef"
            ],
            [
             0.5,
             "#f7f7f7"
            ],
            [
             0.6,
             "#e6f5d0"
            ],
            [
             0.7,
             "#b8e186"
            ],
            [
             0.8,
             "#7fbc41"
            ],
            [
             0.9,
             "#4d9221"
            ],
            [
             1,
             "#276419"
            ]
           ],
           "sequential": [
            [
             0,
             "#0d0887"
            ],
            [
             0.1111111111111111,
             "#46039f"
            ],
            [
             0.2222222222222222,
             "#7201a8"
            ],
            [
             0.3333333333333333,
             "#9c179e"
            ],
            [
             0.4444444444444444,
             "#bd3786"
            ],
            [
             0.5555555555555556,
             "#d8576b"
            ],
            [
             0.6666666666666666,
             "#ed7953"
            ],
            [
             0.7777777777777778,
             "#fb9f3a"
            ],
            [
             0.8888888888888888,
             "#fdca26"
            ],
            [
             1,
             "#f0f921"
            ]
           ],
           "sequentialminus": [
            [
             0,
             "#0d0887"
            ],
            [
             0.1111111111111111,
             "#46039f"
            ],
            [
             0.2222222222222222,
             "#7201a8"
            ],
            [
             0.3333333333333333,
             "#9c179e"
            ],
            [
             0.4444444444444444,
             "#bd3786"
            ],
            [
             0.5555555555555556,
             "#d8576b"
            ],
            [
             0.6666666666666666,
             "#ed7953"
            ],
            [
             0.7777777777777778,
             "#fb9f3a"
            ],
            [
             0.8888888888888888,
             "#fdca26"
            ],
            [
             1,
             "#f0f921"
            ]
           ]
          },
          "colorway": [
           "#636efa",
           "#EF553B",
           "#00cc96",
           "#ab63fa",
           "#FFA15A",
           "#19d3f3",
           "#FF6692",
           "#B6E880",
           "#FF97FF",
           "#FECB52"
          ],
          "font": {
           "color": "#2a3f5f"
          },
          "geo": {
           "bgcolor": "white",
           "lakecolor": "white",
           "landcolor": "#E5ECF6",
           "showlakes": true,
           "showland": true,
           "subunitcolor": "white"
          },
          "hoverlabel": {
           "align": "left"
          },
          "hovermode": "closest",
          "mapbox": {
           "style": "light"
          },
          "paper_bgcolor": "white",
          "plot_bgcolor": "#E5ECF6",
          "polar": {
           "angularaxis": {
            "gridcolor": "white",
            "linecolor": "white",
            "ticks": ""
           },
           "bgcolor": "#E5ECF6",
           "radialaxis": {
            "gridcolor": "white",
            "linecolor": "white",
            "ticks": ""
           }
          },
          "scene": {
           "xaxis": {
            "backgroundcolor": "#E5ECF6",
            "gridcolor": "white",
            "gridwidth": 2,
            "linecolor": "white",
            "showbackground": true,
            "ticks": "",
            "zerolinecolor": "white"
           },
           "yaxis": {
            "backgroundcolor": "#E5ECF6",
            "gridcolor": "white",
            "gridwidth": 2,
            "linecolor": "white",
            "showbackground": true,
            "ticks": "",
            "zerolinecolor": "white"
           },
           "zaxis": {
            "backgroundcolor": "#E5ECF6",
            "gridcolor": "white",
            "gridwidth": 2,
            "linecolor": "white",
            "showbackground": true,
            "ticks": "",
            "zerolinecolor": "white"
           }
          },
          "shapedefaults": {
           "line": {
            "color": "#2a3f5f"
           }
          },
          "ternary": {
           "aaxis": {
            "gridcolor": "white",
            "linecolor": "white",
            "ticks": ""
           },
           "baxis": {
            "gridcolor": "white",
            "linecolor": "white",
            "ticks": ""
           },
           "bgcolor": "#E5ECF6",
           "caxis": {
            "gridcolor": "white",
            "linecolor": "white",
            "ticks": ""
           }
          },
          "title": {
           "x": 0.05
          },
          "xaxis": {
           "automargin": true,
           "gridcolor": "white",
           "linecolor": "white",
           "ticks": "",
           "title": {
            "standoff": 15
           },
           "zerolinecolor": "white",
           "zerolinewidth": 2
          },
          "yaxis": {
           "automargin": true,
           "gridcolor": "white",
           "linecolor": "white",
           "ticks": "",
           "title": {
            "standoff": 15
           },
           "zerolinecolor": "white",
           "zerolinewidth": 2
          }
         }
        },
        "title": {
         "font": {
          "family": "Times New Roman",
          "size": 20
         },
         "text": "MSE Plot"
        },
        "width": 1000,
        "xaxis": {
         "anchor": "y",
         "domain": [
          0,
          0.16799999999999998
         ]
        },
        "xaxis2": {
         "anchor": "y2",
         "domain": [
          0.208,
          0.376
         ]
        },
        "xaxis3": {
         "anchor": "y3",
         "domain": [
          0.416,
          0.584
         ]
        },
        "xaxis4": {
         "anchor": "y4",
         "domain": [
          0.624,
          0.792
         ]
        },
        "xaxis5": {
         "anchor": "y5",
         "domain": [
          0.832,
          1
         ]
        },
        "yaxis": {
         "anchor": "x",
         "domain": [
          0,
          1
         ]
        },
        "yaxis2": {
         "anchor": "x2",
         "domain": [
          0,
          1
         ]
        },
        "yaxis3": {
         "anchor": "x3",
         "domain": [
          0,
          1
         ]
        },
        "yaxis4": {
         "anchor": "x4",
         "domain": [
          0,
          1
         ]
        },
        "yaxis5": {
         "anchor": "x5",
         "domain": [
          0,
          1
         ]
        }
       }
      },
      "text/html": [
       "<div>                            <div id=\"67b25352-4ba0-4afc-9fe5-de8fb918769a\" class=\"plotly-graph-div\" style=\"height:400px; width:1000px;\"></div>            <script type=\"text/javascript\">                require([\"plotly\"], function(Plotly) {                    window.PLOTLYENV=window.PLOTLYENV || {};                                    if (document.getElementById(\"67b25352-4ba0-4afc-9fe5-de8fb918769a\")) {                    Plotly.newPlot(                        \"67b25352-4ba0-4afc-9fe5-de8fb918769a\",                        [{\"mode\": \"lines\", \"name\": \"0 Sample\", \"showlegend\": false, \"type\": \"scatter\", \"x\": [\"11h\", \"14h\", \"17h\", \"20h\", \"23h\"], \"xaxis\": \"x\", \"y\": [2.9900168443730877, 2.9875538687388397, 2.8933757637844475, 2.924703368103509, 2.920765991848284], \"yaxis\": \"y\"}, {\"mode\": \"lines\", \"name\": \"1 Sample\", \"showlegend\": false, \"type\": \"scatter\", \"x\": [\"11h\", \"14h\", \"17h\", \"20h\", \"23h\"], \"xaxis\": \"x2\", \"y\": [166.00397791363056, 166.70911420948997, 159.31407081671352, 159.34352309091523, 159.24435510492808], \"yaxis\": \"y2\"}, {\"mode\": \"lines\", \"name\": \"2 Sample\", \"showlegend\": false, \"type\": \"scatter\", \"x\": [\"11h\", \"14h\", \"17h\", \"20h\", \"23h\"], \"xaxis\": \"x3\", \"y\": [9.06534937361094, 9.191337454890006, 8.904728805607505, 8.987841658148161, 9.101407986508123], \"yaxis\": \"y3\"}, {\"mode\": \"lines\", \"name\": \"3 Sample\", \"showlegend\": false, \"type\": \"scatter\", \"x\": [\"11h\", \"14h\", \"17h\", \"20h\", \"23h\"], \"xaxis\": \"x4\", \"y\": [24766.09080180588, 25114.3537621659, 24943.666405109096, 24838.441921828857, 24812.583772171132], \"yaxis\": \"y4\"}, {\"mode\": \"lines\", \"name\": \"4 Sample\", \"showlegend\": false, \"type\": \"scatter\", \"x\": [\"11h\", \"14h\", \"17h\", \"20h\", \"23h\"], \"xaxis\": \"x5\", \"y\": [18.706564845690448, 18.76062729819955, 18.584501260562202, 18.6780483788265, 18.637970978692508], \"yaxis\": \"y5\"}],                        {\"annotations\": [{\"font\": {\"size\": 16}, \"showarrow\": false, \"text\": \"Temperature's error\", \"x\": 0.08399999999999999, \"xanchor\": \"center\", \"xref\": \"paper\", \"y\": 1.0, \"yanchor\": \"bottom\", \"yref\": \"paper\"}, {\"font\": {\"size\": 16}, \"showarrow\": false, \"text\": \"Precipitation's error\", \"x\": 0.292, \"xanchor\": \"center\", \"xref\": \"paper\", \"y\": 1.0, \"yanchor\": \"bottom\", \"yref\": \"paper\"}, {\"font\": {\"size\": 16}, \"showarrow\": false, \"text\": \"PrecRate's error\", \"x\": 0.5, \"xanchor\": \"center\", \"xref\": \"paper\", \"y\": 1.0, \"yanchor\": \"bottom\", \"yref\": \"paper\"}, {\"font\": {\"size\": 16}, \"showarrow\": false, \"text\": \"Humidity's error\", \"x\": 0.708, \"xanchor\": \"center\", \"xref\": \"paper\", \"y\": 1.0, \"yanchor\": \"bottom\", \"yref\": \"paper\"}, {\"font\": {\"size\": 16}, \"showarrow\": false, \"text\": \"WindSpeed's error\", \"x\": 0.9159999999999999, \"xanchor\": \"center\", \"xref\": \"paper\", \"y\": 1.0, \"yanchor\": \"bottom\", \"yref\": \"paper\"}], \"height\": 400, \"template\": {\"data\": {\"bar\": [{\"error_x\": {\"color\": \"#2a3f5f\"}, \"error_y\": {\"color\": \"#2a3f5f\"}, \"marker\": {\"line\": {\"color\": \"#E5ECF6\", \"width\": 0.5}}, \"type\": \"bar\"}], \"barpolar\": [{\"marker\": {\"line\": {\"color\": \"#E5ECF6\", \"width\": 0.5}}, \"type\": \"barpolar\"}], \"carpet\": [{\"aaxis\": {\"endlinecolor\": \"#2a3f5f\", \"gridcolor\": \"white\", \"linecolor\": \"white\", \"minorgridcolor\": \"white\", \"startlinecolor\": \"#2a3f5f\"}, \"baxis\": {\"endlinecolor\": \"#2a3f5f\", \"gridcolor\": \"white\", \"linecolor\": \"white\", \"minorgridcolor\": \"white\", \"startlinecolor\": \"#2a3f5f\"}, \"type\": \"carpet\"}], \"choropleth\": [{\"colorbar\": {\"outlinewidth\": 0, \"ticks\": \"\"}, \"type\": \"choropleth\"}], \"contour\": [{\"colorbar\": {\"outlinewidth\": 0, \"ticks\": \"\"}, \"colorscale\": [[0.0, \"#0d0887\"], [0.1111111111111111, \"#46039f\"], [0.2222222222222222, \"#7201a8\"], [0.3333333333333333, \"#9c179e\"], [0.4444444444444444, \"#bd3786\"], [0.5555555555555556, \"#d8576b\"], [0.6666666666666666, \"#ed7953\"], [0.7777777777777778, \"#fb9f3a\"], [0.8888888888888888, \"#fdca26\"], [1.0, \"#f0f921\"]], \"type\": \"contour\"}], \"contourcarpet\": [{\"colorbar\": {\"outlinewidth\": 0, \"ticks\": \"\"}, \"type\": \"contourcarpet\"}], \"heatmap\": [{\"colorbar\": {\"outlinewidth\": 0, \"ticks\": \"\"}, \"colorscale\": [[0.0, \"#0d0887\"], [0.1111111111111111, \"#46039f\"], [0.2222222222222222, \"#7201a8\"], [0.3333333333333333, \"#9c179e\"], [0.4444444444444444, \"#bd3786\"], [0.5555555555555556, \"#d8576b\"], [0.6666666666666666, \"#ed7953\"], [0.7777777777777778, \"#fb9f3a\"], [0.8888888888888888, \"#fdca26\"], [1.0, \"#f0f921\"]], \"type\": \"heatmap\"}], \"heatmapgl\": [{\"colorbar\": {\"outlinewidth\": 0, \"ticks\": \"\"}, \"colorscale\": [[0.0, \"#0d0887\"], [0.1111111111111111, \"#46039f\"], [0.2222222222222222, \"#7201a8\"], [0.3333333333333333, \"#9c179e\"], [0.4444444444444444, \"#bd3786\"], [0.5555555555555556, \"#d8576b\"], [0.6666666666666666, \"#ed7953\"], [0.7777777777777778, \"#fb9f3a\"], [0.8888888888888888, \"#fdca26\"], [1.0, \"#f0f921\"]], \"type\": \"heatmapgl\"}], \"histogram\": [{\"marker\": {\"colorbar\": {\"outlinewidth\": 0, \"ticks\": \"\"}}, \"type\": \"histogram\"}], \"histogram2d\": [{\"colorbar\": {\"outlinewidth\": 0, \"ticks\": \"\"}, \"colorscale\": [[0.0, \"#0d0887\"], [0.1111111111111111, \"#46039f\"], [0.2222222222222222, \"#7201a8\"], [0.3333333333333333, \"#9c179e\"], [0.4444444444444444, \"#bd3786\"], [0.5555555555555556, \"#d8576b\"], [0.6666666666666666, \"#ed7953\"], [0.7777777777777778, \"#fb9f3a\"], [0.8888888888888888, \"#fdca26\"], [1.0, \"#f0f921\"]], \"type\": \"histogram2d\"}], \"histogram2dcontour\": [{\"colorbar\": {\"outlinewidth\": 0, \"ticks\": \"\"}, \"colorscale\": [[0.0, \"#0d0887\"], [0.1111111111111111, \"#46039f\"], [0.2222222222222222, \"#7201a8\"], [0.3333333333333333, \"#9c179e\"], [0.4444444444444444, \"#bd3786\"], [0.5555555555555556, \"#d8576b\"], [0.6666666666666666, \"#ed7953\"], [0.7777777777777778, \"#fb9f3a\"], [0.8888888888888888, \"#fdca26\"], [1.0, \"#f0f921\"]], \"type\": \"histogram2dcontour\"}], \"mesh3d\": [{\"colorbar\": {\"outlinewidth\": 0, \"ticks\": \"\"}, \"type\": \"mesh3d\"}], \"parcoords\": [{\"line\": {\"colorbar\": {\"outlinewidth\": 0, \"ticks\": \"\"}}, \"type\": \"parcoords\"}], \"pie\": [{\"automargin\": true, \"type\": \"pie\"}], \"scatter\": [{\"marker\": {\"colorbar\": {\"outlinewidth\": 0, \"ticks\": \"\"}}, \"type\": \"scatter\"}], \"scatter3d\": [{\"line\": {\"colorbar\": {\"outlinewidth\": 0, \"ticks\": \"\"}}, \"marker\": {\"colorbar\": {\"outlinewidth\": 0, \"ticks\": \"\"}}, \"type\": \"scatter3d\"}], \"scattercarpet\": [{\"marker\": {\"colorbar\": {\"outlinewidth\": 0, \"ticks\": \"\"}}, \"type\": \"scattercarpet\"}], \"scattergeo\": [{\"marker\": {\"colorbar\": {\"outlinewidth\": 0, \"ticks\": \"\"}}, \"type\": \"scattergeo\"}], \"scattergl\": [{\"marker\": {\"colorbar\": {\"outlinewidth\": 0, \"ticks\": \"\"}}, \"type\": \"scattergl\"}], \"scattermapbox\": [{\"marker\": {\"colorbar\": {\"outlinewidth\": 0, \"ticks\": \"\"}}, \"type\": \"scattermapbox\"}], \"scatterpolar\": [{\"marker\": {\"colorbar\": {\"outlinewidth\": 0, \"ticks\": \"\"}}, \"type\": \"scatterpolar\"}], \"scatterpolargl\": [{\"marker\": {\"colorbar\": {\"outlinewidth\": 0, \"ticks\": \"\"}}, \"type\": \"scatterpolargl\"}], \"scatterternary\": [{\"marker\": {\"colorbar\": {\"outlinewidth\": 0, \"ticks\": \"\"}}, \"type\": \"scatterternary\"}], \"surface\": [{\"colorbar\": {\"outlinewidth\": 0, \"ticks\": \"\"}, \"colorscale\": [[0.0, \"#0d0887\"], [0.1111111111111111, \"#46039f\"], [0.2222222222222222, \"#7201a8\"], [0.3333333333333333, \"#9c179e\"], [0.4444444444444444, \"#bd3786\"], [0.5555555555555556, \"#d8576b\"], [0.6666666666666666, \"#ed7953\"], [0.7777777777777778, \"#fb9f3a\"], [0.8888888888888888, \"#fdca26\"], [1.0, \"#f0f921\"]], \"type\": \"surface\"}], \"table\": [{\"cells\": {\"fill\": {\"color\": \"#EBF0F8\"}, \"line\": {\"color\": \"white\"}}, \"header\": {\"fill\": {\"color\": \"#C8D4E3\"}, \"line\": {\"color\": \"white\"}}, \"type\": \"table\"}]}, \"layout\": {\"annotationdefaults\": {\"arrowcolor\": \"#2a3f5f\", \"arrowhead\": 0, \"arrowwidth\": 1}, \"autotypenumbers\": \"strict\", \"coloraxis\": {\"colorbar\": {\"outlinewidth\": 0, \"ticks\": \"\"}}, \"colorscale\": {\"diverging\": [[0, \"#8e0152\"], [0.1, \"#c51b7d\"], [0.2, \"#de77ae\"], [0.3, \"#f1b6da\"], [0.4, \"#fde0ef\"], [0.5, \"#f7f7f7\"], [0.6, \"#e6f5d0\"], [0.7, \"#b8e186\"], [0.8, \"#7fbc41\"], [0.9, \"#4d9221\"], [1, \"#276419\"]], \"sequential\": [[0.0, \"#0d0887\"], [0.1111111111111111, \"#46039f\"], [0.2222222222222222, \"#7201a8\"], [0.3333333333333333, \"#9c179e\"], [0.4444444444444444, \"#bd3786\"], [0.5555555555555556, \"#d8576b\"], [0.6666666666666666, \"#ed7953\"], [0.7777777777777778, \"#fb9f3a\"], [0.8888888888888888, \"#fdca26\"], [1.0, \"#f0f921\"]], \"sequentialminus\": [[0.0, \"#0d0887\"], [0.1111111111111111, \"#46039f\"], [0.2222222222222222, \"#7201a8\"], [0.3333333333333333, \"#9c179e\"], [0.4444444444444444, \"#bd3786\"], [0.5555555555555556, \"#d8576b\"], [0.6666666666666666, \"#ed7953\"], [0.7777777777777778, \"#fb9f3a\"], [0.8888888888888888, \"#fdca26\"], [1.0, \"#f0f921\"]]}, \"colorway\": [\"#636efa\", \"#EF553B\", \"#00cc96\", \"#ab63fa\", \"#FFA15A\", \"#19d3f3\", \"#FF6692\", \"#B6E880\", \"#FF97FF\", \"#FECB52\"], \"font\": {\"color\": \"#2a3f5f\"}, \"geo\": {\"bgcolor\": \"white\", \"lakecolor\": \"white\", \"landcolor\": \"#E5ECF6\", \"showlakes\": true, \"showland\": true, \"subunitcolor\": \"white\"}, \"hoverlabel\": {\"align\": \"left\"}, \"hovermode\": \"closest\", \"mapbox\": {\"style\": \"light\"}, \"paper_bgcolor\": \"white\", \"plot_bgcolor\": \"#E5ECF6\", \"polar\": {\"angularaxis\": {\"gridcolor\": \"white\", \"linecolor\": \"white\", \"ticks\": \"\"}, \"bgcolor\": \"#E5ECF6\", \"radialaxis\": {\"gridcolor\": \"white\", \"linecolor\": \"white\", \"ticks\": \"\"}}, \"scene\": {\"xaxis\": {\"backgroundcolor\": \"#E5ECF6\", \"gridcolor\": \"white\", \"gridwidth\": 2, \"linecolor\": \"white\", \"showbackground\": true, \"ticks\": \"\", \"zerolinecolor\": \"white\"}, \"yaxis\": {\"backgroundcolor\": \"#E5ECF6\", \"gridcolor\": \"white\", \"gridwidth\": 2, \"linecolor\": \"white\", \"showbackground\": true, \"ticks\": \"\", \"zerolinecolor\": \"white\"}, \"zaxis\": {\"backgroundcolor\": \"#E5ECF6\", \"gridcolor\": \"white\", \"gridwidth\": 2, \"linecolor\": \"white\", \"showbackground\": true, \"ticks\": \"\", \"zerolinecolor\": \"white\"}}, \"shapedefaults\": {\"line\": {\"color\": \"#2a3f5f\"}}, \"ternary\": {\"aaxis\": {\"gridcolor\": \"white\", \"linecolor\": \"white\", \"ticks\": \"\"}, \"baxis\": {\"gridcolor\": \"white\", \"linecolor\": \"white\", \"ticks\": \"\"}, \"bgcolor\": \"#E5ECF6\", \"caxis\": {\"gridcolor\": \"white\", \"linecolor\": \"white\", \"ticks\": \"\"}}, \"title\": {\"x\": 0.05}, \"xaxis\": {\"automargin\": true, \"gridcolor\": \"white\", \"linecolor\": \"white\", \"ticks\": \"\", \"title\": {\"standoff\": 15}, \"zerolinecolor\": \"white\", \"zerolinewidth\": 2}, \"yaxis\": {\"automargin\": true, \"gridcolor\": \"white\", \"linecolor\": \"white\", \"ticks\": \"\", \"title\": {\"standoff\": 15}, \"zerolinecolor\": \"white\", \"zerolinewidth\": 2}}}, \"title\": {\"font\": {\"family\": \"Times New Roman\", \"size\": 20}, \"text\": \"MSE Plot\"}, \"width\": 1000, \"xaxis\": {\"anchor\": \"y\", \"domain\": [0.0, 0.16799999999999998]}, \"xaxis2\": {\"anchor\": \"y2\", \"domain\": [0.208, 0.376]}, \"xaxis3\": {\"anchor\": \"y3\", \"domain\": [0.416, 0.584]}, \"xaxis4\": {\"anchor\": \"y4\", \"domain\": [0.624, 0.792]}, \"xaxis5\": {\"anchor\": \"y5\", \"domain\": [0.832, 1.0]}, \"yaxis\": {\"anchor\": \"x\", \"domain\": [0.0, 1.0]}, \"yaxis2\": {\"anchor\": \"x2\", \"domain\": [0.0, 1.0]}, \"yaxis3\": {\"anchor\": \"x3\", \"domain\": [0.0, 1.0]}, \"yaxis4\": {\"anchor\": \"x4\", \"domain\": [0.0, 1.0]}, \"yaxis5\": {\"anchor\": \"x5\", \"domain\": [0.0, 1.0]}},                        {\"responsive\": true}                    ).then(function(){\n",
       "                            \n",
       "var gd = document.getElementById('67b25352-4ba0-4afc-9fe5-de8fb918769a');\n",
       "var x = new MutationObserver(function (mutations, observer) {{\n",
       "        var display = window.getComputedStyle(gd).display;\n",
       "        if (!display || display === 'none') {{\n",
       "            console.log([gd, 'removed!']);\n",
       "            Plotly.purge(gd);\n",
       "            observer.disconnect();\n",
       "        }}\n",
       "}});\n",
       "\n",
       "// Listen for the removal of the full notebook cells\n",
       "var notebookContainer = gd.closest('#notebook-container');\n",
       "if (notebookContainer) {{\n",
       "    x.observe(notebookContainer, {childList: true});\n",
       "}}\n",
       "\n",
       "// Listen for the clearing of the current output cell\n",
       "var outputEl = gd.closest('.output');\n",
       "if (outputEl) {{\n",
       "    x.observe(outputEl, {childList: true});\n",
       "}}\n",
       "\n",
       "                        })                };                });            </script>        </div>"
      ]
     },
     "metadata": {},
     "output_type": "display_data"
    }
   ],
   "source": [
    "from plotly.subplots import make_subplots\n",
    "import plotly.graph_objects as go\n",
    "fig = make_subplots(rows=1, cols=5,\n",
    "                    subplot_titles=tuple([str(i)+'\\'s error' for i in list(dangjin_fcst_14h.columns[1:])]))\n",
    "\n",
    "for i in range(5):\n",
    "    fig.add_trace(go.Scatter(x=compare_df.iloc[i].index, y=compare_df.iloc[i],\n",
    "                                 showlegend=False, mode = 'lines', name='{} Sample'.format(i)),\n",
    "                     row=1, col=i+1)\n",
    "        \n",
    "fig.update_layout(height=400, width=1000, title='MSE Plot', \n",
    "                  title_font_size=20, title_font_family='Times New Roman')\n",
    "fig.show()"
   ]
  },
  {
   "cell_type": "markdown",
   "id": "924ce51c",
   "metadata": {},
   "source": [
    "### 예보 데이터와 관측 데이터 비교 시각화"
   ]
  },
  {
   "cell_type": "code",
   "execution_count": 212,
   "id": "024cb120",
   "metadata": {},
   "outputs": [
    {
     "data": {
      "image/png": "[encoded data removed]",
      "text/plain": [
       "<Figure size 1152x360 with 1 Axes>"
      ]
     },
     "metadata": {
      "needs_background": "light"
     },
     "output_type": "display_data"
    }
   ],
   "source": [
    "plt.figure(figsize=(16, 5))\n",
    "obs_idx = dangjin_obs[(dangjin_obs['time']>'2020-12-01')&(dangjin_obs['time']<'2021-01-30')].index\n",
    "fcst_idx = dangjin_fcst_2[(dangjin_fcst_11h['time']>'2020-12-01')&(dangjin_fcst_11h['time']<'2021-01-30')].index\n",
    "plt.plot(dangjin_obs.loc[obs_idx, 'time'], dangjin_obs.loc[obs_idx, 'Temperature'], label='obs')\n",
    "plt.plot(dangjin_fcst_11h.loc[fcst_idx, 'time'], dangjin_fcst_11h.loc[fcst_idx, 'Temperature'], label='fcst')\n",
    "plt.title('Temperature', fontsize=15)\n",
    "plt.legend(prop={'size':14}, loc='best')\n",
    "plt.show()"
   ]
  },
  {
   "cell_type": "code",
   "execution_count": 53,
   "id": "afc71023",
   "metadata": {
    "scrolled": true
   },
   "outputs": [
    {
     "data": {
      "image/png": "[encoded data removed]",
      "text/plain": [
       "<Figure size 1152x360 with 1 Axes>"
      ]
     },
     "metadata": {
      "needs_background": "light"
     },
     "output_type": "display_data"
    }
   ],
   "source": [
    "plt.figure(figsize=(16, 5))\n",
    "obs_idx = dangjin_obs[(dangjin_obs['time']>'2020-12-01')&(dangjin_obs['time']<'2021-01-30')].index\n",
    "fcst_idx = dangjin_fcst_2[(dangjin_fcst_2['time']>'2020-12-01')&(dangjin_fcst_2['time']<'2021-01-30')].index\n",
    "plt.plot(dangjin_obs.loc[obs_idx, 'time'], dangjin_obs.loc[obs_idx, 'Temperature'], label='obs')\n",
    "plt.plot(dangjin_fcst_2.loc[fcst_idx, 'time'], dangjin_fcst_2.loc[fcst_idx, 'Temperature'], label='fcst')\n",
    "plt.title('Temperature', fontsize=15)\n",
    "plt.legend(prop={'size':14}, loc='best')\n",
    "plt.show()"
   ]
  },
  {
   "cell_type": "markdown",
   "id": "37ccd859",
   "metadata": {},
   "source": [
    "# 5. 변수 조정 (Feature Engineering)"
   ]
  },
  {
   "cell_type": "markdown",
   "id": "c2d06205",
   "metadata": {},
   "source": [
    "## (1) 날짜 변수 생성"
   ]
  },
  {
   "cell_type": "code",
   "execution_count": 458,
   "id": "3fde3515",
   "metadata": {},
   "outputs": [],
   "source": [
    "def make_calendar_feature(fcst_df):\n",
    "    \n",
    "    # 예보 시간 및 날짜 정보 feature로 추가\n",
    "    fcst_df['date'] = fcst_df['time'].astype(str).str.split(' ').str[0]\n",
    "    fcst_df['hour'] = fcst_df['time'].astype(str).str.split(' ').str[1].str.split(':').str[0].astype(int)\n",
    "    \n",
    "    fcst_df['year'] = fcst_df['date'].str.split('-').str[0].astype(int)\n",
    "    fcst_df['month'] = fcst_df['date'].str.split('-').str[1].astype(int)\n",
    "    fcst_df['day'] = fcst_df['date'].str.split('-').str[2].astype(int)\n",
    "    fcst_df = fcst_df[['time', 'Temperature', 'Precipitation', 'PrecRate', 'Humidity', 'WindSpeed', \n",
    "                       'WindDirection', 'Cloud', 'hour', 'year', 'month', 'day']]\n",
    "    return fcst_df"
   ]
  },
  {
   "cell_type": "code",
   "execution_count": 459,
   "id": "4b9a2c1b",
   "metadata": {},
   "outputs": [
    {
     "data": {
      "text/html": [
       "<div>\n",
       "<style scoped>\n",
       "    .dataframe tbody tr th:only-of-type {\n",
       "        vertical-align: middle;\n",
       "    }\n",
       "\n",
       "    .dataframe tbody tr th {\n",
       "        vertical-align: top;\n",
       "    }\n",
       "\n",
       "    .dataframe thead th {\n",
       "        text-align: right;\n",
       "    }\n",
       "</style>\n",
       "<table border=\"1\" class=\"dataframe\">\n",
       "  <thead>\n",
       "    <tr style=\"text-align: right;\">\n",
       "      <th></th>\n",
       "      <th>time</th>\n",
       "      <th>Temperature</th>\n",
       "      <th>Precipitation</th>\n",
       "      <th>PrecRate</th>\n",
       "      <th>Humidity</th>\n",
       "      <th>WindSpeed</th>\n",
       "      <th>WindDirection</th>\n",
       "      <th>Cloud</th>\n",
       "      <th>hour</th>\n",
       "      <th>year</th>\n",
       "      <th>month</th>\n",
       "      <th>day</th>\n",
       "    </tr>\n",
       "  </thead>\n",
       "  <tbody>\n",
       "    <tr>\n",
       "      <th>0</th>\n",
       "      <td>2014-12-02 00:00:00</td>\n",
       "      <td>-0.400000</td>\n",
       "      <td>0.0</td>\n",
       "      <td>0.0</td>\n",
       "      <td>58.000000</td>\n",
       "      <td>7.500000</td>\n",
       "      <td>292.000000</td>\n",
       "      <td>1.0</td>\n",
       "      <td>0</td>\n",
       "      <td>2014</td>\n",
       "      <td>12</td>\n",
       "      <td>2</td>\n",
       "    </tr>\n",
       "    <tr>\n",
       "      <th>1</th>\n",
       "      <td>2014-12-02 01:00:00</td>\n",
       "      <td>-0.500000</td>\n",
       "      <td>0.0</td>\n",
       "      <td>0.0</td>\n",
       "      <td>59.000000</td>\n",
       "      <td>7.466667</td>\n",
       "      <td>291.666667</td>\n",
       "      <td>1.0</td>\n",
       "      <td>1</td>\n",
       "      <td>2014</td>\n",
       "      <td>12</td>\n",
       "      <td>2</td>\n",
       "    </tr>\n",
       "    <tr>\n",
       "      <th>2</th>\n",
       "      <td>2014-12-02 02:00:00</td>\n",
       "      <td>-0.600000</td>\n",
       "      <td>0.0</td>\n",
       "      <td>0.0</td>\n",
       "      <td>60.000000</td>\n",
       "      <td>7.433333</td>\n",
       "      <td>291.333333</td>\n",
       "      <td>1.0</td>\n",
       "      <td>2</td>\n",
       "      <td>2014</td>\n",
       "      <td>12</td>\n",
       "      <td>2</td>\n",
       "    </tr>\n",
       "    <tr>\n",
       "      <th>3</th>\n",
       "      <td>2014-12-02 03:00:00</td>\n",
       "      <td>-0.700000</td>\n",
       "      <td>0.0</td>\n",
       "      <td>0.0</td>\n",
       "      <td>61.000000</td>\n",
       "      <td>7.400000</td>\n",
       "      <td>291.000000</td>\n",
       "      <td>1.0</td>\n",
       "      <td>3</td>\n",
       "      <td>2014</td>\n",
       "      <td>12</td>\n",
       "      <td>2</td>\n",
       "    </tr>\n",
       "    <tr>\n",
       "      <th>4</th>\n",
       "      <td>2014-12-02 04:00:00</td>\n",
       "      <td>-0.733333</td>\n",
       "      <td>0.0</td>\n",
       "      <td>0.0</td>\n",
       "      <td>61.333333</td>\n",
       "      <td>7.233333</td>\n",
       "      <td>292.000000</td>\n",
       "      <td>1.0</td>\n",
       "      <td>4</td>\n",
       "      <td>2014</td>\n",
       "      <td>12</td>\n",
       "      <td>2</td>\n",
       "    </tr>\n",
       "    <tr>\n",
       "      <th>...</th>\n",
       "      <td>...</td>\n",
       "      <td>...</td>\n",
       "      <td>...</td>\n",
       "      <td>...</td>\n",
       "      <td>...</td>\n",
       "      <td>...</td>\n",
       "      <td>...</td>\n",
       "      <td>...</td>\n",
       "      <td>...</td>\n",
       "      <td>...</td>\n",
       "      <td>...</td>\n",
       "      <td>...</td>\n",
       "    </tr>\n",
       "    <tr>\n",
       "      <th>76487</th>\n",
       "      <td>2021-04-02 12:00:00</td>\n",
       "      <td>18.000000</td>\n",
       "      <td>0.0</td>\n",
       "      <td>30.0</td>\n",
       "      <td>60.000000</td>\n",
       "      <td>4.300000</td>\n",
       "      <td>69.000000</td>\n",
       "      <td>4.0</td>\n",
       "      <td>12</td>\n",
       "      <td>2021</td>\n",
       "      <td>4</td>\n",
       "      <td>2</td>\n",
       "    </tr>\n",
       "    <tr>\n",
       "      <th>76488</th>\n",
       "      <td>2021-04-02 15:00:00</td>\n",
       "      <td>18.000000</td>\n",
       "      <td>0.0</td>\n",
       "      <td>30.0</td>\n",
       "      <td>60.000000</td>\n",
       "      <td>4.600000</td>\n",
       "      <td>60.000000</td>\n",
       "      <td>4.0</td>\n",
       "      <td>15</td>\n",
       "      <td>2021</td>\n",
       "      <td>4</td>\n",
       "      <td>2</td>\n",
       "    </tr>\n",
       "    <tr>\n",
       "      <th>76489</th>\n",
       "      <td>2021-04-02 18:00:00</td>\n",
       "      <td>16.000000</td>\n",
       "      <td>0.0</td>\n",
       "      <td>30.0</td>\n",
       "      <td>70.000000</td>\n",
       "      <td>3.600000</td>\n",
       "      <td>37.000000</td>\n",
       "      <td>4.0</td>\n",
       "      <td>18</td>\n",
       "      <td>2021</td>\n",
       "      <td>4</td>\n",
       "      <td>2</td>\n",
       "    </tr>\n",
       "    <tr>\n",
       "      <th>76490</th>\n",
       "      <td>2021-04-02 21:00:00</td>\n",
       "      <td>14.000000</td>\n",
       "      <td>0.0</td>\n",
       "      <td>20.0</td>\n",
       "      <td>80.000000</td>\n",
       "      <td>3.100000</td>\n",
       "      <td>37.000000</td>\n",
       "      <td>3.0</td>\n",
       "      <td>21</td>\n",
       "      <td>2021</td>\n",
       "      <td>4</td>\n",
       "      <td>2</td>\n",
       "    </tr>\n",
       "    <tr>\n",
       "      <th>76491</th>\n",
       "      <td>2021-04-03 00:00:00</td>\n",
       "      <td>13.000000</td>\n",
       "      <td>0.0</td>\n",
       "      <td>30.0</td>\n",
       "      <td>85.000000</td>\n",
       "      <td>2.200000</td>\n",
       "      <td>32.000000</td>\n",
       "      <td>4.0</td>\n",
       "      <td>0</td>\n",
       "      <td>2021</td>\n",
       "      <td>4</td>\n",
       "      <td>3</td>\n",
       "    </tr>\n",
       "  </tbody>\n",
       "</table>\n",
       "<p>76492 rows × 12 columns</p>\n",
       "</div>"
      ],
      "text/plain": [
       "                     time  Temperature  Precipitation  PrecRate   Humidity  \\\n",
       "0     2014-12-02 00:00:00    -0.400000            0.0       0.0  58.000000   \n",
       "1     2014-12-02 01:00:00    -0.500000            0.0       0.0  59.000000   \n",
       "2     2014-12-02 02:00:00    -0.600000            0.0       0.0  60.000000   \n",
       "3     2014-12-02 03:00:00    -0.700000            0.0       0.0  61.000000   \n",
       "4     2014-12-02 04:00:00    -0.733333            0.0       0.0  61.333333   \n",
       "...                   ...          ...            ...       ...        ...   \n",
       "76487 2021-04-02 12:00:00    18.000000            0.0      30.0  60.000000   \n",
       "76488 2021-04-02 15:00:00    18.000000            0.0      30.0  60.000000   \n",
       "76489 2021-04-02 18:00:00    16.000000            0.0      30.0  70.000000   \n",
       "76490 2021-04-02 21:00:00    14.000000            0.0      20.0  80.000000   \n",
       "76491 2021-04-03 00:00:00    13.000000            0.0      30.0  85.000000   \n",
       "\n",
       "       WindSpeed  WindDirection  Cloud  hour  year  month  day  \n",
       "0       7.500000     292.000000    1.0     0  2014     12    2  \n",
       "1       7.466667     291.666667    1.0     1  2014     12    2  \n",
       "2       7.433333     291.333333    1.0     2  2014     12    2  \n",
       "3       7.400000     291.000000    1.0     3  2014     12    2  \n",
       "4       7.233333     292.000000    1.0     4  2014     12    2  \n",
       "...          ...            ...    ...   ...   ...    ...  ...  \n",
       "76487   4.300000      69.000000    4.0    12  2021      4    2  \n",
       "76488   4.600000      60.000000    4.0    15  2021      4    2  \n",
       "76489   3.600000      37.000000    4.0    18  2021      4    2  \n",
       "76490   3.100000      37.000000    3.0    21  2021      4    2  \n",
       "76491   2.200000      32.000000    4.0     0  2021      4    3  \n",
       "\n",
       "[76492 rows x 12 columns]"
      ]
     },
     "execution_count": 459,
     "metadata": {},
     "output_type": "execute_result"
    }
   ],
   "source": [
    "dangjin_fcst_3 = make_calendar_feature(dangjin_fcst_17h)\n",
    "ulsan_fcst_3 = make_calendar_feature(ulsan_fcst_17h)\n",
    "ulsan_fcst_3"
   ]
  },
  {
   "cell_type": "markdown",
   "id": "7886cd13",
   "metadata": {},
   "source": [
    "## (2) 태양거리 변수 생성"
   ]
  },
  {
   "cell_type": "markdown",
   "id": "4ab35210",
   "metadata": {},
   "source": [
    "### 관측값을 이용하여 Prophet을 사용해 Val 태양거리 예측"
   ]
  },
  {
   "cell_type": "code",
   "execution_count": 100,
   "id": "e197efb0",
   "metadata": {},
   "outputs": [],
   "source": [
    "# prophet_df = dangjin_distance.rename({'time':'ds', 'Distance':'y'}, axis='columns')\n",
    "# dangjin_distance_val_true = prophet_df[(prophet_df['ds']>='2021-01-01 01:00:00')&(\n",
    "#     prophet_df['ds']<='2021-02-01 00:00:00')]['y'].to_numpy()\n",
    "# prophet_df = prophet_df[prophet_df['ds']<='2021-01-01 00:00:00']\n",
    "# m = Prophet(seasonality_mode='additive', yearly_seasonality=20, weekly_seasonality=10, \n",
    "#             daily_seasonality=25, changepoint_prior_scale=0.04)\n",
    "# m.fit(prophet_df)\n",
    "# future = m.make_future_dataframe(periods=31*24, freq='H')\n",
    "# forecast = m.predict(future)\n",
    "# dangjin_distance_val_pred = forecast['yhat'][-31*24:].to_numpy()\n",
    "# r2_score(dangjin_distance_val_true, dangjin_distance_val_pred) # 예측을 잘 했는지 확인하기 위해 r2_score 체크"
   ]
  },
  {
   "cell_type": "code",
   "execution_count": 101,
   "id": "f1bcb526",
   "metadata": {},
   "outputs": [],
   "source": [
    "# prophet_df = ulsan_distance.rename({'time':'ds', 'Distance':'y'}, axis='columns')\n",
    "# ulsan_distance_val_true = prophet_df[(prophet_df['ds']>='2021-01-01 01:00:00')&(\n",
    "#     prophet_df['ds']<='2021-02-01 00:00:00')]['y'].to_numpy()\n",
    "# prophet_df = prophet_df[prophet_df['ds']<='2021-01-01 00:00:00']\n",
    "# m = Prophet(seasonality_mode='additive', yearly_seasonality=20, weekly_seasonality=10, \n",
    "#             daily_seasonality=25, changepoint_prior_scale=0.04)\n",
    "# m.fit(prophet_df)\n",
    "# future = m.make_future_dataframe(periods=31*24, freq='H')\n",
    "# forecast = m.predict(future)\n",
    "# ulsan_distance_val_pred = forecast['yhat'][-31*24:].to_numpy()\n",
    "# r2_score(ulsan_distance_val_true, ulsan_distance_val_pred) # 예측을 잘 했는지 확인하기 위해 r2_score 체크"
   ]
  },
  {
   "cell_type": "markdown",
   "id": "d007aa7d",
   "metadata": {},
   "source": [
    "### 관측값을 이용하여 Prophet을 사용해 Test 태양거리 예측"
   ]
  },
  {
   "cell_type": "code",
   "execution_count": 102,
   "id": "e99d0341",
   "metadata": {},
   "outputs": [],
   "source": [
    "# prophet_df = dangjin_distance.rename({'time':'ds', 'Distance':'y'}, axis='columns')\n",
    "# dangjin_distance_test_true = prophet_df[(prophet_df['ds']>='2021-02-01 01:00:00')&(\n",
    "#     prophet_df['ds']<='2021-03-01 00:00:00')]['y'].to_numpy()\n",
    "# prophet_df = prophet_df[prophet_df['ds']<='2021-02-01 00:00:00']\n",
    "# m = Prophet(seasonality_mode='additive', yearly_seasonality=20, weekly_seasonality=10, \n",
    "#             daily_seasonality=25, changepoint_prior_scale=0.04)\n",
    "# m.fit(prophet_df)\n",
    "# future = m.make_future_dataframe(periods=28*24, freq='H')\n",
    "# forecast = m.predict(future)\n",
    "# dangjin_distance_test_pred = forecast['yhat'][-28*24:].to_numpy()\n",
    "# r2_score(dangjin_distance_test_true, dangjin_distance_test_pred) # 예측을 잘 했는지 확인하기 위해 r2_score 체크"
   ]
  },
  {
   "cell_type": "code",
   "execution_count": 103,
   "id": "003bae2e",
   "metadata": {},
   "outputs": [],
   "source": [
    "# prophet_df = ulsan_distance.rename({'time':'ds', 'Distance':'y'}, axis='columns')\n",
    "# ulsan_distance_test_true = prophet_df[(prophet_df['ds']>='2021-02-01 01:00:00')&(\n",
    "#     prophet_df['ds']<='2021-03-01 00:00:00')]['y'].to_numpy()\n",
    "# prophet_df = prophet_df[prophet_df['ds']<='2021-02-01 00:00:00']\n",
    "# m = Prophet(seasonality_mode='additive', yearly_seasonality=20, weekly_seasonality=10, \n",
    "#             daily_seasonality=25, changepoint_prior_scale=0.04)\n",
    "# m.fit(prophet_df)\n",
    "# future = m.make_future_dataframe(periods=28*24, freq='H')\n",
    "# forecast = m.predict(future)\n",
    "# ulsan_distance_test_pred = forecast['yhat'][-28*24:].to_numpy()\n",
    "# r2_score(ulsan_distance_test_true, ulsan_distance_test_pred) # 예측을 잘 했는지 확인하기 위해 r2_score 체크"
   ]
  },
  {
   "cell_type": "markdown",
   "id": "773ab943",
   "metadata": {},
   "source": [
    "### 관측한 태양거리를 Train 데이터,  예측한 태양거리를 Val, Test 데이터에 삽입"
   ]
  },
  {
   "cell_type": "code",
   "execution_count": 460,
   "id": "612cb04f",
   "metadata": {},
   "outputs": [
    {
     "data": {
      "text/html": [
       "<div>\n",
       "<style scoped>\n",
       "    .dataframe tbody tr th:only-of-type {\n",
       "        vertical-align: middle;\n",
       "    }\n",
       "\n",
       "    .dataframe tbody tr th {\n",
       "        vertical-align: top;\n",
       "    }\n",
       "\n",
       "    .dataframe thead th {\n",
       "        text-align: right;\n",
       "    }\n",
       "</style>\n",
       "<table border=\"1\" class=\"dataframe\">\n",
       "  <thead>\n",
       "    <tr style=\"text-align: right;\">\n",
       "      <th></th>\n",
       "      <th>time</th>\n",
       "      <th>Temperature</th>\n",
       "      <th>Precipitation</th>\n",
       "      <th>PrecRate</th>\n",
       "      <th>Humidity</th>\n",
       "      <th>WindSpeed</th>\n",
       "      <th>WindDirection</th>\n",
       "      <th>Cloud</th>\n",
       "      <th>hour</th>\n",
       "      <th>year</th>\n",
       "      <th>month</th>\n",
       "      <th>day</th>\n",
       "      <th>Distance</th>\n",
       "    </tr>\n",
       "  </thead>\n",
       "  <tbody>\n",
       "    <tr>\n",
       "      <th>0</th>\n",
       "      <td>2015-01-01 00:00:00</td>\n",
       "      <td>-0.800000</td>\n",
       "      <td>0.0</td>\n",
       "      <td>0.000000</td>\n",
       "      <td>45.000000</td>\n",
       "      <td>8.700000</td>\n",
       "      <td>294.000000</td>\n",
       "      <td>1.000000</td>\n",
       "      <td>0</td>\n",
       "      <td>2015</td>\n",
       "      <td>1</td>\n",
       "      <td>1</td>\n",
       "      <td>0.983361</td>\n",
       "    </tr>\n",
       "    <tr>\n",
       "      <th>1</th>\n",
       "      <td>2015-01-01 00:00:00</td>\n",
       "      <td>-1.400000</td>\n",
       "      <td>0.0</td>\n",
       "      <td>0.000000</td>\n",
       "      <td>45.000000</td>\n",
       "      <td>8.500000</td>\n",
       "      <td>294.000000</td>\n",
       "      <td>1.000000</td>\n",
       "      <td>0</td>\n",
       "      <td>2015</td>\n",
       "      <td>1</td>\n",
       "      <td>1</td>\n",
       "      <td>0.983361</td>\n",
       "    </tr>\n",
       "    <tr>\n",
       "      <th>2</th>\n",
       "      <td>2015-01-01 00:00:00</td>\n",
       "      <td>-1.000000</td>\n",
       "      <td>0.0</td>\n",
       "      <td>0.000000</td>\n",
       "      <td>45.000000</td>\n",
       "      <td>3.800000</td>\n",
       "      <td>297.000000</td>\n",
       "      <td>1.000000</td>\n",
       "      <td>0</td>\n",
       "      <td>2015</td>\n",
       "      <td>1</td>\n",
       "      <td>1</td>\n",
       "      <td>0.983361</td>\n",
       "    </tr>\n",
       "    <tr>\n",
       "      <th>3</th>\n",
       "      <td>2015-01-01 01:00:00</td>\n",
       "      <td>-1.600000</td>\n",
       "      <td>0.0</td>\n",
       "      <td>3.333333</td>\n",
       "      <td>45.000000</td>\n",
       "      <td>5.433333</td>\n",
       "      <td>293.666667</td>\n",
       "      <td>1.333333</td>\n",
       "      <td>1</td>\n",
       "      <td>2015</td>\n",
       "      <td>1</td>\n",
       "      <td>1</td>\n",
       "      <td>0.983360</td>\n",
       "    </tr>\n",
       "    <tr>\n",
       "      <th>4</th>\n",
       "      <td>2015-01-01 02:00:00</td>\n",
       "      <td>-2.200000</td>\n",
       "      <td>0.0</td>\n",
       "      <td>6.666667</td>\n",
       "      <td>45.000000</td>\n",
       "      <td>7.066667</td>\n",
       "      <td>290.333333</td>\n",
       "      <td>1.666667</td>\n",
       "      <td>2</td>\n",
       "      <td>2015</td>\n",
       "      <td>1</td>\n",
       "      <td>1</td>\n",
       "      <td>0.983357</td>\n",
       "    </tr>\n",
       "    <tr>\n",
       "      <th>...</th>\n",
       "      <td>...</td>\n",
       "      <td>...</td>\n",
       "      <td>...</td>\n",
       "      <td>...</td>\n",
       "      <td>...</td>\n",
       "      <td>...</td>\n",
       "      <td>...</td>\n",
       "      <td>...</td>\n",
       "      <td>...</td>\n",
       "      <td>...</td>\n",
       "      <td>...</td>\n",
       "      <td>...</td>\n",
       "      <td>...</td>\n",
       "    </tr>\n",
       "    <tr>\n",
       "      <th>74449</th>\n",
       "      <td>2021-03-02 21:00:00</td>\n",
       "      <td>4.000000</td>\n",
       "      <td>0.0</td>\n",
       "      <td>10.000000</td>\n",
       "      <td>60.000000</td>\n",
       "      <td>3.700000</td>\n",
       "      <td>20.000000</td>\n",
       "      <td>3.000000</td>\n",
       "      <td>21</td>\n",
       "      <td>2021</td>\n",
       "      <td>3</td>\n",
       "      <td>2</td>\n",
       "      <td>0.991145</td>\n",
       "    </tr>\n",
       "    <tr>\n",
       "      <th>74450</th>\n",
       "      <td>2021-03-02 21:00:00</td>\n",
       "      <td>4.000000</td>\n",
       "      <td>0.0</td>\n",
       "      <td>10.000000</td>\n",
       "      <td>55.000000</td>\n",
       "      <td>4.500000</td>\n",
       "      <td>17.000000</td>\n",
       "      <td>3.000000</td>\n",
       "      <td>21</td>\n",
       "      <td>2021</td>\n",
       "      <td>3</td>\n",
       "      <td>2</td>\n",
       "      <td>0.991145</td>\n",
       "    </tr>\n",
       "    <tr>\n",
       "      <th>74451</th>\n",
       "      <td>2021-03-02 21:00:00</td>\n",
       "      <td>4.000000</td>\n",
       "      <td>0.0</td>\n",
       "      <td>10.000000</td>\n",
       "      <td>55.000000</td>\n",
       "      <td>4.800000</td>\n",
       "      <td>18.000000</td>\n",
       "      <td>3.000000</td>\n",
       "      <td>21</td>\n",
       "      <td>2021</td>\n",
       "      <td>3</td>\n",
       "      <td>2</td>\n",
       "      <td>0.991145</td>\n",
       "    </tr>\n",
       "    <tr>\n",
       "      <th>74452</th>\n",
       "      <td>2021-03-02 22:00:00</td>\n",
       "      <td>3.666667</td>\n",
       "      <td>0.0</td>\n",
       "      <td>10.000000</td>\n",
       "      <td>56.666667</td>\n",
       "      <td>4.500000</td>\n",
       "      <td>17.000000</td>\n",
       "      <td>3.000000</td>\n",
       "      <td>22</td>\n",
       "      <td>2021</td>\n",
       "      <td>3</td>\n",
       "      <td>2</td>\n",
       "      <td>0.991162</td>\n",
       "    </tr>\n",
       "    <tr>\n",
       "      <th>74453</th>\n",
       "      <td>2021-03-02 23:00:00</td>\n",
       "      <td>3.333333</td>\n",
       "      <td>0.0</td>\n",
       "      <td>10.000000</td>\n",
       "      <td>58.333333</td>\n",
       "      <td>4.200000</td>\n",
       "      <td>16.000000</td>\n",
       "      <td>3.000000</td>\n",
       "      <td>23</td>\n",
       "      <td>2021</td>\n",
       "      <td>3</td>\n",
       "      <td>2</td>\n",
       "      <td>0.991177</td>\n",
       "    </tr>\n",
       "  </tbody>\n",
       "</table>\n",
       "<p>74454 rows × 13 columns</p>\n",
       "</div>"
      ],
      "text/plain": [
       "                     time  Temperature  Precipitation   PrecRate   Humidity  \\\n",
       "0     2015-01-01 00:00:00    -0.800000            0.0   0.000000  45.000000   \n",
       "1     2015-01-01 00:00:00    -1.400000            0.0   0.000000  45.000000   \n",
       "2     2015-01-01 00:00:00    -1.000000            0.0   0.000000  45.000000   \n",
       "3     2015-01-01 01:00:00    -1.600000            0.0   3.333333  45.000000   \n",
       "4     2015-01-01 02:00:00    -2.200000            0.0   6.666667  45.000000   \n",
       "...                   ...          ...            ...        ...        ...   \n",
       "74449 2021-03-02 21:00:00     4.000000            0.0  10.000000  60.000000   \n",
       "74450 2021-03-02 21:00:00     4.000000            0.0  10.000000  55.000000   \n",
       "74451 2021-03-02 21:00:00     4.000000            0.0  10.000000  55.000000   \n",
       "74452 2021-03-02 22:00:00     3.666667            0.0  10.000000  56.666667   \n",
       "74453 2021-03-02 23:00:00     3.333333            0.0  10.000000  58.333333   \n",
       "\n",
       "       WindSpeed  WindDirection     Cloud  hour  year  month  day  Distance  \n",
       "0       8.700000     294.000000  1.000000     0  2015      1    1  0.983361  \n",
       "1       8.500000     294.000000  1.000000     0  2015      1    1  0.983361  \n",
       "2       3.800000     297.000000  1.000000     0  2015      1    1  0.983361  \n",
       "3       5.433333     293.666667  1.333333     1  2015      1    1  0.983360  \n",
       "4       7.066667     290.333333  1.666667     2  2015      1    1  0.983357  \n",
       "...          ...            ...       ...   ...   ...    ...  ...       ...  \n",
       "74449   3.700000      20.000000  3.000000    21  2021      3    2  0.991145  \n",
       "74450   4.500000      17.000000  3.000000    21  2021      3    2  0.991145  \n",
       "74451   4.800000      18.000000  3.000000    21  2021      3    2  0.991145  \n",
       "74452   4.500000      17.000000  3.000000    22  2021      3    2  0.991162  \n",
       "74453   4.200000      16.000000  3.000000    23  2021      3    2  0.991177  \n",
       "\n",
       "[74454 rows x 13 columns]"
      ]
     },
     "execution_count": 460,
     "metadata": {},
     "output_type": "execute_result"
    }
   ],
   "source": [
    "dangjin_fcst_4 = pd.merge(dangjin_fcst_3, dangjin_distance[['time', 'Distance']], on='time', how='inner')\n",
    "ulsan_fcst_4 = pd.merge(ulsan_fcst_3, dangjin_distance[['time', 'Distance']], on='time', how='inner')\n",
    "ulsan_fcst_4"
   ]
  },
  {
   "cell_type": "code",
   "execution_count": 127,
   "id": "b7db1be7",
   "metadata": {},
   "outputs": [],
   "source": [
    "# val_idx = dangjin_fcst_4[(dangjin_fcst_4['time']>='2021-01-01 01:00:00')&(\n",
    "#     dangjin_fcst_4['time']<='2021-02-01 00:00:00')].index\n",
    "\n",
    "# test_idx = dangjin_fcst_4[(dangjin_fcst_4['time']>='2021-02-01 01:00:00')&(\n",
    "#     dangjin_fcst_4['time']<='2021-03-01 00:00:00')].index\n",
    "\n",
    "# dangjin_fcst_4['Distance'][val_idx] = dangjin_distance_val_pred\n",
    "# dangjin_fcst_4['Distance'][test_idx] = dangjin_distance_test_pred\n",
    "# ulsan_fcst_4['Distance'][val_idx] = ulsan_distance_val_pred\n",
    "# ulsan_fcst_4['Distance'][test_idx] = ulsan_distance_test_pred\n",
    "\n",
    "# dangjin_fcst_4"
   ]
  },
  {
   "cell_type": "markdown",
   "id": "2d835310",
   "metadata": {},
   "source": [
    "## (3) 제니스각 변수 생성"
   ]
  },
  {
   "cell_type": "code",
   "execution_count": 461,
   "id": "8fce44a8",
   "metadata": {},
   "outputs": [
    {
     "data": {
      "text/html": [
       "<div>\n",
       "<style scoped>\n",
       "    .dataframe tbody tr th:only-of-type {\n",
       "        vertical-align: middle;\n",
       "    }\n",
       "\n",
       "    .dataframe tbody tr th {\n",
       "        vertical-align: top;\n",
       "    }\n",
       "\n",
       "    .dataframe thead th {\n",
       "        text-align: right;\n",
       "    }\n",
       "</style>\n",
       "<table border=\"1\" class=\"dataframe\">\n",
       "  <thead>\n",
       "    <tr style=\"text-align: right;\">\n",
       "      <th></th>\n",
       "      <th>time</th>\n",
       "      <th>Temperature</th>\n",
       "      <th>Precipitation</th>\n",
       "      <th>PrecRate</th>\n",
       "      <th>Humidity</th>\n",
       "      <th>WindSpeed</th>\n",
       "      <th>WindDirection</th>\n",
       "      <th>Cloud</th>\n",
       "      <th>hour</th>\n",
       "      <th>year</th>\n",
       "      <th>month</th>\n",
       "      <th>day</th>\n",
       "      <th>Distance</th>\n",
       "      <th>Zenith</th>\n",
       "    </tr>\n",
       "  </thead>\n",
       "  <tbody>\n",
       "    <tr>\n",
       "      <th>0</th>\n",
       "      <td>2015-01-01 00:00:00</td>\n",
       "      <td>-0.800000</td>\n",
       "      <td>0.0</td>\n",
       "      <td>0.000000</td>\n",
       "      <td>45.000000</td>\n",
       "      <td>8.700000</td>\n",
       "      <td>294.000000</td>\n",
       "      <td>1.000000</td>\n",
       "      <td>0</td>\n",
       "      <td>2015</td>\n",
       "      <td>1</td>\n",
       "      <td>1</td>\n",
       "      <td>0.983361</td>\n",
       "      <td>161.0</td>\n",
       "    </tr>\n",
       "    <tr>\n",
       "      <th>1</th>\n",
       "      <td>2015-01-01 00:00:00</td>\n",
       "      <td>-1.400000</td>\n",
       "      <td>0.0</td>\n",
       "      <td>0.000000</td>\n",
       "      <td>45.000000</td>\n",
       "      <td>8.500000</td>\n",
       "      <td>294.000000</td>\n",
       "      <td>1.000000</td>\n",
       "      <td>0</td>\n",
       "      <td>2015</td>\n",
       "      <td>1</td>\n",
       "      <td>1</td>\n",
       "      <td>0.983361</td>\n",
       "      <td>161.0</td>\n",
       "    </tr>\n",
       "    <tr>\n",
       "      <th>2</th>\n",
       "      <td>2015-01-01 00:00:00</td>\n",
       "      <td>-1.000000</td>\n",
       "      <td>0.0</td>\n",
       "      <td>0.000000</td>\n",
       "      <td>45.000000</td>\n",
       "      <td>3.800000</td>\n",
       "      <td>297.000000</td>\n",
       "      <td>1.000000</td>\n",
       "      <td>0</td>\n",
       "      <td>2015</td>\n",
       "      <td>1</td>\n",
       "      <td>1</td>\n",
       "      <td>0.983361</td>\n",
       "      <td>161.0</td>\n",
       "    </tr>\n",
       "    <tr>\n",
       "      <th>3</th>\n",
       "      <td>2015-01-01 01:00:00</td>\n",
       "      <td>-1.600000</td>\n",
       "      <td>0.0</td>\n",
       "      <td>3.333333</td>\n",
       "      <td>45.000000</td>\n",
       "      <td>5.433333</td>\n",
       "      <td>293.666667</td>\n",
       "      <td>1.333333</td>\n",
       "      <td>1</td>\n",
       "      <td>2015</td>\n",
       "      <td>1</td>\n",
       "      <td>1</td>\n",
       "      <td>0.983360</td>\n",
       "      <td>150.0</td>\n",
       "    </tr>\n",
       "    <tr>\n",
       "      <th>4</th>\n",
       "      <td>2015-01-01 02:00:00</td>\n",
       "      <td>-2.200000</td>\n",
       "      <td>0.0</td>\n",
       "      <td>6.666667</td>\n",
       "      <td>45.000000</td>\n",
       "      <td>7.066667</td>\n",
       "      <td>290.333333</td>\n",
       "      <td>1.666667</td>\n",
       "      <td>2</td>\n",
       "      <td>2015</td>\n",
       "      <td>1</td>\n",
       "      <td>1</td>\n",
       "      <td>0.983357</td>\n",
       "      <td>138.0</td>\n",
       "    </tr>\n",
       "    <tr>\n",
       "      <th>...</th>\n",
       "      <td>...</td>\n",
       "      <td>...</td>\n",
       "      <td>...</td>\n",
       "      <td>...</td>\n",
       "      <td>...</td>\n",
       "      <td>...</td>\n",
       "      <td>...</td>\n",
       "      <td>...</td>\n",
       "      <td>...</td>\n",
       "      <td>...</td>\n",
       "      <td>...</td>\n",
       "      <td>...</td>\n",
       "      <td>...</td>\n",
       "      <td>...</td>\n",
       "    </tr>\n",
       "    <tr>\n",
       "      <th>74449</th>\n",
       "      <td>2021-03-02 21:00:00</td>\n",
       "      <td>4.000000</td>\n",
       "      <td>0.0</td>\n",
       "      <td>10.000000</td>\n",
       "      <td>60.000000</td>\n",
       "      <td>3.700000</td>\n",
       "      <td>20.000000</td>\n",
       "      <td>3.000000</td>\n",
       "      <td>21</td>\n",
       "      <td>2021</td>\n",
       "      <td>3</td>\n",
       "      <td>2</td>\n",
       "      <td>0.991145</td>\n",
       "      <td>140.0</td>\n",
       "    </tr>\n",
       "    <tr>\n",
       "      <th>74450</th>\n",
       "      <td>2021-03-02 21:00:00</td>\n",
       "      <td>4.000000</td>\n",
       "      <td>0.0</td>\n",
       "      <td>10.000000</td>\n",
       "      <td>55.000000</td>\n",
       "      <td>4.500000</td>\n",
       "      <td>17.000000</td>\n",
       "      <td>3.000000</td>\n",
       "      <td>21</td>\n",
       "      <td>2021</td>\n",
       "      <td>3</td>\n",
       "      <td>2</td>\n",
       "      <td>0.991145</td>\n",
       "      <td>140.0</td>\n",
       "    </tr>\n",
       "    <tr>\n",
       "      <th>74451</th>\n",
       "      <td>2021-03-02 21:00:00</td>\n",
       "      <td>4.000000</td>\n",
       "      <td>0.0</td>\n",
       "      <td>10.000000</td>\n",
       "      <td>55.000000</td>\n",
       "      <td>4.800000</td>\n",
       "      <td>18.000000</td>\n",
       "      <td>3.000000</td>\n",
       "      <td>21</td>\n",
       "      <td>2021</td>\n",
       "      <td>3</td>\n",
       "      <td>2</td>\n",
       "      <td>0.991145</td>\n",
       "      <td>140.0</td>\n",
       "    </tr>\n",
       "    <tr>\n",
       "      <th>74452</th>\n",
       "      <td>2021-03-02 22:00:00</td>\n",
       "      <td>3.666667</td>\n",
       "      <td>0.0</td>\n",
       "      <td>10.000000</td>\n",
       "      <td>56.666667</td>\n",
       "      <td>4.500000</td>\n",
       "      <td>17.000000</td>\n",
       "      <td>3.000000</td>\n",
       "      <td>22</td>\n",
       "      <td>2021</td>\n",
       "      <td>3</td>\n",
       "      <td>2</td>\n",
       "      <td>0.991162</td>\n",
       "      <td>148.0</td>\n",
       "    </tr>\n",
       "    <tr>\n",
       "      <th>74453</th>\n",
       "      <td>2021-03-02 23:00:00</td>\n",
       "      <td>3.333333</td>\n",
       "      <td>0.0</td>\n",
       "      <td>10.000000</td>\n",
       "      <td>58.333333</td>\n",
       "      <td>4.200000</td>\n",
       "      <td>16.000000</td>\n",
       "      <td>3.000000</td>\n",
       "      <td>23</td>\n",
       "      <td>2021</td>\n",
       "      <td>3</td>\n",
       "      <td>2</td>\n",
       "      <td>0.991177</td>\n",
       "      <td>152.0</td>\n",
       "    </tr>\n",
       "  </tbody>\n",
       "</table>\n",
       "<p>74454 rows × 14 columns</p>\n",
       "</div>"
      ],
      "text/plain": [
       "                     time  Temperature  Precipitation   PrecRate   Humidity  \\\n",
       "0     2015-01-01 00:00:00    -0.800000            0.0   0.000000  45.000000   \n",
       "1     2015-01-01 00:00:00    -1.400000            0.0   0.000000  45.000000   \n",
       "2     2015-01-01 00:00:00    -1.000000            0.0   0.000000  45.000000   \n",
       "3     2015-01-01 01:00:00    -1.600000            0.0   3.333333  45.000000   \n",
       "4     2015-01-01 02:00:00    -2.200000            0.0   6.666667  45.000000   \n",
       "...                   ...          ...            ...        ...        ...   \n",
       "74449 2021-03-02 21:00:00     4.000000            0.0  10.000000  60.000000   \n",
       "74450 2021-03-02 21:00:00     4.000000            0.0  10.000000  55.000000   \n",
       "74451 2021-03-02 21:00:00     4.000000            0.0  10.000000  55.000000   \n",
       "74452 2021-03-02 22:00:00     3.666667            0.0  10.000000  56.666667   \n",
       "74453 2021-03-02 23:00:00     3.333333            0.0  10.000000  58.333333   \n",
       "\n",
       "       WindSpeed  WindDirection     Cloud  hour  year  month  day  Distance  \\\n",
       "0       8.700000     294.000000  1.000000     0  2015      1    1  0.983361   \n",
       "1       8.500000     294.000000  1.000000     0  2015      1    1  0.983361   \n",
       "2       3.800000     297.000000  1.000000     0  2015      1    1  0.983361   \n",
       "3       5.433333     293.666667  1.333333     1  2015      1    1  0.983360   \n",
       "4       7.066667     290.333333  1.666667     2  2015      1    1  0.983357   \n",
       "...          ...            ...       ...   ...   ...    ...  ...       ...   \n",
       "74449   3.700000      20.000000  3.000000    21  2021      3    2  0.991145   \n",
       "74450   4.500000      17.000000  3.000000    21  2021      3    2  0.991145   \n",
       "74451   4.800000      18.000000  3.000000    21  2021      3    2  0.991145   \n",
       "74452   4.500000      17.000000  3.000000    22  2021      3    2  0.991162   \n",
       "74453   4.200000      16.000000  3.000000    23  2021      3    2  0.991177   \n",
       "\n",
       "       Zenith  \n",
       "0       161.0  \n",
       "1       161.0  \n",
       "2       161.0  \n",
       "3       150.0  \n",
       "4       138.0  \n",
       "...       ...  \n",
       "74449   140.0  \n",
       "74450   140.0  \n",
       "74451   140.0  \n",
       "74452   148.0  \n",
       "74453   152.0  \n",
       "\n",
       "[74454 rows x 14 columns]"
      ]
     },
     "execution_count": 461,
     "metadata": {},
     "output_type": "execute_result"
    }
   ],
   "source": [
    "dangjin_fcst_5 = pd.merge(dangjin_fcst_4, dangjin_zenith[['time', 'Zenith']], on='time', how='inner')\n",
    "ulsan_fcst_5 = pd.merge(ulsan_fcst_4, ulsan_zenith[['time', 'Zenith']], on='time', how='inner')\n",
    "ulsan_fcst_5"
   ]
  },
  {
   "cell_type": "markdown",
   "id": "d7f476cd",
   "metadata": {},
   "source": [
    "### 제니스 각도는 월마다 비슷한 양상을 보이는 것을 확인"
   ]
  },
  {
   "cell_type": "code",
   "execution_count": 281,
   "id": "71347e88",
   "metadata": {},
   "outputs": [
    {
     "data": {
      "text/plain": [
       "0.0"
      ]
     },
     "execution_count": 281,
     "metadata": {},
     "output_type": "execute_result"
    }
   ],
   "source": [
    "zenith_201901 = dangjin_fcst_5[(dangjin_fcst_5['time']>='2019-01-01 01:00:00')&(\n",
    "    dangjin_fcst_5['time']<='2019-02-01 00:00:00')]['Zenith'].values\n",
    "zenith_202001 = dangjin_fcst_5[(dangjin_fcst_5['time']>='2020-01-01 01:00:00')&(\n",
    "    dangjin_fcst_5['time']<='2020-02-01 00:00:00')]['Zenith'].values\n",
    "(zenith_202001-zenith_201901).sum() # 2019년 1월과 2020년 1월의 제니스 각도가 동일"
   ]
  },
  {
   "cell_type": "code",
   "execution_count": 282,
   "id": "c02f5b4e",
   "metadata": {},
   "outputs": [
    {
     "data": {
      "text/plain": [
       "0.0"
      ]
     },
     "execution_count": 282,
     "metadata": {},
     "output_type": "execute_result"
    }
   ],
   "source": [
    "zenith_201810 = dangjin_fcst_5[(dangjin_fcst_5['time']>='2018-10-01 01:00:00')&(\n",
    "    dangjin_fcst_5['time']<='2018-11-01 00:00:00')]['Zenith'].values\n",
    "zenith_201910 = dangjin_fcst_5[(dangjin_fcst_5['time']>='2019-10-01 01:00:00')&(\n",
    "    dangjin_fcst_5['time']<='2019-11-01 00:00:00')]['Zenith'].values\n",
    "(zenith_201910-zenith_201810).sum() # 2018년 10월과 2019년 10월의 제니스 각도가 동일"
   ]
  },
  {
   "cell_type": "code",
   "execution_count": 283,
   "id": "cbb86cd5",
   "metadata": {},
   "outputs": [
    {
     "data": {
      "text/plain": [
       "24667.0"
      ]
     },
     "execution_count": 283,
     "metadata": {},
     "output_type": "execute_result"
    }
   ],
   "source": [
    "zenith_201907 = dangjin_fcst_5[(dangjin_fcst_5['time']>='2019-07-01 01:00:00')&(\n",
    "    dangjin_fcst_5['time']<='2019-08-01 00:00:00')]['Zenith'].values\n",
    "zenith_201912 = dangjin_fcst_5[(dangjin_fcst_5['time']>='2020-12-01 01:00:00')&(\n",
    "    dangjin_fcst_5['time']<='2021-01-01 00:00:00')]['Zenith'].values\n",
    "(zenith_201912-zenith_201907).sum() # 2019년 7월과 2019년 12월의 Zenith각도는 상이"
   ]
  },
  {
   "cell_type": "markdown",
   "id": "f27ff297",
   "metadata": {},
   "source": [
    "### Val, Test 제니스 각도에 전년도 제니스 각도 관측값 사용"
   ]
  },
  {
   "cell_type": "code",
   "execution_count": 284,
   "id": "58d2df56",
   "metadata": {},
   "outputs": [],
   "source": [
    "val_idx = dangjin_fcst_5[(dangjin_fcst_5['time']>='2021-01-01 01:00:00')&(\n",
    "    dangjin_fcst_5['time']<='2021-02-01 00:00:00')].index\n",
    "test_idx = dangjin_fcst_5[(dangjin_fcst_5['time']>='2021-02-01 01:00:00')&(\n",
    "    dangjin_fcst_5['time']<='2021-02-28 23:00:00')].index # 2020년은 2월 29일까지 있으므로 28일 23시까지만 인덱스 추출\n",
    "\n",
    "dangjin_fcst_5['Zenith'][val_idx] = dangjin_fcst_5[(dangjin_fcst_5['time']>='2020-01-01 01:00:00')&(\n",
    "    dangjin_fcst_5['time']<='2020-02-01 00:00:00')]['Zenith'].values\n",
    "dangjin_fcst_5['Zenith'][test_idx] = dangjin_fcst_5[(dangjin_fcst_5['time']>='2020-02-01 01:00:00')&(\n",
    "    dangjin_fcst_5['time']<='2020-02-28 23:00:00')]['Zenith'].values\n",
    "ulsan_fcst_5['Zenith'][val_idx] = ulsan_fcst_5[(ulsan_fcst_5['time']>='2020-01-01 01:00:00')&(\n",
    "    ulsan_fcst_5['time']<='2020-02-01 00:00:00')]['Zenith'].values\n",
    "ulsan_fcst_5['Zenith'][test_idx] = ulsan_fcst_5[(ulsan_fcst_5['time']>='2020-02-01 01:00:00')&(\n",
    "    ulsan_fcst_5['time']<='2020-02-28 23:00:00')]['Zenith'].values"
   ]
  },
  {
   "cell_type": "markdown",
   "id": "e72a7c82",
   "metadata": {},
   "source": [
    "## (X) 일사량 변수 생성"
   ]
  },
  {
   "cell_type": "code",
   "execution_count": 133,
   "id": "878c7118",
   "metadata": {},
   "outputs": [],
   "source": [
    "# prophet_df = dangjin_solar.rename({'time':'ds', 'Radiation':'y'}, axis='columns')\n",
    "# dangjin_radiation_val_true = prophet_df[(prophet_df['ds']>='2021-01-01 01:00:00')&(\n",
    "#     prophet_df['ds']<='2021-02-01 00:00:00')]['y'].to_numpy()\n",
    "# prophet_df = prophet_df[prophet_df['ds']<='2021-01-01 00:00:00']\n",
    "# m = Prophet(seasonality_mode='additive', yearly_seasonality=20, weekly_seasonality=10, \n",
    "#             daily_seasonality=25, changepoint_prior_scale=0.04)\n",
    "# m.fit(prophet_df)\n",
    "# future = m.make_future_dataframe(periods=31*24, freq='H')\n",
    "# forecast = m.predict(future)\n",
    "# dangjin_radiation_val_pred = forecast['yhat'][-31*24:].to_numpy()\n",
    "# r2_score(dangjin_radiation_val_true, dangjin_radiation_val_pred) # 예측을 잘 했는지 확인하기 위해 r2_score 체크"
   ]
  },
  {
   "cell_type": "code",
   "execution_count": 134,
   "id": "b2661977",
   "metadata": {},
   "outputs": [],
   "source": [
    "# prophet_df = dangjin_solar[['time', 'Sunlight']].rename({'time':'ds', 'Sunlight':'y'}, axis='columns')\n",
    "# dangjin_sunlight_val_true = prophet_df[(prophet_df['ds']>='2021-01-01 01:00:00')&(\n",
    "#     prophet_df['ds']<='2021-02-01 00:00:00')]['y'].to_numpy()\n",
    "# prophet_df = prophet_df[prophet_df['ds']<='2021-01-01 00:00:00']\n",
    "# m = Prophet(seasonality_mode='additive', yearly_seasonality=20, weekly_seasonality=10, \n",
    "#             daily_seasonality=20, changepoint_prior_scale=0.03)\n",
    "# m.fit(prophet_df)\n",
    "# future = m.make_future_dataframe(periods=31*24, freq='H')\n",
    "# forecast = m.predict(future)\n",
    "# dangjin_sunlight_val_pred = forecast['yhat'][-31*24:].to_numpy()\n",
    "# r2_score(dangjin_sunlight_val_true, dangjin_sunlight_val_pred) # 예측을 잘 했는지 확인하기 위해 r2_score 체크"
   ]
  },
  {
   "cell_type": "code",
   "execution_count": 135,
   "id": "4f69a9a1",
   "metadata": {},
   "outputs": [],
   "source": [
    "# prophet_df = dangjin_solar[['time', 'Sunlight']].rename({'time':'ds', 'Sunlight':'y'}, axis='columns')\n",
    "# dangjin_sunlight_val_true = prophet_df[(prophet_df['ds']>='2021-01-01 01:00:00')&(\n",
    "#     prophet_df['ds']<='2021-02-01 00:00:00')]['y'].to_numpy()\n",
    "# prophet_df = prophet_df[prophet_df['ds']<='2021-01-01 00:00:00']\n",
    "# m = Prophet(seasonality_mode='additive', yearly_seasonality=20, weekly_seasonality=10, \n",
    "#             daily_seasonality=25, changepoint_prior_scale=0.03)\n",
    "# m.fit(prophet_df)\n",
    "# future = m.make_future_dataframe(periods=31*24, freq='H')\n",
    "# forecast = m.predict(future)\n",
    "# dangjin_sunlight_val_pred = forecast['yhat'][-31*24:].to_numpy()\n",
    "# r2_score(dangjin_sunlight_val_true, dangjin_sunlight_val_pred) # 예측을 잘 했는지 확인하기 위해 r2_score 체크"
   ]
  },
  {
   "cell_type": "code",
   "execution_count": 136,
   "id": "25d3fbc8",
   "metadata": {},
   "outputs": [],
   "source": [
    "# prophet_df = dangjin_solar[['time', 'Sunlight']].rename({'time':'ds', 'Sunlight':'y'}, axis='columns')\n",
    "# dangjin_sunlight_val_true = prophet_df[(prophet_df['ds']>='2021-01-01 01:00:00')&(\n",
    "#     prophet_df['ds']<='2021-02-01 00:00:00')]['y'].to_numpy()\n",
    "# prophet_df = prophet_df[prophet_df['ds']<='2021-01-01 00:00:00']\n",
    "# m = Prophet(seasonality_mode='additive', yearly_seasonality=20, weekly_seasonality=10, \n",
    "#             daily_seasonality=25, changepoint_prior_scale=0.04)\n",
    "# m.fit(prophet_df)\n",
    "# future = m.make_future_dataframe(periods=31*24, freq='H')\n",
    "# forecast = m.predict(future)\n",
    "# dangjin_sunlight_val_pred = forecast['yhat'][-31*24:].to_numpy()\n",
    "# r2_score(dangjin_sunlight_val_true, dangjin_sunlight_val_pred) # 예측을 잘 했는지 확인하기 위해 r2_score 체크"
   ]
  },
  {
   "cell_type": "code",
   "execution_count": 137,
   "id": "4dba698b",
   "metadata": {},
   "outputs": [],
   "source": [
    "# b = dangjin_solar.set_index('time').Radiation.resample('1D').mean().reset_index().rename(\n",
    "#     {'Radiation':'Rad_mean'}, axis='columns')\n",
    "# c = dangjin_solar.set_index('time').Radiation.resample('1D').sum().reset_index().rename(\n",
    "#     {'Radiation':'Rad_sum'}, axis='columns')[['Rad_sum']]\n",
    "# d = dangjin_solar.set_index('time').Radiation.resample('1D').max().reset_index().rename(\n",
    "#     {'Radiation':'Rad_max'}, axis='columns')[['Rad_max']]\n",
    "\n",
    "# b = pd.concat([b, c, d], axis=1)\n",
    "# b"
   ]
  },
  {
   "cell_type": "code",
   "execution_count": 138,
   "id": "4a3cb99f",
   "metadata": {},
   "outputs": [],
   "source": [
    "# prophet_df = b.rename({'time':'ds', 'Rad_sum':'y'}, axis='columns')\n",
    "# dangjin_distance_val_true = prophet_df[(prophet_df['ds']>='2021-01-01')&(\n",
    "#     prophet_df['ds']<='2021-01-31')]['y'].to_numpy()\n",
    "# prophet_df = prophet_df[prophet_df['ds']<='2020-12-31 00:00:00']\n",
    "# m = Prophet(seasonality_mode='additive', yearly_seasonality=8, weekly_seasonality=10, \n",
    "#             daily_seasonality=10, changepoint_prior_scale=0.03)\n",
    "# m.fit(prophet_df)\n",
    "# future = m.make_future_dataframe(periods=31, freq='D')\n",
    "# forecast = m.predict(future)\n",
    "# dangjin_distance_val_pred = forecast['yhat'][-31:].to_numpy()\n",
    "# r2_score(dangjin_distance_val_true, dangjin_distance_val_pred) # 예측을 잘 했는지 확인하기 위해 r2_score 체크"
   ]
  },
  {
   "cell_type": "markdown",
   "id": "d1cdea7b",
   "metadata": {},
   "source": [
    "## (4) 최종 변수"
   ]
  },
  {
   "cell_type": "code",
   "execution_count": 528,
   "id": "bfb00e13",
   "metadata": {},
   "outputs": [],
   "source": [
    "dangjin_floating_df = dangjin_fcst_5.drop(['Precipitation'], axis=1)\n",
    "dangjin_warehouse_df = dangjin_fcst_5.drop(['Precipitation'], axis=1)\n",
    "dangjin_df = dangjin_fcst_5.drop(['Precipitation'], axis=1)\n",
    "ulsan_df =ulsan_fcst_5.drop(['Precipitation'], axis=1)"
   ]
  },
  {
   "cell_type": "markdown",
   "id": "f0888d3a",
   "metadata": {},
   "source": [
    "# 6. Model training"
   ]
  },
  {
   "cell_type": "markdown",
   "id": "f6a4e63d",
   "metadata": {},
   "source": [
    "## (1) Train, Validation, Test Set"
   ]
  },
  {
   "cell_type": "code",
   "execution_count": 463,
   "id": "60493a94",
   "metadata": {},
   "outputs": [],
   "source": [
    "def make_train_val_dropzero(feature_df, target_df, location):\n",
    "    \n",
    "    target_df = target_df[['time', location]].dropna()\n",
    "    target_df['time'] = pd.to_datetime(target_df['time'])\n",
    "    \n",
    "    train_idx = feature_df[feature_df['time']<='2021-01-02 00:00:00'].index\n",
    "    val_idx = feature_df[(feature_df['time']>='2021-01-02 01:00:00')&(\n",
    "        feature_df['time']<='2021-02-01 00:00:00')].index\n",
    "    \n",
    "    test_idx = feature_df[(feature_df['time']>='2021-02-01 01:00:00')&(\n",
    "        feature_df['time']<='2021-03-01 00:00:00')].index\n",
    "    \n",
    "    train_df = pd.merge(feature_df.iloc[train_idx], target_df, on='time', how='inner')\n",
    "    val_df = pd.merge(feature_df.iloc[val_idx], target_df, on='time', how='inner')\n",
    "    test_x = feature_df.iloc[test_idx].drop(['time'], axis=1)\n",
    "    \n",
    "    train_x = train_df.iloc[:, :-1].drop(['time'], axis=1)\n",
    "    train_y = train_df.iloc[:, -1:]\n",
    "    \n",
    "    zero_idx = train_y[train_y[location]==0].index\n",
    "    train_x = train_x.drop(zero_idx)\n",
    "    train_y = train_y.drop(zero_idx)\n",
    "    \n",
    "    val_x = val_df.iloc[:, :-1].drop(['time'], axis=1)\n",
    "    val_y = val_df.iloc[:, -1:]\n",
    "    \n",
    "    return train_x, train_y, val_x, val_y, test_x"
   ]
  },
  {
   "cell_type": "code",
   "execution_count": 464,
   "id": "fba7013d",
   "metadata": {},
   "outputs": [],
   "source": [
    "def make_train_val(feature_df, target_df, location):\n",
    "    \n",
    "    \n",
    "    target_df = target_df[['time', location]].dropna()\n",
    "    target_df['time'] = pd.to_datetime(target_df['time'])\n",
    "    \n",
    "    train_idx = feature_df[feature_df['time']<='2021-01-02 00:00:00'].index\n",
    "    val_idx = feature_df[(feature_df['time']>='2021-01-02 01:00:00')&(\n",
    "        feature_df['time']<='2021-02-01 00:00:00')].index\n",
    "    \n",
    "    test_idx = feature_df[(feature_df['time']>='2021-02-01 01:00:00')&(\n",
    "        feature_df['time']<='2021-03-01 00:00:00')].index\n",
    "\n",
    "    train_df = pd.merge(feature_df.iloc[train_idx], target_df, on='time', how='inner')\n",
    "    val_df = pd.merge(feature_df.iloc[val_idx], target_df, on='time', how='inner')\n",
    "    test_x = feature_df.iloc[test_idx].drop(['time'], axis=1)\n",
    "    \n",
    "    train_x = train_df.iloc[:, :-1].drop(['time'], axis=1)\n",
    "    train_y = train_df.iloc[:, -1:]\n",
    "    \n",
    "    val_x = val_df.iloc[:, :-1].drop(['time'], axis=1)\n",
    "    val_y = val_df.iloc[:, -1:]\n",
    "    \n",
    "    return train_x, train_y, val_x, val_y, test_x"
   ]
  },
  {
   "cell_type": "code",
   "execution_count": 529,
   "id": "5b88876a",
   "metadata": {},
   "outputs": [],
   "source": [
    "train_x1, train_y1, val_x1, val_y1, test_x1 = make_train_val_dropzero(dangjin_floating_df, new_energy, 'dangjin_floating')\n",
    "train_x2, train_y2, val_x2, val_y2, test_x2 = make_train_val_dropzero(dangjin_warehouse_df, new_energy, 'dangjin_warehouse')\n",
    "train_x3, train_y3, val_x3, val_y3, test_x3 = make_train_val_dropzero(dangjin_df, new_energy, 'dangjin')\n",
    "train_x4, train_y4, val_x4, val_y4, test_x4 = make_train_val_dropzero(ulsan_df, new_energy, 'ulsan')"
   ]
  },
  {
   "cell_type": "markdown",
   "id": "dd2a02f9",
   "metadata": {},
   "source": [
    "## (2) LightGBM training"
   ]
  },
  {
   "cell_type": "markdown",
   "id": "7f01086e",
   "metadata": {},
   "source": [
    "###  데이콘 평가 함수"
   ]
  },
  {
   "cell_type": "code",
   "execution_count": 466,
   "id": "98238b00",
   "metadata": {},
   "outputs": [],
   "source": [
    "def nmae_10(y_pred, dataset):\n",
    "    y_true = dataset.get_label()\n",
    "    \n",
    "    absolute_error = abs(y_true - y_pred)\n",
    "    absolute_error /= capacity\n",
    "    \n",
    "    target_idx = np.where(y_true>=capacity*0.1)\n",
    "    \n",
    "    nmae = 100 * absolute_error[target_idx].mean()\n",
    "    \n",
    "    return 'score', nmae, False\n",
    "\n",
    "def sola_nmae(answer, pred, capacity):\n",
    "    absolute_error = np.abs(answer - pred)\n",
    "\n",
    "    absolute_error /= capacity\n",
    "    \n",
    "    target_idx = np.where(answer>=capacity*0.1)\n",
    "    \n",
    "    nmae = 100 * absolute_error[target_idx].mean()\n",
    "    \n",
    "    return nmae"
   ]
  },
  {
   "cell_type": "markdown",
   "id": "3f986f99",
   "metadata": {},
   "source": [
    "### 가중치 추출 함수"
   ]
  },
  {
   "cell_type": "code",
   "execution_count": 467,
   "id": "924e211c",
   "metadata": {},
   "outputs": [],
   "source": [
    "def weight(model, capacity, val_x, val_y):\n",
    "    weight_list = {}\n",
    "    for i in range(100, 120):\n",
    "        weight_list[i/100] = sola_nmae(val_y.values.reshape(-1), model.predict(val_x)*(i/100), capacity)\n",
    "    return min(weight_list,key=weight_list.get)"
   ]
  },
  {
   "cell_type": "markdown",
   "id": "16a1475b",
   "metadata": {},
   "source": [
    "### 모델 학습 (dangjin_floating)"
   ]
  },
  {
   "cell_type": "code",
   "execution_count": 530,
   "id": "120987fe",
   "metadata": {},
   "outputs": [
    {
     "name": "stdout",
     "output_type": "stream",
     "text": [
      "[LightGBM] [Warning] Auto-choosing col-wise multi-threading, the overhead of testing was 0.003427 seconds.\n",
      "You can set `force_col_wise=true` to remove the overhead.\n",
      "[LightGBM] [Info] Total Bins 1169\n",
      "[LightGBM] [Info] Number of data points in the train set: 17279, number of used features: 12\n",
      "[LightGBM] [Info] Start training from score 249.443486\n",
      "Training until validation scores don't improve for 200 rounds\n",
      "[100]\tvalid_0's score: 9.06777\n",
      "[200]\tvalid_0's score: 7.78248\n",
      "[300]\tvalid_0's score: 7.44701\n",
      "[400]\tvalid_0's score: 7.47548\n",
      "[500]\tvalid_0's score: 7.58457\n",
      "Early stopping, best iteration is:\n",
      "[304]\tvalid_0's score: 7.43925\n"
     ]
    }
   ],
   "source": [
    "train_dataset = lgb.Dataset(train_x1, train_y1)\n",
    "val_dataset = lgb.Dataset(val_x1, val_y1)\n",
    "capacity = 1000\n",
    "params1 = {'learning_rate': 0.01, 'objective': 'regression', 'metric':'logloss', 'seed':42}\n",
    "# params1 = {'learning_rate': 0.01,\n",
    "#            'objective': 'regression', \n",
    "#            'metric':'logloss', \n",
    "#            'seed': 42,\n",
    "#            'max_depth': 7, \n",
    "#            'min_data_in_leaf': 15, \n",
    "#            'lambda': 0.6,\n",
    "#            'bagging_fraction': 0.8,\n",
    "#            'bagging_freq ': 0.8,\n",
    "#            'feature_fraction': 0.8,\n",
    "#            'lambda_l1' : 0.7,\n",
    "#            'lambda_l2' : 0.5,\n",
    "#            'boosting':'gbdt'}\n",
    "dangjin_floating_model = lgb.train(params1, train_dataset, 10000, val_dataset, feval=nmae_10, \n",
    "                                   verbose_eval=100, early_stopping_rounds=200)"
   ]
  },
  {
   "cell_type": "code",
   "execution_count": 531,
   "id": "d9ab57de",
   "metadata": {},
   "outputs": [
    {
     "data": {
      "text/plain": [
       "6.792680747809926"
      ]
     },
     "execution_count": 531,
     "metadata": {},
     "output_type": "execute_result"
    }
   ],
   "source": [
    "sola_nmae(val_y1.values.reshape(-1), \n",
    "          dangjin_floating_model.predict(val_x1)*weight(dangjin_floating_model, 1000, val_x1, val_y1), 1000)"
   ]
  },
  {
   "cell_type": "code",
   "execution_count": 532,
   "id": "34d9d32f",
   "metadata": {},
   "outputs": [
    {
     "data": {
      "image/png": "[encoded data removed]",
      "text/plain": [
       "<Figure size 720x432 with 1 Axes>"
      ]
     },
     "metadata": {
      "needs_background": "light"
     },
     "output_type": "display_data"
    }
   ],
   "source": [
    "plot_importance(dangjin_floating_model, figsize=(10, 6), title='dangjin_floating_model');"
   ]
  },
  {
   "cell_type": "code",
   "execution_count": 533,
   "id": "bd3c5caa",
   "metadata": {},
   "outputs": [
    {
     "data": {
      "text/plain": [
       "1.08"
      ]
     },
     "execution_count": 533,
     "metadata": {},
     "output_type": "execute_result"
    }
   ],
   "source": [
    "dangjin_floating_weight = weight(dangjin_floating_model, 1000, val_x1, val_y1)\n",
    "dangjin_floating_weight"
   ]
  },
  {
   "cell_type": "markdown",
   "id": "6eca7dc9",
   "metadata": {},
   "source": [
    "### 모델 학습 (dangjin_warehouse)"
   ]
  },
  {
   "cell_type": "code",
   "execution_count": 534,
   "id": "0da5fd34",
   "metadata": {},
   "outputs": [
    {
     "name": "stdout",
     "output_type": "stream",
     "text": [
      "[LightGBM] [Warning] Auto-choosing row-wise multi-threading, the overhead of testing was 0.001515 seconds.\n",
      "You can set `force_row_wise=true` to remove the overhead.\n",
      "And if memory is not enough, you can set `force_col_wise=true`.\n",
      "[LightGBM] [Info] Total Bins 1594\n",
      "[LightGBM] [Info] Number of data points in the train set: 32611, number of used features: 12\n",
      "[LightGBM] [Info] Start training from score 198.734507\n",
      "Training until validation scores don't improve for 200 rounds\n",
      "[100]\tvalid_0's score: 10.9784\n",
      "[200]\tvalid_0's score: 9.86133\n",
      "[300]\tvalid_0's score: 9.62098\n",
      "[400]\tvalid_0's score: 9.6604\n",
      "[500]\tvalid_0's score: 9.68617\n",
      "Early stopping, best iteration is:\n",
      "[359]\tvalid_0's score: 9.58213\n"
     ]
    }
   ],
   "source": [
    "train_dataset = lgb.Dataset(train_x2, train_y2)\n",
    "val_dataset = lgb.Dataset(val_x2, val_y2)\n",
    "capacity = 700\n",
    "params2 = {'learning_rate': 0.01, 'objective': 'regression', 'metric':'logloss', 'seed':42}\n",
    "# params2 = {'learning_rate': 0.04,\n",
    "#            'objective': 'regression', \n",
    "#            'metric':'logloss', \n",
    "#            'seed': 42,\n",
    "#            'max_depth': 8, \n",
    "#            'min_data_in_leaf': 20, \n",
    "#            'lambda': 0.6,\n",
    "#            'bagging_fraction': 0.8,\n",
    "#            'bagging_freq ': 0.8,\n",
    "#            'feature_fraction': 0.8,\n",
    "#            'lambda_l1' : 0.7,\n",
    "#            'lambda_l2' : 0.5,\n",
    "#            'boosting':'gbdt'}\n",
    "dangjin_warehouse_model = lgb.train(params2, train_dataset, 10000, val_dataset, feval=nmae_10,\n",
    "                                    verbose_eval=100, early_stopping_rounds=200)"
   ]
  },
  {
   "cell_type": "code",
   "execution_count": 535,
   "id": "d392653d",
   "metadata": {},
   "outputs": [
    {
     "data": {
      "text/plain": [
       "8.969437630708487"
      ]
     },
     "execution_count": 535,
     "metadata": {},
     "output_type": "execute_result"
    }
   ],
   "source": [
    "sola_nmae(val_y2.values.reshape(-1), \n",
    "          dangjin_warehouse_model.predict(val_x2)*weight(dangjin_warehouse_model, 700, val_x2, val_y2), 700)"
   ]
  },
  {
   "cell_type": "code",
   "execution_count": 536,
   "id": "468092dd",
   "metadata": {},
   "outputs": [
    {
     "data": {
      "image/png": "[encoded data removed]",
      "text/plain": [
       "<Figure size 720x432 with 1 Axes>"
      ]
     },
     "metadata": {
      "needs_background": "light"
     },
     "output_type": "display_data"
    }
   ],
   "source": [
    "plot_importance(dangjin_warehouse_model, figsize=(10, 6), title='dangjin_warehouse_model');"
   ]
  },
  {
   "cell_type": "code",
   "execution_count": 537,
   "id": "fec4f914",
   "metadata": {},
   "outputs": [
    {
     "data": {
      "text/plain": [
       "1.13"
      ]
     },
     "execution_count": 537,
     "metadata": {},
     "output_type": "execute_result"
    }
   ],
   "source": [
    "dangjin_warehouse_weight = weight(dangjin_warehouse_model, 700, val_x2, val_y2)\n",
    "dangjin_warehouse_weight"
   ]
  },
  {
   "cell_type": "markdown",
   "id": "b6cb61eb",
   "metadata": {},
   "source": [
    "### 모델 학습 (dangjin)"
   ]
  },
  {
   "cell_type": "code",
   "execution_count": 538,
   "id": "04b3d0f1",
   "metadata": {},
   "outputs": [
    {
     "name": "stdout",
     "output_type": "stream",
     "text": [
      "[LightGBM] [Warning] Auto-choosing row-wise multi-threading, the overhead of testing was 0.001545 seconds.\n",
      "You can set `force_row_wise=true` to remove the overhead.\n",
      "And if memory is not enough, you can set `force_col_wise=true`.\n",
      "[LightGBM] [Info] Total Bins 1582\n",
      "[LightGBM] [Info] Number of data points in the train set: 30848, number of used features: 12\n",
      "[LightGBM] [Info] Start training from score 310.384855\n",
      "Training until validation scores don't improve for 200 rounds\n",
      "[200]\tvalid_0's score: 11.9974\n",
      "[400]\tvalid_0's score: 10.3324\n",
      "[600]\tvalid_0's score: 9.87328\n",
      "[800]\tvalid_0's score: 9.80685\n",
      "Early stopping, best iteration is:\n",
      "[773]\tvalid_0's score: 9.75834\n"
     ]
    }
   ],
   "source": [
    "train_dataset = lgb.Dataset(train_x3, train_y3)\n",
    "val_dataset = lgb.Dataset(val_x3, val_y3)\n",
    "capacity = 1000\n",
    "params3 = {'learning_rate': 0.004, 'objective': 'regression', 'metric':'logloss', 'seed':42}\n",
    "# params3 = {'learning_rate': 0.01,\n",
    "#            'objective': 'regression', \n",
    "#            'metric':'logloss', \n",
    "#            'seed': 42,\n",
    "#            'max_depth': 10, \n",
    "#            'min_data_in_leaf': 25, \n",
    "#            'lambda': 0.9,\n",
    "#            'bagging_fraction': 1,\n",
    "#            'bagging_freq ': 1,\n",
    "#            'feature_fraction': 1,\n",
    "#            'lambda_l1' : 1,\n",
    "#            'lambda_l2' : 1}\n",
    "dangjin_model = lgb.train(params3, train_dataset, 10000, val_dataset, feval=nmae_10,\n",
    "                                    verbose_eval=200, early_stopping_rounds=200)"
   ]
  },
  {
   "cell_type": "code",
   "execution_count": 539,
   "id": "a70bc523",
   "metadata": {},
   "outputs": [
    {
     "data": {
      "text/plain": [
       "9.493170935247115"
      ]
     },
     "execution_count": 539,
     "metadata": {},
     "output_type": "execute_result"
    }
   ],
   "source": [
    "sola_nmae(val_y3.values.reshape(-1), \n",
    "          dangjin_model.predict(val_x3)*weight(dangjin_model, 1000, val_x3, val_y3), 1000)"
   ]
  },
  {
   "cell_type": "code",
   "execution_count": 540,
   "id": "7f246a7e",
   "metadata": {},
   "outputs": [
    {
     "data": {
      "image/png": "[encoded data removed]",
      "text/plain": [
       "<Figure size 720x432 with 1 Axes>"
      ]
     },
     "metadata": {
      "needs_background": "light"
     },
     "output_type": "display_data"
    }
   ],
   "source": [
    "plot_importance(dangjin_model, figsize=(10, 6), title='dangjin_model');"
   ]
  },
  {
   "cell_type": "code",
   "execution_count": 541,
   "id": "8f650379",
   "metadata": {},
   "outputs": [
    {
     "data": {
      "text/plain": [
       "1.07"
      ]
     },
     "execution_count": 541,
     "metadata": {},
     "output_type": "execute_result"
    }
   ],
   "source": [
    "dangjin_weight = weight(dangjin_model, 1000, val_x3, val_y3)\n",
    "dangjin_weight"
   ]
  },
  {
   "cell_type": "markdown",
   "id": "5104c5c7",
   "metadata": {},
   "source": [
    "### 모델 학습 (ulsan)"
   ]
  },
  {
   "cell_type": "code",
   "execution_count": 542,
   "id": "9b910cd9",
   "metadata": {},
   "outputs": [
    {
     "name": "stdout",
     "output_type": "stream",
     "text": [
      "[LightGBM] [Warning] Auto-choosing row-wise multi-threading, the overhead of testing was 0.001852 seconds.\n",
      "You can set `force_row_wise=true` to remove the overhead.\n",
      "And if memory is not enough, you can set `force_col_wise=true`.\n",
      "[LightGBM] [Info] Total Bins 1598\n",
      "[LightGBM] [Info] Number of data points in the train set: 31588, number of used features: 12\n",
      "[LightGBM] [Info] Start training from score 138.653096\n",
      "Training until validation scores don't improve for 200 rounds\n",
      "[100]\tvalid_0's score: 6.73707\n",
      "[200]\tvalid_0's score: 5.66484\n",
      "[300]\tvalid_0's score: 5.5527\n",
      "[400]\tvalid_0's score: 5.50609\n",
      "[500]\tvalid_0's score: 5.4891\n",
      "[600]\tvalid_0's score: 5.49496\n",
      "Early stopping, best iteration is:\n",
      "[476]\tvalid_0's score: 5.48596\n"
     ]
    }
   ],
   "source": [
    "train_dataset = lgb.Dataset(train_x4, train_y4)\n",
    "val_dataset = lgb.Dataset(val_x4, val_y4)\n",
    "capacity = 500\n",
    "params4 = {'learning_rate': 0.02, 'objective': 'regression', 'metric':'logloss', 'seed':42}\n",
    "#params4 = {'learning_rate': 0.01,\n",
    "#            'objective': 'regression', \n",
    "#            'metric':'logloss', \n",
    "#            'seed': 42,\n",
    "#            'max_depth': 7, \n",
    "#            'min_data_in_leaf': 25\n",
    "# }\n",
    "ulsan_model = lgb.train(params4, train_dataset, 10000, val_dataset, feval=nmae_10,\n",
    "                                    verbose_eval=100, early_stopping_rounds=200)"
   ]
  },
  {
   "cell_type": "code",
   "execution_count": 543,
   "id": "f02670f8",
   "metadata": {},
   "outputs": [
    {
     "data": {
      "text/plain": [
       "5.485962922326779"
      ]
     },
     "execution_count": 543,
     "metadata": {},
     "output_type": "execute_result"
    }
   ],
   "source": [
    "sola_nmae(val_y4.values.reshape(-1), \n",
    "          ulsan_model.predict(val_x4)*weight(ulsan_model, 500, val_x4, val_y4), 500)"
   ]
  },
  {
   "cell_type": "code",
   "execution_count": 517,
   "id": "9487ef0d",
   "metadata": {},
   "outputs": [
    {
     "data": {
      "image/png": "[encoded data removed]",
      "text/plain": [
       "<Figure size 720x432 with 1 Axes>"
      ]
     },
     "metadata": {
      "needs_background": "light"
     },
     "output_type": "display_data"
    }
   ],
   "source": [
    "plot_importance(ulsan_model, figsize=(10, 6), title='ulsan_model');"
   ]
  },
  {
   "cell_type": "code",
   "execution_count": 518,
   "id": "2474011d",
   "metadata": {},
   "outputs": [
    {
     "data": {
      "text/plain": [
       "1.0"
      ]
     },
     "execution_count": 518,
     "metadata": {},
     "output_type": "execute_result"
    }
   ],
   "source": [
    "ulsan_weight = weight(ulsan_model, 500, val_x4, val_y4)\n",
    "ulsan_weight"
   ]
  },
  {
   "cell_type": "markdown",
   "id": "7a7eaa03",
   "metadata": {},
   "source": [
    "## (3) Predict"
   ]
  },
  {
   "cell_type": "markdown",
   "id": "40d1ff2f",
   "metadata": {},
   "source": [
    "### 학습한 모델을 이용하여 2021년 2월 발전량 예측"
   ]
  },
  {
   "cell_type": "code",
   "execution_count": 68,
   "id": "b1dc19a3",
   "metadata": {},
   "outputs": [],
   "source": [
    "dangjin_floating_pred = dangjin_floating_model.predict(test_x1)\n",
    "dangjin_warehouse_pred = dangjin_warehouse_model.predict(test_x2)\n",
    "dangjin_pred = dangjin_model.predict(test_x3)\n",
    "ulsan_pred = ulsan_model.predict(test_x4)"
   ]
  },
  {
   "cell_type": "markdown",
   "id": "d4dfdbc0",
   "metadata": {},
   "source": [
    "### 발전량에 각 가중치 부여"
   ]
  },
  {
   "cell_type": "code",
   "execution_count": 69,
   "id": "842ff67c",
   "metadata": {},
   "outputs": [],
   "source": [
    "dangjin_floating_pred *= dangjin_floating_weight\n",
    "dangjin_warehouse_pred *= dangjin_warehouse_weight\n",
    "dangjin_pred *= dangjin_weight\n",
    "ulsan_pred *= ulsan_weight"
   ]
  },
  {
   "cell_type": "markdown",
   "id": "a1ba1f36",
   "metadata": {},
   "source": [
    "### 발전량 예측 시각화"
   ]
  },
  {
   "cell_type": "code",
   "execution_count": 70,
   "id": "643b1885",
   "metadata": {},
   "outputs": [
    {
     "data": {
      "image/png": "[encoded data removed]",
      "text/plain": [
       "<Figure size 1440x576 with 1 Axes>"
      ]
     },
     "metadata": {
      "needs_background": "light"
     },
     "output_type": "display_data"
    }
   ],
   "source": [
    "plt.figure(figsize=(20,8))\n",
    "plt.plot(dangjin_floating_pred, label = 'dangjin_floating_pred')\n",
    "plt.plot(dangjin_warehouse_pred, label = 'dangjin_warehouse_pred')\n",
    "plt.plot(dangjin_pred, label = 'dangjin_pred')\n",
    "plt.plot(ulsan_pred, label = 'ulsan_pred')\n",
    "plt.legend()\n",
    "plt.show()"
   ]
  },
  {
   "cell_type": "code",
   "execution_count": 71,
   "id": "4e8203ce",
   "metadata": {},
   "outputs": [],
   "source": [
    "sample_submission.iloc[:24*28, 1] = dangjin_floating_pred\n",
    "sample_submission.iloc[:24*28, 2] = dangjin_warehouse_pred\n",
    "sample_submission.iloc[:24*28, 3] = dangjin_pred\n",
    "sample_submission.iloc[:24*28, 4] = ulsan_pred"
   ]
  },
  {
   "cell_type": "code",
   "execution_count": 72,
   "id": "9f683d42",
   "metadata": {},
   "outputs": [],
   "source": [
    "#sample_submission.to_csv('submission/final.csv', index=False)"
   ]
  }
 ],
 "metadata": {
  "kernelspec": {
   "display_name": "Python 3",
   "language": "python",
   "name": "python3"
  },
  "language_info": {
   "codemirror_mode": {
    "name": "ipython",
    "version": 3
   },
   "file_extension": ".py",
   "mimetype": "text/x-python",
   "name": "python",
   "nbconvert_exporter": "python",
   "pygments_lexer": "ipython3",
   "version": "3.8.8"
  }
 },
 "nbformat": 4,
 "nbformat_minor": 5
}
