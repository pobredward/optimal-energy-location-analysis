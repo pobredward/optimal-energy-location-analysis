{
 "cells": [
  {
   "cell_type": "markdown",
   "metadata": {},
   "source": [
    "# 기상청 기상관측 데이터 크롤링"
   ]
  },
  {
   "cell_type": "markdown",
   "metadata": {},
   "source": [
    "기상청_지상(종관, ASOS) 시간자료 조회서비스<br>https://www.data.go.kr/tcs/dss/selectApiDataDetailView.do?publicDataPk=15057210"
   ]
  },
  {
   "cell_type": "markdown",
   "metadata": {},
   "source": [
    "- 발전량에 영향을 주는 변수들 이외의 변수 제외\n",
    "- 강수량, 적설량, 일사량, 일조량 결측치 0.0값으로 대체\n",
    "- 전운량 결측치 선형보간"
   ]
  },
  {
   "cell_type": "code",
   "execution_count": 1,
   "metadata": {
    "id": "x6ngVKsNIhnD"
   },
   "outputs": [],
   "source": [
    "from datetime import datetime\n",
    "from time import time\n",
    "import pandas as pd\n",
    "import numpy as np\n",
    "pd.set_option('display.max_columns', 100)\n",
    "pd.set_option('display.max_rows', 100)\n",
    "from tqdm.notebook import tqdm\n",
    "import matplotlib.pyplot as plt\n",
    "import seaborn as sns\n",
    "import missingno as msno\n",
    "import urllib\n",
    "from urllib.request import urlopen\n",
    "import json\n",
    "import pickle\n",
    "from urllib.parse import quote_plus, urlencode"
   ]
  },
  {
   "cell_type": "code",
   "execution_count": 2,
   "metadata": {
    "id": "-hmqSn0nImun"
   },
   "outputs": [],
   "source": [
    "url = 'http://apis.data.go.kr/1360000/AsosHourlyInfoService/getWthrDataList'\n",
    "ServiceKey1 = 'tqpC08yZYskkrG+Mj0oJltcqQllRMp1DNStXHGZI5UiJ27ANO6F8hEr0uYp9i1Dza1CbxkbUvC3qfo/U/t0/HQ=='\n",
    "ServiceKey2 = 'tqpC08yZYskkrG%2BMj0oJltcqQllRMp1DNStXHGZI5UiJ27ANO6F8hEr0uYp9i1Dza1CbxkbUvC3qfo%2FU%2Ft0%2FHQ%3D%3D'\n",
    "\n",
    "queryParams = '?' + urllib.parse.urlencode({quote_plus('ServiceKey') : ServiceKey1,\n",
    "                                        quote_plus('pageNo') : '1',\n",
    "                                        quote_plus('numOfRows') : '1', \n",
    "                                        quote_plus('dataType') : 'JSON', \n",
    "                                        quote_plus('dataCd') : 'ASOS', \n",
    "                                        quote_plus('dateCd') : 'HR', \n",
    "                                        quote_plus('startDt') : '20170101', \n",
    "                                        quote_plus('startHh') : '01', \n",
    "                                        quote_plus('endDt') : '20170701', \n",
    "                                        quote_plus('endHh') : '02', \n",
    "                                        quote_plus('stnIds') : '192'})\n",
    "response = urlopen(url + queryParams).read()\n",
    "response = json.loads(response)"
   ]
  },
  {
   "cell_type": "code",
   "execution_count": 3,
   "metadata": {},
   "outputs": [],
   "source": [
    "col_list = list(response['response']['body']['items']['item'][0].keys())\n",
    "col_map = {'tm': 'time', 'stnNm': 'loc_name', 'stnId': 'loc_num', 'ta': 'temp', 'rn': 'precipitation', \n",
    "           'ws': 'wind_speed', 'wd': 'wind_direction', 'hm': 'humidity', 'pv': 'pressure_vapor', 'td': 'dew_point', \n",
    "           'pa': 'pressure_local', 'ps': 'pressure_sea', 'ss': 'sunshine', 'icsr': 'radiation', 'dsnw': 'snow', \n",
    "           'dc10Tca': 'cloud', 'vs': 'air_opacity', 'ts': 'temp_surf', \n",
    "           'm005Te': 'temp_5cm', 'm01Te': 'temp_10cm', 'm02Te': 'temp_20cm', 'm03Te': 'temp_30cm'}\n",
    "col_list = ['time', 'loc_num', 'loc_name', 'temp', 'precipitation', 'wind_speed', 'wind_direction', 'humidity',\n",
    "            'pressure_vapor', 'dew_point', 'pressure_local', 'pressure_sea', 'sunshine','radiation', 'snow', 'cloud', \n",
    "            'air_opacity', 'temp_surf', 'temp_5cm', 'temp_10cm', 'temp_20cm', 'temp_30cm']\n",
    "col_float_list = ['temp', 'precipitation', 'wind_speed', 'wind_direction', 'humidity',\n",
    "            'pressure_vapor', 'dew_point', 'pressure_local', 'pressure_sea', 'sunshine','radiation', 'snow', 'cloud', \n",
    "            'air_opacity', 'temp_surf', 'temp_5cm', 'temp_10cm', 'temp_20cm', 'temp_30cm']"
   ]
  },
  {
   "cell_type": "code",
   "execution_count": 4,
   "metadata": {},
   "outputs": [],
   "source": [
    "# 기상청에서 1000row 이상의 데이터를 가져오지 못하므로 960(24*40)개씩 가져오기 위한 코드    \n",
    "def make_sub_array(start_date, location):\n",
    "    queryParams = '?' + urllib.parse.urlencode(\n",
    "        {quote_plus('ServiceKey') : ServiceKey1,\n",
    "         quote_plus('pageNo') : '1',\n",
    "         quote_plus('numOfRows') : '960', \n",
    "         quote_plus('dataType') : 'JSON', \n",
    "         quote_plus('dataCd') : 'ASOS', \n",
    "         quote_plus('dateCd') : 'HR', \n",
    "         quote_plus('startDt') : start_date,\n",
    "         quote_plus('startHh') : '01', \n",
    "         quote_plus('endDt') : datetime.strftime(pd.to_datetime(start_date)+pd.DateOffset(hours=960), '%Y%m%d'), \n",
    "         quote_plus('endHh') : '00', \n",
    "         quote_plus('stnIds') : location})\n",
    "    \n",
    "    response = urlopen(url + queryParams).read()\n",
    "    response = json.loads(response)\n",
    "    \n",
    "    if response['response']['header']['resultMsg']==('NO_DATA'):\n",
    "        return 'NoData'\n",
    "    for i, data in enumerate(response['response']['body']['items']['item']):\n",
    "        if i==0:\n",
    "            obs_array = np.delete(\n",
    "                np.array(list(data.values())), [1, 5, 7, 9, 11, 13, 17, 19, 21, 24, 26, 27, 28, 30, 31, 33]).reshape(-1, 1)\n",
    "        else:\n",
    "            obs_array = np.hstack(\n",
    "                [obs_array, np.delete(np.array(list(data.values())),[1, 5, 7, 9, 11, 13, 17, 19, 21, 24, 26, 27, 28, 30, 31, 33]).reshape(-1, 1)])\n",
    "        \n",
    "    return obs_array.T"
   ]
  },
  {
   "cell_type": "code",
   "execution_count": 5,
   "metadata": {},
   "outputs": [],
   "source": [
    "start_date_list = list(pd.date_range(start='20170101 01:00:00', end='20200701 00:00:00', freq='960H').astype(str))\n",
    "for i, date in enumerate(start_date_list):\n",
    "    start_date_list[i] = date.split(' ')[0].replace('-', '')"
   ]
  },
  {
   "cell_type": "code",
   "execution_count": 6,
   "metadata": {},
   "outputs": [],
   "source": [
    "def make_df(location):\n",
    "    obs_array = make_sub_array(start_date_list[0], location)\n",
    "    if type(obs_array)==str:\n",
    "        return 'NoData'\n",
    "    sentence = ' ' + obs_array[0][2] + ' 기상 데이터 크롤링 진행 '\n",
    "    print(f'{sentence:=^56}')\n",
    "    for i, date in enumerate(tqdm(start_date_list[1:])):\n",
    "        obs_array = np.vstack([obs_array, make_sub_array(date, location)])\n",
    "        \n",
    "    obs_array[:, [4, 12, 13, 14]] = np.where(obs_array[:, [4, 12, 13, 14]]=='', 0.0, obs_array[:, [4, 12, 13, 14]])\n",
    "    obs_array = np.where(obs_array=='', np.nan, obs_array)\n",
    "    \n",
    "    obs_df = pd.DataFrame(obs_array, columns=col_list)\n",
    "    obs_df[col_float_list] = obs_df[col_float_list].astype('float16')\n",
    "    obs_df['time'] = pd.to_datetime(obs_df['time'])\n",
    "    obs_df[['cloud']] = obs_df[['cloud']].interpolate()\n",
    "\n",
    "    return obs_df"
   ]
  },
  {
   "cell_type": "code",
   "execution_count": 7,
   "metadata": {},
   "outputs": [],
   "source": [
    "# with open('../pkl/obs_dict.pickle', 'rb') as fw:\n",
    "#     obs_dict_local = pickle.load(fw)"
   ]
  },
  {
   "cell_type": "markdown",
   "metadata": {},
   "source": [
    "# 로컬 데이터 크롤링"
   ]
  },
  {
   "cell_type": "code",
   "execution_count": 8,
   "metadata": {},
   "outputs": [],
   "source": [
    "obs_dict_local = {}\n",
    "obs_dict_local_list = [105, 129, 192]"
   ]
  },
  {
   "cell_type": "code",
   "execution_count": 9,
   "metadata": {},
   "outputs": [
    {
     "name": "stdout",
     "output_type": "stream",
     "text": [
      "=================== 강릉 기상 데이터 크롤링 진행 ===================\n"
     ]
    },
    {
     "data": {
      "application/vnd.jupyter.widget-view+json": {
       "model_id": "fae5734012cf4162b025b785b383526b",
       "version_major": 2,
       "version_minor": 0
      },
      "text/plain": [
       "  0%|          | 0/31 [00:00<?, ?it/s]"
      ]
     },
     "metadata": {},
     "output_type": "display_data"
    },
    {
     "name": "stdout",
     "output_type": "stream",
     "text": [
      "=================== 서산 기상 데이터 크롤링 진행 ===================\n"
     ]
    },
    {
     "data": {
      "application/vnd.jupyter.widget-view+json": {
       "model_id": "8db187d405fa4991910f190b9b2af5db",
       "version_major": 2,
       "version_minor": 0
      },
      "text/plain": [
       "  0%|          | 0/31 [00:00<?, ?it/s]"
      ]
     },
     "metadata": {},
     "output_type": "display_data"
    },
    {
     "name": "stdout",
     "output_type": "stream",
     "text": [
      "=================== 진주 기상 데이터 크롤링 진행 ===================\n"
     ]
    },
    {
     "data": {
      "application/vnd.jupyter.widget-view+json": {
       "model_id": "8520ebf6d3444e048ce9dabfe498f5f3",
       "version_major": 2,
       "version_minor": 0
      },
      "text/plain": [
       "  0%|          | 0/31 [00:00<?, ?it/s]"
      ]
     },
     "metadata": {},
     "output_type": "display_data"
    }
   ],
   "source": [
    "for loc_num in obs_dict_local_list: # 강릉, \n",
    "    obs_dict_local[loc_num] = make_df(str(loc_num))"
   ]
  },
  {
   "cell_type": "code",
   "execution_count": 10,
   "metadata": {},
   "outputs": [],
   "source": [
    "with open('../pkl/obs_dict_local.pickle','wb') as fw:\n",
    "    pickle.dump(obs_dict_local, fw)"
   ]
  },
  {
   "cell_type": "markdown",
   "metadata": {},
   "source": [
    "# 글로벌 데이터 크롤링"
   ]
  },
  {
   "cell_type": "code",
   "execution_count": 12,
   "metadata": {},
   "outputs": [
    {
     "data": {
      "application/vnd.jupyter.widget-view+json": {
       "model_id": "e700fb50403a437ebbc92d95f05d0b6d",
       "version_major": 2,
       "version_minor": 0
      },
      "text/plain": [
       "  0%|          | 0/25 [00:00<?, ?it/s]"
      ]
     },
     "metadata": {},
     "output_type": "display_data"
    },
    {
     "name": "stdout",
     "output_type": "stream",
     "text": [
      "=================== 속초 기상 데이터 크롤링 진행 ===================\n"
     ]
    },
    {
     "data": {
      "application/vnd.jupyter.widget-view+json": {
       "model_id": "ebf32e1a668b4a528303a5bb5ead5abf",
       "version_major": 2,
       "version_minor": 0
      },
      "text/plain": [
       "  0%|          | 0/31 [00:00<?, ?it/s]"
      ]
     },
     "metadata": {},
     "output_type": "display_data"
    },
    {
     "name": "stdout",
     "output_type": "stream",
     "text": [
      "================== 북춘천 기상 데이터 크롤링 진행 ===================\n"
     ]
    },
    {
     "data": {
      "application/vnd.jupyter.widget-view+json": {
       "model_id": "58d82d7fce5c42d3a2f7f4951e7f2fb2",
       "version_major": 2,
       "version_minor": 0
      },
      "text/plain": [
       "  0%|          | 0/31 [00:00<?, ?it/s]"
      ]
     },
     "metadata": {},
     "output_type": "display_data"
    },
    {
     "name": "stdout",
     "output_type": "stream",
     "text": [
      "=================== 철원 기상 데이터 크롤링 진행 ===================\n"
     ]
    },
    {
     "data": {
      "application/vnd.jupyter.widget-view+json": {
       "model_id": "93a7e9fd54af4a5c8866b432e54a8772",
       "version_major": 2,
       "version_minor": 0
      },
      "text/plain": [
       "  0%|          | 0/31 [00:00<?, ?it/s]"
      ]
     },
     "metadata": {},
     "output_type": "display_data"
    },
    {
     "name": "stdout",
     "output_type": "stream",
     "text": [
      "================== 동두천 기상 데이터 크롤링 진행 ===================\n"
     ]
    },
    {
     "data": {
      "application/vnd.jupyter.widget-view+json": {
       "model_id": "981dc2960cfb417ca41c3b4ed448b26e",
       "version_major": 2,
       "version_minor": 0
      },
      "text/plain": [
       "  0%|          | 0/31 [00:00<?, ?it/s]"
      ]
     },
     "metadata": {},
     "output_type": "display_data"
    },
    {
     "name": "stdout",
     "output_type": "stream",
     "text": [
      "=================== 파주 기상 데이터 크롤링 진행 ===================\n"
     ]
    },
    {
     "data": {
      "application/vnd.jupyter.widget-view+json": {
       "model_id": "4bdf0ba2aacd47e9ba7d48ea730814d4",
       "version_major": 2,
       "version_minor": 0
      },
      "text/plain": [
       "  0%|          | 0/31 [00:00<?, ?it/s]"
      ]
     },
     "metadata": {},
     "output_type": "display_data"
    },
    {
     "name": "stdout",
     "output_type": "stream",
     "text": [
      "================== 대관령 기상 데이터 크롤링 진행 ===================\n"
     ]
    },
    {
     "data": {
      "application/vnd.jupyter.widget-view+json": {
       "model_id": "c94b30878ea24a55b4749c70802a0fcf",
       "version_major": 2,
       "version_minor": 0
      },
      "text/plain": [
       "  0%|          | 0/31 [00:00<?, ?it/s]"
      ]
     },
     "metadata": {},
     "output_type": "display_data"
    },
    {
     "name": "stdout",
     "output_type": "stream",
     "text": [
      "=================== 춘천 기상 데이터 크롤링 진행 ===================\n"
     ]
    },
    {
     "data": {
      "application/vnd.jupyter.widget-view+json": {
       "model_id": "05b8662599e947bcacdfbb9bdc911bab",
       "version_major": 2,
       "version_minor": 0
      },
      "text/plain": [
       "  0%|          | 0/31 [00:00<?, ?it/s]"
      ]
     },
     "metadata": {},
     "output_type": "display_data"
    },
    {
     "name": "stdout",
     "output_type": "stream",
     "text": [
      "================== 백령도 기상 데이터 크롤링 진행 ===================\n"
     ]
    },
    {
     "data": {
      "application/vnd.jupyter.widget-view+json": {
       "model_id": "b2d46bc1322f40349bc019c05f27c4a2",
       "version_major": 2,
       "version_minor": 0
      },
      "text/plain": [
       "  0%|          | 0/31 [00:00<?, ?it/s]"
      ]
     },
     "metadata": {},
     "output_type": "display_data"
    },
    {
     "name": "stdout",
     "output_type": "stream",
     "text": [
      "================== 북강릉 기상 데이터 크롤링 진행 ===================\n"
     ]
    },
    {
     "data": {
      "application/vnd.jupyter.widget-view+json": {
       "model_id": "5529a010253d47698a9ba82d5026aaab",
       "version_major": 2,
       "version_minor": 0
      },
      "text/plain": [
       "  0%|          | 0/31 [00:00<?, ?it/s]"
      ]
     },
     "metadata": {},
     "output_type": "display_data"
    },
    {
     "name": "stdout",
     "output_type": "stream",
     "text": [
      "=================== 동해 기상 데이터 크롤링 진행 ===================\n"
     ]
    },
    {
     "data": {
      "application/vnd.jupyter.widget-view+json": {
       "model_id": "37261d938e0e4e4ebaa8196d70288af8",
       "version_major": 2,
       "version_minor": 0
      },
      "text/plain": [
       "  0%|          | 0/31 [00:00<?, ?it/s]"
      ]
     },
     "metadata": {},
     "output_type": "display_data"
    },
    {
     "name": "stdout",
     "output_type": "stream",
     "text": [
      "=================== 서울 기상 데이터 크롤링 진행 ===================\n"
     ]
    },
    {
     "data": {
      "application/vnd.jupyter.widget-view+json": {
       "model_id": "5b0a1a2a0f69437396589d7b997ece4a",
       "version_major": 2,
       "version_minor": 0
      },
      "text/plain": [
       "  0%|          | 0/31 [00:00<?, ?it/s]"
      ]
     },
     "metadata": {},
     "output_type": "display_data"
    },
    {
     "name": "stdout",
     "output_type": "stream",
     "text": [
      "=================== 인천 기상 데이터 크롤링 진행 ===================\n"
     ]
    },
    {
     "data": {
      "application/vnd.jupyter.widget-view+json": {
       "model_id": "d83056a25596425da947beb3192a3490",
       "version_major": 2,
       "version_minor": 0
      },
      "text/plain": [
       "  0%|          | 0/31 [00:00<?, ?it/s]"
      ]
     },
     "metadata": {},
     "output_type": "display_data"
    },
    {
     "name": "stdout",
     "output_type": "stream",
     "text": [
      "=================== 원주 기상 데이터 크롤링 진행 ===================\n"
     ]
    },
    {
     "data": {
      "application/vnd.jupyter.widget-view+json": {
       "model_id": "8a4c6ca6753a4579a2bf71269cd6e0ba",
       "version_major": 2,
       "version_minor": 0
      },
      "text/plain": [
       "  0%|          | 0/31 [00:00<?, ?it/s]"
      ]
     },
     "metadata": {},
     "output_type": "display_data"
    },
    {
     "name": "stdout",
     "output_type": "stream",
     "text": [
      "================== 울릉도 기상 데이터 크롤링 진행 ===================\n"
     ]
    },
    {
     "data": {
      "application/vnd.jupyter.widget-view+json": {
       "model_id": "3c99300ee7a146d2823784fcbc8b934a",
       "version_major": 2,
       "version_minor": 0
      },
      "text/plain": [
       "  0%|          | 0/31 [00:00<?, ?it/s]"
      ]
     },
     "metadata": {},
     "output_type": "display_data"
    }
   ],
   "source": [
    "obs_dict_global_1 = {}\n",
    "obs_dict_global_list_1 = np.setdiff1d(np.arange(90, 116), [105, 129, 152, 175, 192])\n",
    "for loc_num in tqdm(obs_dict_global_list_1): # 전체\n",
    "    obs_dict_global_1[loc_num] = make_df(str(loc_num))"
   ]
  },
  {
   "cell_type": "code",
   "execution_count": 13,
   "metadata": {},
   "outputs": [],
   "source": [
    "with open('../pkl/obs_dict_global_1.pickle','wb') as fw:\n",
    "    pickle.dump(obs_dict_global_1, fw)"
   ]
  },
  {
   "cell_type": "code",
   "execution_count": 14,
   "metadata": {},
   "outputs": [
    {
     "data": {
      "application/vnd.jupyter.widget-view+json": {
       "model_id": "871bb53953eb42c69cd6c777a910c701",
       "version_major": 2,
       "version_minor": 0
      },
      "text/plain": [
       "  0%|          | 0/39 [00:00<?, ?it/s]"
      ]
     },
     "metadata": {},
     "output_type": "display_data"
    },
    {
     "name": "stdout",
     "output_type": "stream",
     "text": [
      "=================== 수원 기상 데이터 크롤링 진행 ===================\n"
     ]
    },
    {
     "data": {
      "application/vnd.jupyter.widget-view+json": {
       "model_id": "60eebefd28344bc9a2144337045257cd",
       "version_major": 2,
       "version_minor": 0
      },
      "text/plain": [
       "  0%|          | 0/31 [00:00<?, ?it/s]"
      ]
     },
     "metadata": {},
     "output_type": "display_data"
    },
    {
     "name": "stdout",
     "output_type": "stream",
     "text": [
      "=================== 영월 기상 데이터 크롤링 진행 ===================\n"
     ]
    },
    {
     "data": {
      "application/vnd.jupyter.widget-view+json": {
       "model_id": "decb5464c9fc4df7b794686ab862d751",
       "version_major": 2,
       "version_minor": 0
      },
      "text/plain": [
       "  0%|          | 0/31 [00:00<?, ?it/s]"
      ]
     },
     "metadata": {},
     "output_type": "display_data"
    },
    {
     "name": "stdout",
     "output_type": "stream",
     "text": [
      "=================== 충주 기상 데이터 크롤링 진행 ===================\n"
     ]
    },
    {
     "data": {
      "application/vnd.jupyter.widget-view+json": {
       "model_id": "1a6042626a244c37a905bc308b9c25b5",
       "version_major": 2,
       "version_minor": 0
      },
      "text/plain": [
       "  0%|          | 0/31 [00:00<?, ?it/s]"
      ]
     },
     "metadata": {},
     "output_type": "display_data"
    },
    {
     "name": "stdout",
     "output_type": "stream",
     "text": [
      "=================== 울진 기상 데이터 크롤링 진행 ===================\n"
     ]
    },
    {
     "data": {
      "application/vnd.jupyter.widget-view+json": {
       "model_id": "2ceef56d7e36424fa5fb9ec64b14a5fe",
       "version_major": 2,
       "version_minor": 0
      },
      "text/plain": [
       "  0%|          | 0/31 [00:00<?, ?it/s]"
      ]
     },
     "metadata": {},
     "output_type": "display_data"
    },
    {
     "name": "stdout",
     "output_type": "stream",
     "text": [
      "=================== 청주 기상 데이터 크롤링 진행 ===================\n"
     ]
    },
    {
     "data": {
      "application/vnd.jupyter.widget-view+json": {
       "model_id": "8dd3ea0af99b465cb6d9c8253038488d",
       "version_major": 2,
       "version_minor": 0
      },
      "text/plain": [
       "  0%|          | 0/31 [00:00<?, ?it/s]"
      ]
     },
     "metadata": {},
     "output_type": "display_data"
    },
    {
     "name": "stdout",
     "output_type": "stream",
     "text": [
      "=================== 대전 기상 데이터 크롤링 진행 ===================\n"
     ]
    },
    {
     "data": {
      "application/vnd.jupyter.widget-view+json": {
       "model_id": "c2c18d7fd0ab45f58f107fa7aba409ba",
       "version_major": 2,
       "version_minor": 0
      },
      "text/plain": [
       "  0%|          | 0/31 [00:00<?, ?it/s]"
      ]
     },
     "metadata": {},
     "output_type": "display_data"
    },
    {
     "name": "stdout",
     "output_type": "stream",
     "text": [
      "================== 추풍령 기상 데이터 크롤링 진행 ===================\n"
     ]
    },
    {
     "data": {
      "application/vnd.jupyter.widget-view+json": {
       "model_id": "4edc09d176a64b1aaa4ba1356c5d5c03",
       "version_major": 2,
       "version_minor": 0
      },
      "text/plain": [
       "  0%|          | 0/31 [00:00<?, ?it/s]"
      ]
     },
     "metadata": {},
     "output_type": "display_data"
    },
    {
     "name": "stdout",
     "output_type": "stream",
     "text": [
      "=================== 안동 기상 데이터 크롤링 진행 ===================\n"
     ]
    },
    {
     "data": {
      "application/vnd.jupyter.widget-view+json": {
       "model_id": "5c31bf300da041abb5234770d1d83464",
       "version_major": 2,
       "version_minor": 0
      },
      "text/plain": [
       "  0%|          | 0/31 [00:00<?, ?it/s]"
      ]
     },
     "metadata": {},
     "output_type": "display_data"
    },
    {
     "name": "stdout",
     "output_type": "stream",
     "text": [
      "=================== 상주 기상 데이터 크롤링 진행 ===================\n"
     ]
    },
    {
     "data": {
      "application/vnd.jupyter.widget-view+json": {
       "model_id": "3a3a5b360c5a4c57b2327b07cd9dc079",
       "version_major": 2,
       "version_minor": 0
      },
      "text/plain": [
       "  0%|          | 0/31 [00:00<?, ?it/s]"
      ]
     },
     "metadata": {},
     "output_type": "display_data"
    },
    {
     "name": "stdout",
     "output_type": "stream",
     "text": [
      "=================== 포항 기상 데이터 크롤링 진행 ===================\n"
     ]
    },
    {
     "data": {
      "application/vnd.jupyter.widget-view+json": {
       "model_id": "7df99e13213040ef996c2c918595de3c",
       "version_major": 2,
       "version_minor": 0
      },
      "text/plain": [
       "  0%|          | 0/31 [00:00<?, ?it/s]"
      ]
     },
     "metadata": {},
     "output_type": "display_data"
    },
    {
     "name": "stdout",
     "output_type": "stream",
     "text": [
      "=================== 군산 기상 데이터 크롤링 진행 ===================\n"
     ]
    },
    {
     "data": {
      "application/vnd.jupyter.widget-view+json": {
       "model_id": "0729ae389a36470796edf79a568adf60",
       "version_major": 2,
       "version_minor": 0
      },
      "text/plain": [
       "  0%|          | 0/31 [00:00<?, ?it/s]"
      ]
     },
     "metadata": {},
     "output_type": "display_data"
    },
    {
     "name": "stdout",
     "output_type": "stream",
     "text": [
      "=================== 대구 기상 데이터 크롤링 진행 ===================\n"
     ]
    },
    {
     "data": {
      "application/vnd.jupyter.widget-view+json": {
       "model_id": "38e34e3f83f5418a85c1be217ad39f68",
       "version_major": 2,
       "version_minor": 0
      },
      "text/plain": [
       "  0%|          | 0/31 [00:00<?, ?it/s]"
      ]
     },
     "metadata": {},
     "output_type": "display_data"
    },
    {
     "name": "stdout",
     "output_type": "stream",
     "text": [
      "=================== 전주 기상 데이터 크롤링 진행 ===================\n"
     ]
    },
    {
     "data": {
      "application/vnd.jupyter.widget-view+json": {
       "model_id": "7497d797436043f8b55baade56354f8f",
       "version_major": 2,
       "version_minor": 0
      },
      "text/plain": [
       "  0%|          | 0/31 [00:00<?, ?it/s]"
      ]
     },
     "metadata": {},
     "output_type": "display_data"
    },
    {
     "name": "stdout",
     "output_type": "stream",
     "text": [
      "=================== 창원 기상 데이터 크롤링 진행 ===================\n"
     ]
    },
    {
     "data": {
      "application/vnd.jupyter.widget-view+json": {
       "model_id": "efe0e7bcf6cf4070a95972df38e7f01f",
       "version_major": 2,
       "version_minor": 0
      },
      "text/plain": [
       "  0%|          | 0/31 [00:00<?, ?it/s]"
      ]
     },
     "metadata": {},
     "output_type": "display_data"
    },
    {
     "name": "stdout",
     "output_type": "stream",
     "text": [
      "=================== 광주 기상 데이터 크롤링 진행 ===================\n"
     ]
    },
    {
     "data": {
      "application/vnd.jupyter.widget-view+json": {
       "model_id": "3d4eb356d639495c83131d79b9347053",
       "version_major": 2,
       "version_minor": 0
      },
      "text/plain": [
       "  0%|          | 0/31 [00:00<?, ?it/s]"
      ]
     },
     "metadata": {},
     "output_type": "display_data"
    },
    {
     "name": "stdout",
     "output_type": "stream",
     "text": [
      "=================== 부산 기상 데이터 크롤링 진행 ===================\n"
     ]
    },
    {
     "data": {
      "application/vnd.jupyter.widget-view+json": {
       "model_id": "1fca1ccc66c94e828ae054a91528f0f3",
       "version_major": 2,
       "version_minor": 0
      },
      "text/plain": [
       "  0%|          | 0/31 [00:00<?, ?it/s]"
      ]
     },
     "metadata": {},
     "output_type": "display_data"
    }
   ],
   "source": [
    "obs_dict_global_2 = {}\n",
    "obs_dict_global_list_2 = np.setdiff1d(np.arange(119, 160), [105, 129, 152, 175, 192])\n",
    "for loc_num in tqdm(obs_dict_global_list_2): # 전체\n",
    "    obs_dict_global_2[loc_num] = make_df(str(loc_num))"
   ]
  },
  {
   "cell_type": "code",
   "execution_count": 15,
   "metadata": {},
   "outputs": [],
   "source": [
    "with open('../pkl/obs_dict_global_2.pickle','wb') as fw:\n",
    "    pickle.dump(obs_dict_global_2, fw)"
   ]
  },
  {
   "cell_type": "code",
   "execution_count": 16,
   "metadata": {
    "scrolled": false
   },
   "outputs": [
    {
     "data": {
      "application/vnd.jupyter.widget-view+json": {
       "model_id": "813f2fd8eefb4d39a2f4466cc21fd098",
       "version_major": 2,
       "version_minor": 0
      },
      "text/plain": [
       "  0%|          | 0/50 [00:00<?, ?it/s]"
      ]
     },
     "metadata": {},
     "output_type": "display_data"
    },
    {
     "name": "stdout",
     "output_type": "stream",
     "text": [
      "=================== 통영 기상 데이터 크롤링 진행 ===================\n"
     ]
    },
    {
     "data": {
      "application/vnd.jupyter.widget-view+json": {
       "model_id": "69c97fca5c434a7ba49b3b3652342e31",
       "version_major": 2,
       "version_minor": 0
      },
      "text/plain": [
       "  0%|          | 0/31 [00:00<?, ?it/s]"
      ]
     },
     "metadata": {},
     "output_type": "display_data"
    },
    {
     "name": "stdout",
     "output_type": "stream",
     "text": [
      "=================== 목포 기상 데이터 크롤링 진행 ===================\n"
     ]
    },
    {
     "data": {
      "application/vnd.jupyter.widget-view+json": {
       "model_id": "9fba18205c4d4bf8b97a9cc21bb17f0e",
       "version_major": 2,
       "version_minor": 0
      },
      "text/plain": [
       "  0%|          | 0/31 [00:00<?, ?it/s]"
      ]
     },
     "metadata": {},
     "output_type": "display_data"
    },
    {
     "name": "stdout",
     "output_type": "stream",
     "text": [
      "=================== 여수 기상 데이터 크롤링 진행 ===================\n"
     ]
    },
    {
     "data": {
      "application/vnd.jupyter.widget-view+json": {
       "model_id": "ff1aaa18ff884c34b61b400d38379a26",
       "version_major": 2,
       "version_minor": 0
      },
      "text/plain": [
       "  0%|          | 0/31 [00:00<?, ?it/s]"
      ]
     },
     "metadata": {},
     "output_type": "display_data"
    },
    {
     "name": "stdout",
     "output_type": "stream",
     "text": [
      "================== 흑산도 기상 데이터 크롤링 진행 ===================\n"
     ]
    },
    {
     "data": {
      "application/vnd.jupyter.widget-view+json": {
       "model_id": "77f3383e38534254b5279adabeafb501",
       "version_major": 2,
       "version_minor": 0
      },
      "text/plain": [
       "  0%|          | 0/31 [00:00<?, ?it/s]"
      ]
     },
     "metadata": {},
     "output_type": "display_data"
    },
    {
     "name": "stdout",
     "output_type": "stream",
     "text": [
      "=================== 완도 기상 데이터 크롤링 진행 ===================\n"
     ]
    },
    {
     "data": {
      "application/vnd.jupyter.widget-view+json": {
       "model_id": "80fa6ce9ad70475f8715bbaea5bb799c",
       "version_major": 2,
       "version_minor": 0
      },
      "text/plain": [
       "  0%|          | 0/31 [00:00<?, ?it/s]"
      ]
     },
     "metadata": {},
     "output_type": "display_data"
    },
    {
     "name": "stdout",
     "output_type": "stream",
     "text": [
      "=================== 고창 기상 데이터 크롤링 진행 ===================\n"
     ]
    },
    {
     "data": {
      "application/vnd.jupyter.widget-view+json": {
       "model_id": "0bfe8c32805f4724866674a7e96a28f2",
       "version_major": 2,
       "version_minor": 0
      },
      "text/plain": [
       "  0%|          | 0/31 [00:00<?, ?it/s]"
      ]
     },
     "metadata": {},
     "output_type": "display_data"
    },
    {
     "name": "stdout",
     "output_type": "stream",
     "text": [
      "=================== 순천 기상 데이터 크롤링 진행 ===================\n"
     ]
    },
    {
     "data": {
      "application/vnd.jupyter.widget-view+json": {
       "model_id": "a860aeef428a4765a4f0a09a9e1b6704",
       "version_major": 2,
       "version_minor": 0
      },
      "text/plain": [
       "  0%|          | 0/31 [00:00<?, ?it/s]"
      ]
     },
     "metadata": {},
     "output_type": "display_data"
    },
    {
     "name": "stdout",
     "output_type": "stream",
     "text": [
      "=================== 홍성 기상 데이터 크롤링 진행 ===================\n"
     ]
    },
    {
     "data": {
      "application/vnd.jupyter.widget-view+json": {
       "model_id": "720ea09e50194453a149611a212bcc2e",
       "version_major": 2,
       "version_minor": 0
      },
      "text/plain": [
       "  0%|          | 0/31 [00:00<?, ?it/s]"
      ]
     },
     "metadata": {},
     "output_type": "display_data"
    },
    {
     "name": "stdout",
     "output_type": "stream",
     "text": [
      "=================== 제주 기상 데이터 크롤링 진행 ===================\n"
     ]
    },
    {
     "data": {
      "application/vnd.jupyter.widget-view+json": {
       "model_id": "377b5397c23a4b519be971817d9231b9",
       "version_major": 2,
       "version_minor": 0
      },
      "text/plain": [
       "  0%|          | 0/31 [00:00<?, ?it/s]"
      ]
     },
     "metadata": {},
     "output_type": "display_data"
    },
    {
     "name": "stdout",
     "output_type": "stream",
     "text": [
      "=================== 고산 기상 데이터 크롤링 진행 ===================\n"
     ]
    },
    {
     "data": {
      "application/vnd.jupyter.widget-view+json": {
       "model_id": "dc0c9544f84842edbf1e035d2eb8003d",
       "version_major": 2,
       "version_minor": 0
      },
      "text/plain": [
       "  0%|          | 0/31 [00:00<?, ?it/s]"
      ]
     },
     "metadata": {},
     "output_type": "display_data"
    },
    {
     "name": "stdout",
     "output_type": "stream",
     "text": [
      "=================== 성산 기상 데이터 크롤링 진행 ===================\n"
     ]
    },
    {
     "data": {
      "application/vnd.jupyter.widget-view+json": {
       "model_id": "e978314772a644fd992af5b6c984da4b",
       "version_major": 2,
       "version_minor": 0
      },
      "text/plain": [
       "  0%|          | 0/31 [00:00<?, ?it/s]"
      ]
     },
     "metadata": {},
     "output_type": "display_data"
    },
    {
     "name": "stdout",
     "output_type": "stream",
     "text": [
      "================== 서귀포 기상 데이터 크롤링 진행 ===================\n"
     ]
    },
    {
     "data": {
      "application/vnd.jupyter.widget-view+json": {
       "model_id": "ad7903da434f424c9e0558a0423b5657",
       "version_major": 2,
       "version_minor": 0
      },
      "text/plain": [
       "  0%|          | 0/31 [00:00<?, ?it/s]"
      ]
     },
     "metadata": {},
     "output_type": "display_data"
    },
    {
     "name": "stdout",
     "output_type": "stream",
     "text": [
      "=================== 강화 기상 데이터 크롤링 진행 ===================\n"
     ]
    },
    {
     "data": {
      "application/vnd.jupyter.widget-view+json": {
       "model_id": "55c56d7941dd4238a1fa2bf243986bff",
       "version_major": 2,
       "version_minor": 0
      },
      "text/plain": [
       "  0%|          | 0/31 [00:00<?, ?it/s]"
      ]
     },
     "metadata": {},
     "output_type": "display_data"
    },
    {
     "name": "stdout",
     "output_type": "stream",
     "text": [
      "=================== 양평 기상 데이터 크롤링 진행 ===================\n"
     ]
    },
    {
     "data": {
      "application/vnd.jupyter.widget-view+json": {
       "model_id": "69b2fdc1520046ecad2843cd4ae33342",
       "version_major": 2,
       "version_minor": 0
      },
      "text/plain": [
       "  0%|          | 0/31 [00:00<?, ?it/s]"
      ]
     },
     "metadata": {},
     "output_type": "display_data"
    },
    {
     "name": "stdout",
     "output_type": "stream",
     "text": [
      "=================== 이천 기상 데이터 크롤링 진행 ===================\n"
     ]
    },
    {
     "data": {
      "application/vnd.jupyter.widget-view+json": {
       "model_id": "ab20ec35a28d4090945033bfa5db909d",
       "version_major": 2,
       "version_minor": 0
      },
      "text/plain": [
       "  0%|          | 0/31 [00:00<?, ?it/s]"
      ]
     },
     "metadata": {},
     "output_type": "display_data"
    },
    {
     "name": "stdout",
     "output_type": "stream",
     "text": [
      "=================== 인제 기상 데이터 크롤링 진행 ===================\n"
     ]
    },
    {
     "data": {
      "application/vnd.jupyter.widget-view+json": {
       "model_id": "f5929454b9964fb6b253fed6e2e76a82",
       "version_major": 2,
       "version_minor": 0
      },
      "text/plain": [
       "  0%|          | 0/31 [00:00<?, ?it/s]"
      ]
     },
     "metadata": {},
     "output_type": "display_data"
    }
   ],
   "source": [
    "obs_dict_global_3 = {}\n",
    "obs_dict_global_list_3 = np.setdiff1d(np.arange(160, 212), [105, 129, 152, 175, 192])\n",
    "for loc_num in tqdm(obs_dict_global_list_3): # 전체\n",
    "    obs_dict_global_3[loc_num] = make_df(str(loc_num))"
   ]
  },
  {
   "cell_type": "code",
   "execution_count": 17,
   "metadata": {},
   "outputs": [],
   "source": [
    "with open('../pkl/obs_dict_global_3.pickle','wb') as fw:\n",
    "    pickle.dump(obs_dict_global_3, fw)"
   ]
  },
  {
   "cell_type": "code",
   "execution_count": 18,
   "metadata": {},
   "outputs": [
    {
     "data": {
      "application/vnd.jupyter.widget-view+json": {
       "model_id": "28f83f1d0e5a4d138f58f4ee6db5ea0a",
       "version_major": 2,
       "version_minor": 0
      },
      "text/plain": [
       "  0%|          | 0/38 [00:00<?, ?it/s]"
      ]
     },
     "metadata": {},
     "output_type": "display_data"
    },
    {
     "name": "stdout",
     "output_type": "stream",
     "text": [
      "=================== 홍천 기상 데이터 크롤링 진행 ===================\n"
     ]
    },
    {
     "data": {
      "application/vnd.jupyter.widget-view+json": {
       "model_id": "f143a13093a94418859adfee64d5aaa4",
       "version_major": 2,
       "version_minor": 0
      },
      "text/plain": [
       "  0%|          | 0/31 [00:00<?, ?it/s]"
      ]
     },
     "metadata": {},
     "output_type": "display_data"
    },
    {
     "name": "stdout",
     "output_type": "stream",
     "text": [
      "=================== 태백 기상 데이터 크롤링 진행 ===================\n"
     ]
    },
    {
     "data": {
      "application/vnd.jupyter.widget-view+json": {
       "model_id": "601faaa459e84e0c857348c503dde9b5",
       "version_major": 2,
       "version_minor": 0
      },
      "text/plain": [
       "  0%|          | 0/31 [00:00<?, ?it/s]"
      ]
     },
     "metadata": {},
     "output_type": "display_data"
    },
    {
     "name": "stdout",
     "output_type": "stream",
     "text": [
      "================== 정선군 기상 데이터 크롤링 진행 ===================\n"
     ]
    },
    {
     "data": {
      "application/vnd.jupyter.widget-view+json": {
       "model_id": "b136cf2e031744d5b1f590d8461cc9c4",
       "version_major": 2,
       "version_minor": 0
      },
      "text/plain": [
       "  0%|          | 0/31 [00:00<?, ?it/s]"
      ]
     },
     "metadata": {},
     "output_type": "display_data"
    },
    {
     "name": "stdout",
     "output_type": "stream",
     "text": [
      "=================== 제천 기상 데이터 크롤링 진행 ===================\n"
     ]
    },
    {
     "data": {
      "application/vnd.jupyter.widget-view+json": {
       "model_id": "d94e2d9bd0cf4900bb6c2e83cfa4030a",
       "version_major": 2,
       "version_minor": 0
      },
      "text/plain": [
       "  0%|          | 0/31 [00:00<?, ?it/s]"
      ]
     },
     "metadata": {},
     "output_type": "display_data"
    },
    {
     "name": "stdout",
     "output_type": "stream",
     "text": [
      "=================== 보은 기상 데이터 크롤링 진행 ===================\n"
     ]
    },
    {
     "data": {
      "application/vnd.jupyter.widget-view+json": {
       "model_id": "f171cdda2fad42728206f642535bf76b",
       "version_major": 2,
       "version_minor": 0
      },
      "text/plain": [
       "  0%|          | 0/31 [00:00<?, ?it/s]"
      ]
     },
     "metadata": {},
     "output_type": "display_data"
    },
    {
     "name": "stdout",
     "output_type": "stream",
     "text": [
      "=================== 천안 기상 데이터 크롤링 진행 ===================\n"
     ]
    },
    {
     "data": {
      "application/vnd.jupyter.widget-view+json": {
       "model_id": "4ffe2080a2134b689d93a21cacc3e7cb",
       "version_major": 2,
       "version_minor": 0
      },
      "text/plain": [
       "  0%|          | 0/31 [00:00<?, ?it/s]"
      ]
     },
     "metadata": {},
     "output_type": "display_data"
    },
    {
     "name": "stdout",
     "output_type": "stream",
     "text": [
      "=================== 보령 기상 데이터 크롤링 진행 ===================\n"
     ]
    },
    {
     "data": {
      "application/vnd.jupyter.widget-view+json": {
       "model_id": "cab477f858a04756a443bd8f4121538b",
       "version_major": 2,
       "version_minor": 0
      },
      "text/plain": [
       "  0%|          | 0/31 [00:00<?, ?it/s]"
      ]
     },
     "metadata": {},
     "output_type": "display_data"
    },
    {
     "name": "stdout",
     "output_type": "stream",
     "text": [
      "=================== 부여 기상 데이터 크롤링 진행 ===================\n"
     ]
    },
    {
     "data": {
      "application/vnd.jupyter.widget-view+json": {
       "model_id": "93610764f4a445b885e1facd4fab1811",
       "version_major": 2,
       "version_minor": 0
      },
      "text/plain": [
       "  0%|          | 0/31 [00:00<?, ?it/s]"
      ]
     },
     "metadata": {},
     "output_type": "display_data"
    },
    {
     "name": "stdout",
     "output_type": "stream",
     "text": [
      "=================== 금산 기상 데이터 크롤링 진행 ===================\n"
     ]
    },
    {
     "data": {
      "application/vnd.jupyter.widget-view+json": {
       "model_id": "59c8f05e74e04f239364865c45fbec61",
       "version_major": 2,
       "version_minor": 0
      },
      "text/plain": [
       "  0%|          | 0/31 [00:00<?, ?it/s]"
      ]
     },
     "metadata": {},
     "output_type": "display_data"
    },
    {
     "name": "stdout",
     "output_type": "stream",
     "text": [
      "=================== 부안 기상 데이터 크롤링 진행 ===================\n"
     ]
    },
    {
     "data": {
      "application/vnd.jupyter.widget-view+json": {
       "model_id": "354245d8499444c2affd9c1ee14c44e8",
       "version_major": 2,
       "version_minor": 0
      },
      "text/plain": [
       "  0%|          | 0/31 [00:00<?, ?it/s]"
      ]
     },
     "metadata": {},
     "output_type": "display_data"
    },
    {
     "name": "stdout",
     "output_type": "stream",
     "text": [
      "=================== 임실 기상 데이터 크롤링 진행 ===================\n"
     ]
    },
    {
     "data": {
      "application/vnd.jupyter.widget-view+json": {
       "model_id": "21e5488088934f24b5da636399c7d41c",
       "version_major": 2,
       "version_minor": 0
      },
      "text/plain": [
       "  0%|          | 0/31 [00:00<?, ?it/s]"
      ]
     },
     "metadata": {},
     "output_type": "display_data"
    },
    {
     "name": "stdout",
     "output_type": "stream",
     "text": [
      "=================== 정읍 기상 데이터 크롤링 진행 ===================\n"
     ]
    },
    {
     "data": {
      "application/vnd.jupyter.widget-view+json": {
       "model_id": "06f0fc4e0df04b2e8285f7598b20d1de",
       "version_major": 2,
       "version_minor": 0
      },
      "text/plain": [
       "  0%|          | 0/31 [00:00<?, ?it/s]"
      ]
     },
     "metadata": {},
     "output_type": "display_data"
    },
    {
     "name": "stdout",
     "output_type": "stream",
     "text": [
      "=================== 남원 기상 데이터 크롤링 진행 ===================\n"
     ]
    },
    {
     "data": {
      "application/vnd.jupyter.widget-view+json": {
       "model_id": "09500742141f4794931841a0f639b7b1",
       "version_major": 2,
       "version_minor": 0
      },
      "text/plain": [
       "  0%|          | 0/31 [00:00<?, ?it/s]"
      ]
     },
     "metadata": {},
     "output_type": "display_data"
    },
    {
     "name": "stdout",
     "output_type": "stream",
     "text": [
      "=================== 장수 기상 데이터 크롤링 진행 ===================\n"
     ]
    },
    {
     "data": {
      "application/vnd.jupyter.widget-view+json": {
       "model_id": "58d7c80e9e1e467a90c62685a2019a60",
       "version_major": 2,
       "version_minor": 0
      },
      "text/plain": [
       "  0%|          | 0/31 [00:00<?, ?it/s]"
      ]
     },
     "metadata": {},
     "output_type": "display_data"
    }
   ],
   "source": [
    "obs_dict_global_4 = {}\n",
    "obs_dict_global_list_4 = np.setdiff1d(np.arange(212, 250), [105, 129, 152, 175, 192])\n",
    "for loc_num in tqdm(obs_dict_global_list_4): # 전체\n",
    "    obs_dict_global_4[loc_num] = make_df(str(loc_num))"
   ]
  },
  {
   "cell_type": "code",
   "execution_count": 19,
   "metadata": {},
   "outputs": [],
   "source": [
    "with open('../pkl/obs_dict_global_4.pickle','wb') as fw:\n",
    "    pickle.dump(obs_dict_global_4, fw)"
   ]
  },
  {
   "cell_type": "code",
   "execution_count": 25,
   "metadata": {},
   "outputs": [
    {
     "data": {
      "application/vnd.jupyter.widget-view+json": {
       "model_id": "e2fee7bb8c284ed7b12db2f6ffd4ca23",
       "version_major": 2,
       "version_minor": 0
      },
      "text/plain": [
       "  0%|          | 0/20 [00:00<?, ?it/s]"
      ]
     },
     "metadata": {},
     "output_type": "display_data"
    },
    {
     "name": "stdout",
     "output_type": "stream",
     "text": [
      "================== 고창군 기상 데이터 크롤링 진행 ===================\n"
     ]
    },
    {
     "data": {
      "application/vnd.jupyter.widget-view+json": {
       "model_id": "a022773624fa4ae7b9a9bd1d4b46def0",
       "version_major": 2,
       "version_minor": 0
      },
      "text/plain": [
       "  0%|          | 0/31 [00:00<?, ?it/s]"
      ]
     },
     "metadata": {},
     "output_type": "display_data"
    },
    {
     "name": "stdout",
     "output_type": "stream",
     "text": [
      "================== 영광군 기상 데이터 크롤링 진행 ===================\n"
     ]
    },
    {
     "data": {
      "application/vnd.jupyter.widget-view+json": {
       "model_id": "1a39bf262c3d4b399820e6fbf0ab6f39",
       "version_major": 2,
       "version_minor": 0
      },
      "text/plain": [
       "  0%|          | 0/31 [00:00<?, ?it/s]"
      ]
     },
     "metadata": {},
     "output_type": "display_data"
    },
    {
     "name": "stdout",
     "output_type": "stream",
     "text": [
      "================== 김해시 기상 데이터 크롤링 진행 ===================\n"
     ]
    },
    {
     "data": {
      "application/vnd.jupyter.widget-view+json": {
       "model_id": "bb226e842db6470383f931eac822d63b",
       "version_major": 2,
       "version_minor": 0
      },
      "text/plain": [
       "  0%|          | 0/31 [00:00<?, ?it/s]"
      ]
     },
     "metadata": {},
     "output_type": "display_data"
    },
    {
     "name": "stdout",
     "output_type": "stream",
     "text": [
      "================== 순창군 기상 데이터 크롤링 진행 ===================\n"
     ]
    },
    {
     "data": {
      "application/vnd.jupyter.widget-view+json": {
       "model_id": "d8d601c45bbd4b6790cc5097cb3018cc",
       "version_major": 2,
       "version_minor": 0
      },
      "text/plain": [
       "  0%|          | 0/31 [00:00<?, ?it/s]"
      ]
     },
     "metadata": {},
     "output_type": "display_data"
    },
    {
     "name": "stdout",
     "output_type": "stream",
     "text": [
      "================== 북창원 기상 데이터 크롤링 진행 ===================\n"
     ]
    },
    {
     "data": {
      "application/vnd.jupyter.widget-view+json": {
       "model_id": "39b33db8a0334223a1e23fd3a281b0da",
       "version_major": 2,
       "version_minor": 0
      },
      "text/plain": [
       "  0%|          | 0/31 [00:00<?, ?it/s]"
      ]
     },
     "metadata": {},
     "output_type": "display_data"
    },
    {
     "name": "stdout",
     "output_type": "stream",
     "text": [
      "================== 양산시 기상 데이터 크롤링 진행 ===================\n"
     ]
    },
    {
     "data": {
      "application/vnd.jupyter.widget-view+json": {
       "model_id": "ceeaf806d9654a03a36937c44c1b6a28",
       "version_major": 2,
       "version_minor": 0
      },
      "text/plain": [
       "  0%|          | 0/31 [00:00<?, ?it/s]"
      ]
     },
     "metadata": {},
     "output_type": "display_data"
    },
    {
     "name": "stdout",
     "output_type": "stream",
     "text": [
      "================== 보성군 기상 데이터 크롤링 진행 ===================\n"
     ]
    },
    {
     "data": {
      "application/vnd.jupyter.widget-view+json": {
       "model_id": "363a165cc10942ad94fbe79559cad7af",
       "version_major": 2,
       "version_minor": 0
      },
      "text/plain": [
       "  0%|          | 0/31 [00:00<?, ?it/s]"
      ]
     },
     "metadata": {},
     "output_type": "display_data"
    },
    {
     "name": "stdout",
     "output_type": "stream",
     "text": [
      "================== 강진군 기상 데이터 크롤링 진행 ===================\n"
     ]
    },
    {
     "data": {
      "application/vnd.jupyter.widget-view+json": {
       "model_id": "667efce4194f4f4d91d70b5c9bd60a37",
       "version_major": 2,
       "version_minor": 0
      },
      "text/plain": [
       "  0%|          | 0/31 [00:00<?, ?it/s]"
      ]
     },
     "metadata": {},
     "output_type": "display_data"
    },
    {
     "name": "stdout",
     "output_type": "stream",
     "text": [
      "=================== 장흥 기상 데이터 크롤링 진행 ===================\n"
     ]
    },
    {
     "data": {
      "application/vnd.jupyter.widget-view+json": {
       "model_id": "b9991bc949394ec58241262413160841",
       "version_major": 2,
       "version_minor": 0
      },
      "text/plain": [
       "  0%|          | 0/31 [00:00<?, ?it/s]"
      ]
     },
     "metadata": {},
     "output_type": "display_data"
    },
    {
     "name": "stdout",
     "output_type": "stream",
     "text": [
      "=================== 해남 기상 데이터 크롤링 진행 ===================\n"
     ]
    },
    {
     "data": {
      "application/vnd.jupyter.widget-view+json": {
       "model_id": "959acdafd183466d80bd97780223e3a4",
       "version_major": 2,
       "version_minor": 0
      },
      "text/plain": [
       "  0%|          | 0/31 [00:00<?, ?it/s]"
      ]
     },
     "metadata": {},
     "output_type": "display_data"
    },
    {
     "name": "stdout",
     "output_type": "stream",
     "text": [
      "=================== 고흥 기상 데이터 크롤링 진행 ===================\n"
     ]
    },
    {
     "data": {
      "application/vnd.jupyter.widget-view+json": {
       "model_id": "385a738cbba448bd98effd62c72058d7",
       "version_major": 2,
       "version_minor": 0
      },
      "text/plain": [
       "  0%|          | 0/31 [00:00<?, ?it/s]"
      ]
     },
     "metadata": {},
     "output_type": "display_data"
    },
    {
     "name": "stdout",
     "output_type": "stream",
     "text": [
      "================== 의령군 기상 데이터 크롤링 진행 ===================\n"
     ]
    },
    {
     "data": {
      "application/vnd.jupyter.widget-view+json": {
       "model_id": "976a3058a86142849adac540522c7f03",
       "version_major": 2,
       "version_minor": 0
      },
      "text/plain": [
       "  0%|          | 0/31 [00:00<?, ?it/s]"
      ]
     },
     "metadata": {},
     "output_type": "display_data"
    },
    {
     "name": "stdout",
     "output_type": "stream",
     "text": [
      "================== 함양군 기상 데이터 크롤링 진행 ===================\n"
     ]
    },
    {
     "data": {
      "application/vnd.jupyter.widget-view+json": {
       "model_id": "dc8893c1161e4fd3b4e59cf3772cbf2b",
       "version_major": 2,
       "version_minor": 0
      },
      "text/plain": [
       "  0%|          | 0/31 [00:00<?, ?it/s]"
      ]
     },
     "metadata": {},
     "output_type": "display_data"
    },
    {
     "name": "stdout",
     "output_type": "stream",
     "text": [
      "================== 광양시 기상 데이터 크롤링 진행 ===================\n"
     ]
    },
    {
     "data": {
      "application/vnd.jupyter.widget-view+json": {
       "model_id": "4f72bd85913544c8a175ef79aa4855c5",
       "version_major": 2,
       "version_minor": 0
      },
      "text/plain": [
       "  0%|          | 0/31 [00:00<?, ?it/s]"
      ]
     },
     "metadata": {},
     "output_type": "display_data"
    },
    {
     "name": "stdout",
     "output_type": "stream",
     "text": [
      "================== 진도군 기상 데이터 크롤링 진행 ===================\n"
     ]
    },
    {
     "data": {
      "application/vnd.jupyter.widget-view+json": {
       "model_id": "8d1da8d1e8a847258a2525708f6d3d3d",
       "version_major": 2,
       "version_minor": 0
      },
      "text/plain": [
       "  0%|          | 0/31 [00:00<?, ?it/s]"
      ]
     },
     "metadata": {},
     "output_type": "display_data"
    }
   ],
   "source": [
    "obs_dict_global_5 = {}\n",
    "obs_dict_global_list_5 = np.setdiff1d(np.arange(250, 270), [105, 129, 152, 175, 192])\n",
    "for loc_num in tqdm(obs_dict_global_list_5): # 전체\n",
    "    obs_dict_global_5[loc_num] = make_df(str(loc_num))"
   ]
  },
  {
   "cell_type": "code",
   "execution_count": 26,
   "metadata": {},
   "outputs": [],
   "source": [
    "with open('../pkl/obs_dict_global_5.pickle','wb') as fw:\n",
    "    pickle.dump(obs_dict_global_5, fw)"
   ]
  },
  {
   "cell_type": "code",
   "execution_count": 28,
   "metadata": {},
   "outputs": [
    {
     "data": {
      "application/vnd.jupyter.widget-view+json": {
       "model_id": "f77648a2068f4bcfa8b4202074345a4f",
       "version_major": 2,
       "version_minor": 0
      },
      "text/plain": [
       "  0%|          | 0/30 [00:00<?, ?it/s]"
      ]
     },
     "metadata": {},
     "output_type": "display_data"
    },
    {
     "name": "stdout",
     "output_type": "stream",
     "text": [
      "=================== 봉화 기상 데이터 크롤링 진행 ===================\n"
     ]
    },
    {
     "data": {
      "application/vnd.jupyter.widget-view+json": {
       "model_id": "90d8f8f923c74f279a3e40bd128122d2",
       "version_major": 2,
       "version_minor": 0
      },
      "text/plain": [
       "  0%|          | 0/31 [00:00<?, ?it/s]"
      ]
     },
     "metadata": {},
     "output_type": "display_data"
    },
    {
     "name": "stdout",
     "output_type": "stream",
     "text": [
      "=================== 영주 기상 데이터 크롤링 진행 ===================\n"
     ]
    },
    {
     "data": {
      "application/vnd.jupyter.widget-view+json": {
       "model_id": "3fd501e9e20143dea38267ffbede40aa",
       "version_major": 2,
       "version_minor": 0
      },
      "text/plain": [
       "  0%|          | 0/31 [00:00<?, ?it/s]"
      ]
     },
     "metadata": {},
     "output_type": "display_data"
    },
    {
     "name": "stdout",
     "output_type": "stream",
     "text": [
      "=================== 문경 기상 데이터 크롤링 진행 ===================\n"
     ]
    },
    {
     "data": {
      "application/vnd.jupyter.widget-view+json": {
       "model_id": "a072f731fafb4669942863a04f89d5fb",
       "version_major": 2,
       "version_minor": 0
      },
      "text/plain": [
       "  0%|          | 0/31 [00:00<?, ?it/s]"
      ]
     },
     "metadata": {},
     "output_type": "display_data"
    },
    {
     "name": "stdout",
     "output_type": "stream",
     "text": [
      "================== 청송군 기상 데이터 크롤링 진행 ===================\n"
     ]
    },
    {
     "data": {
      "application/vnd.jupyter.widget-view+json": {
       "model_id": "e6c78d4b3d884f44bc660d8e1bcba8fe",
       "version_major": 2,
       "version_minor": 0
      },
      "text/plain": [
       "  0%|          | 0/31 [00:00<?, ?it/s]"
      ]
     },
     "metadata": {},
     "output_type": "display_data"
    },
    {
     "name": "stdout",
     "output_type": "stream",
     "text": [
      "=================== 영덕 기상 데이터 크롤링 진행 ===================\n"
     ]
    },
    {
     "data": {
      "application/vnd.jupyter.widget-view+json": {
       "model_id": "4b22d2d6ad834fd192edb6ba563d6fb9",
       "version_major": 2,
       "version_minor": 0
      },
      "text/plain": [
       "  0%|          | 0/31 [00:00<?, ?it/s]"
      ]
     },
     "metadata": {},
     "output_type": "display_data"
    },
    {
     "name": "stdout",
     "output_type": "stream",
     "text": [
      "=================== 의성 기상 데이터 크롤링 진행 ===================\n"
     ]
    },
    {
     "data": {
      "application/vnd.jupyter.widget-view+json": {
       "model_id": "43877c0dc04240479925cb6818a3a23d",
       "version_major": 2,
       "version_minor": 0
      },
      "text/plain": [
       "  0%|          | 0/31 [00:00<?, ?it/s]"
      ]
     },
     "metadata": {},
     "output_type": "display_data"
    },
    {
     "name": "stdout",
     "output_type": "stream",
     "text": [
      "=================== 구미 기상 데이터 크롤링 진행 ===================\n"
     ]
    },
    {
     "data": {
      "application/vnd.jupyter.widget-view+json": {
       "model_id": "0324d8e119ed4bf2a4033e739a4441dd",
       "version_major": 2,
       "version_minor": 0
      },
      "text/plain": [
       "  0%|          | 0/31 [00:00<?, ?it/s]"
      ]
     },
     "metadata": {},
     "output_type": "display_data"
    },
    {
     "name": "stdout",
     "output_type": "stream",
     "text": [
      "=================== 영천 기상 데이터 크롤링 진행 ===================\n"
     ]
    },
    {
     "data": {
      "application/vnd.jupyter.widget-view+json": {
       "model_id": "22c85699cebc4813bee1facd2fa71bcf",
       "version_major": 2,
       "version_minor": 0
      },
      "text/plain": [
       "  0%|          | 0/31 [00:00<?, ?it/s]"
      ]
     },
     "metadata": {},
     "output_type": "display_data"
    },
    {
     "name": "stdout",
     "output_type": "stream",
     "text": [
      "================== 경주시 기상 데이터 크롤링 진행 ===================\n"
     ]
    },
    {
     "data": {
      "application/vnd.jupyter.widget-view+json": {
       "model_id": "5726df639be54a7f8572f36e210c54c1",
       "version_major": 2,
       "version_minor": 0
      },
      "text/plain": [
       "  0%|          | 0/31 [00:00<?, ?it/s]"
      ]
     },
     "metadata": {},
     "output_type": "display_data"
    },
    {
     "name": "stdout",
     "output_type": "stream",
     "text": [
      "=================== 거창 기상 데이터 크롤링 진행 ===================\n"
     ]
    },
    {
     "data": {
      "application/vnd.jupyter.widget-view+json": {
       "model_id": "090bc3b63b544e95a565476aa8c907b0",
       "version_major": 2,
       "version_minor": 0
      },
      "text/plain": [
       "  0%|          | 0/31 [00:00<?, ?it/s]"
      ]
     },
     "metadata": {},
     "output_type": "display_data"
    },
    {
     "name": "stdout",
     "output_type": "stream",
     "text": [
      "=================== 합천 기상 데이터 크롤링 진행 ===================\n"
     ]
    },
    {
     "data": {
      "application/vnd.jupyter.widget-view+json": {
       "model_id": "46b6e5f8ca3343419b1c79d3a1ba1e0f",
       "version_major": 2,
       "version_minor": 0
      },
      "text/plain": [
       "  0%|          | 0/31 [00:00<?, ?it/s]"
      ]
     },
     "metadata": {},
     "output_type": "display_data"
    },
    {
     "name": "stdout",
     "output_type": "stream",
     "text": [
      "=================== 밀양 기상 데이터 크롤링 진행 ===================\n"
     ]
    },
    {
     "data": {
      "application/vnd.jupyter.widget-view+json": {
       "model_id": "0321b621c97c45caa325e5aac7d8e48e",
       "version_major": 2,
       "version_minor": 0
      },
      "text/plain": [
       "  0%|          | 0/31 [00:00<?, ?it/s]"
      ]
     },
     "metadata": {},
     "output_type": "display_data"
    },
    {
     "name": "stdout",
     "output_type": "stream",
     "text": [
      "=================== 산청 기상 데이터 크롤링 진행 ===================\n"
     ]
    },
    {
     "data": {
      "application/vnd.jupyter.widget-view+json": {
       "model_id": "88542080ffec4caaad0c8bbf2f7cb7c8",
       "version_major": 2,
       "version_minor": 0
      },
      "text/plain": [
       "  0%|          | 0/31 [00:00<?, ?it/s]"
      ]
     },
     "metadata": {},
     "output_type": "display_data"
    },
    {
     "name": "stdout",
     "output_type": "stream",
     "text": [
      "=================== 거제 기상 데이터 크롤링 진행 ===================\n"
     ]
    },
    {
     "data": {
      "application/vnd.jupyter.widget-view+json": {
       "model_id": "dd9aff4c63e44e648a371b02881c9850",
       "version_major": 2,
       "version_minor": 0
      },
      "text/plain": [
       "  0%|          | 0/31 [00:00<?, ?it/s]"
      ]
     },
     "metadata": {},
     "output_type": "display_data"
    },
    {
     "name": "stdout",
     "output_type": "stream",
     "text": [
      "=================== 남해 기상 데이터 크롤링 진행 ===================\n"
     ]
    },
    {
     "data": {
      "application/vnd.jupyter.widget-view+json": {
       "model_id": "37edfaeeaabe4a4ca34e7471c1e67bc3",
       "version_major": 2,
       "version_minor": 0
      },
      "text/plain": [
       "  0%|          | 0/31 [00:00<?, ?it/s]"
      ]
     },
     "metadata": {},
     "output_type": "display_data"
    }
   ],
   "source": [
    "obs_dict_global_6 = {}\n",
    "obs_dict_global_list_6 = np.setdiff1d(np.arange(270, 300), [105, 129, 152, 175, 192])\n",
    "for loc_num in tqdm(obs_dict_global_list_6): # 전체\n",
    "    obs_dict_global_6[loc_num] = make_df(str(loc_num))"
   ]
  },
  {
   "cell_type": "code",
   "execution_count": 30,
   "metadata": {},
   "outputs": [],
   "source": [
    "with open('../pkl/obs_dict_global_6.pickle','wb') as fw:\n",
    "    pickle.dump(obs_dict_global_6, fw)"
   ]
  },
  {
   "cell_type": "markdown",
   "metadata": {},
   "source": [
    "# ==========================================================="
   ]
  },
  {
   "cell_type": "markdown",
   "metadata": {},
   "source": [
    "# ==========================================================="
   ]
  },
  {
   "cell_type": "markdown",
   "metadata": {},
   "source": [
    "# ==========================================================="
   ]
  },
  {
   "cell_type": "markdown",
   "metadata": {},
   "source": [
    "# ==========================================================="
   ]
  },
  {
   "cell_type": "markdown",
   "metadata": {},
   "source": [
    "# ==========================================================="
   ]
  },
  {
   "cell_type": "markdown",
   "metadata": {},
   "source": [
    "# ==========================================================="
   ]
  },
  {
   "cell_type": "markdown",
   "metadata": {},
   "source": [
    "# Removed Code"
   ]
  },
  {
   "cell_type": "code",
   "execution_count": null,
   "metadata": {},
   "outputs": [],
   "source": [
    "# 기상청에서 1000row 이상의 데이터를 가져오지 못하므로 960(24*40)개씩 가져오기 위한 코드    \n",
    "def make_sub_df(start_date, location):\n",
    "    queryParams = '?' + urllib.parse.urlencode({quote_plus('ServiceKey') : ServiceKey1,\n",
    "                                            quote_plus('pageNo') : '1',\n",
    "                                            quote_plus('numOfRows') : '960', \n",
    "                                            quote_plus('dataType') : 'JSON', \n",
    "                                            quote_plus('dataCd') : 'ASOS', \n",
    "                                            quote_plus('dateCd') : 'HR', \n",
    "                                            quote_plus('startDt') : start_date, \n",
    "                                            quote_plus('startHh') : '01', \n",
    "                                            quote_plus('endDt') : '20200701', \n",
    "                                            quote_plus('endHh') : '00', \n",
    "                                            quote_plus('stnIds') : location})\n",
    "    response = urlopen(url + queryParams).read()\n",
    "    response = json.loads(response)\n",
    "    if response['response']['header']['resultMsg']==('NO_DATA'):\n",
    "        return 0\n",
    "    obs_df = pd.DataFrame()\n",
    "    obs_df['time'] = pd.date_range(start=start_date+' 01:00:00', periods=960, freq='H') # 날짜 컬럼 생성\n",
    "    for i, data in enumerate(response['response']['body']['items']['item']):\n",
    "        obs_df.loc[i, 'location_number'] = data['stnId']\n",
    "        obs_df.loc[i, 'location_name'] = data['stnNm']\n",
    "        obs_df.loc[i, 'cloud_type'] = data['clfmAbbrCd'] # 운형\n",
    "        obs_df.loc[i, 'temp'] = data['ta'] # 온도\n",
    "        obs_df.loc[i, 'temp_30cm'] = data['m03Te'] # 30cm 지중온도\n",
    "        obs_df.loc[i, 'temp_20cm'] = data['m02Te'] # 20cm 지중온도\n",
    "        obs_df.loc[i, 'temp_10cm'] = data['m01Te'] # 10cm 지중온도\n",
    "        obs_df.loc[i, 'temp_5cm'] = data['m005Te'] # 5cm 지중온도\n",
    "        obs_df.loc[i, 'temp_surf'] = data['ts'] # 지면온도\n",
    "        obs_df.loc[i, 'dew_point'] = data['td'] # 이슬점온도\n",
    "        obs_df.loc[i, 'cloud_low'] = data['dc10LmcsCa'] # 중하층운량\n",
    "        obs_df.loc[i, 'cloud_all'] = data['dc10Tca'] # 전운량, 선형보간\n",
    "        obs_df.loc[i, 'snow'] = data['dsnw'] # 적설량\n",
    "        obs_df.loc[i, 'radiation'] = data['dc10LmcsCa'] # 일사량\n",
    "        obs_df.loc[i, 'sunshine'] = data['ss'] # 일조량\n",
    "        obs_df.loc[i, 'pressure_sea'] = data['ps'] # 해면기압\n",
    "        obs_df.loc[i, 'pressure_local'] = data['pa'] # 현지기압\n",
    "        obs_df.loc[i, 'pressure_vapor'] = data['pv'] # 증기압\n",
    "        obs_df.loc[i, 'humidity'] = data['hm'] # 습도\n",
    "        obs_df.loc[i, 'wind_direction'] = data['wd'] # 풍향\n",
    "        obs_df.loc[i, 'wind_speed'] = data['ws'] # 풍속\n",
    "        obs_df.loc[i, 'precipitation'] = data['rn'] # 강수량\n",
    "        \n",
    "        # 전처리\n",
    "        obs_df.loc[:, 'cloud_type'] = obs_df['cloud_type'].replace('', 'Def')\n",
    "        obs_df.loc[:, 'cloud_all'] = obs_df['cloud_all'].replace('', np.nan).interpolate().fillna(0)\n",
    "        obs_df.loc[:, ['snow', 'sunshine', 'precipitation']] = \\\n",
    "                            obs_df[['snow', 'sunshine', 'precipitation']].replace('', 0)\n",
    "        obs_df.iloc[:, 4:] = obs_df.replace('', np.nan).iloc[:, 4:]\n",
    "        \n",
    "    return obs_df"
   ]
  },
  {
   "cell_type": "code",
   "execution_count": null,
   "metadata": {},
   "outputs": [],
   "source": [
    "def make_df(location):\n",
    "    obs_df_total = make_sub_df(start_date_list[0], location)\n",
    "    if type(obs_df_total)!=pd.DataFrame:\n",
    "        return None\n",
    "    for i, date in enumerate(tqdm(start_date_list[1:])):\n",
    "        obs_df_total = pd.concat([obs_df_total, make_sub_df(start_date_list[i], location)])\n",
    "    obs_df_total = obs_df_total.reset_index(drop=True)\n",
    "    obs_df_total = obs_df_total[obs_df_total['location_number'].isna()!=True].reset_index(drop=True)\n",
    "    #obs_df_total = obs_df_total.drop(\n",
    "    #    list(obs_df_total.isna().sum()[obs_df_total.isna().sum()>=len(obs_df_total)/3].index), axis=1)\n",
    "    #obs_df_total.dropna(inplace=True)\n",
    "    obs_df_total = obs_df_total.reset_index(drop=True)\n",
    "    obs_df_total.iloc[:, 4:] = obs_df_total.iloc[:, 4:].astype('float16')\n",
    "    return obs_df_total"
   ]
  }
 ],
 "metadata": {
  "colab": {
   "authorship_tag": "ABX9TyNu2RM5sq+IgGi5Ebl5MKW7",
   "collapsed_sections": [],
   "include_colab_link": true,
   "mount_file_id": "1LEHoX8vENlJtGxsG19CH-nmGe9vgQs76",
   "name": "동네예보 API",
   "provenance": []
  },
  "kernelspec": {
   "display_name": "Python 3",
   "language": "python",
   "name": "python3"
  },
  "language_info": {
   "codemirror_mode": {
    "name": "ipython",
    "version": 3
   },
   "file_extension": ".py",
   "mimetype": "text/x-python",
   "name": "python",
   "nbconvert_exporter": "python",
   "pygments_lexer": "ipython3",
   "version": "3.8.8"
  }
 },
 "nbformat": 4,
 "nbformat_minor": 1
}
